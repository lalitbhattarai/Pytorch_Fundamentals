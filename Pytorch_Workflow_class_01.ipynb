{
  "nbformat": 4,
  "nbformat_minor": 0,
  "metadata": {
    "colab": {
      "provenance": [],
      "authorship_tag": "ABX9TyPxfhrCG2jFEHrZ8X3C+QPO",
      "include_colab_link": true
    },
    "kernelspec": {
      "name": "python3",
      "display_name": "Python 3"
    },
    "language_info": {
      "name": "python"
    }
  },
  "cells": [
    {
      "cell_type": "markdown",
      "metadata": {
        "id": "view-in-github",
        "colab_type": "text"
      },
      "source": [
        "<a href=\"https://colab.research.google.com/github/lalitbhattarai/Pytorch_Fundamentals/blob/main/Pytorch_Workflow_class_01.ipynb\" target=\"_parent\"><img src=\"https://colab.research.google.com/assets/colab-badge.svg\" alt=\"Open In Colab\"/></a>"
      ]
    },
    {
      "cell_type": "markdown",
      "source": [
        "## 1. Pytorch Worlflow\n",
        "\n",
        "\n",
        "lets explore a an example PyTorch end-to-end workflow\n"
      ],
      "metadata": {
        "id": "S0Z3jJrDpStG"
      }
    },
    {
      "cell_type": "code",
      "execution_count": 1,
      "metadata": {
        "id": "yWr4h7z4vjj7",
        "colab": {
          "base_uri": "https://localhost:8080/"
        },
        "outputId": "cb09b572-eecc-450e-be18-0a8d9955e54e"
      },
      "outputs": [
        {
          "output_type": "execute_result",
          "data": {
            "text/plain": [
              "{1: 'data (prepare and load)',\n",
              " 2: 'bulid model',\n",
              " 3: 'fitting the model to data(training)',\n",
              " 4: 'making prediction and evalution a model (interfrence)',\n",
              " 5: 'saving and loading a model',\n",
              " 6: 'putting it all together'}"
            ]
          },
          "metadata": {},
          "execution_count": 1
        }
      ],
      "source": [
        "Covered_in_Pytorch_notrbook={ 1: \"data (prepare and load)\",\n",
        "                              2:\"bulid model\",\n",
        "                              3:\"fitting the model to data(training)\",\n",
        "                              4:\"making prediction and evalution a model (interfrence)\",\n",
        "                              5:\"saving and loading a model\",\n",
        "6:\"putting it all together\"}\n",
        "Covered_in_Pytorch_notrbook\n",
        "\n"
      ]
    },
    {
      "cell_type": "code",
      "source": [
        "import torch\n",
        "from torch import nn #nn cointains all of the Pytorch building blocks fro neural netwoerk\n",
        "import matplotlib.pyplot as plt\n",
        "\n",
        "#Check the version\n",
        "torch.__version__\n"
      ],
      "metadata": {
        "colab": {
          "base_uri": "https://localhost:8080/",
          "height": 36
        },
        "id": "ruDXNe7Bp4Ni",
        "outputId": "2b3b6f73-4823-484b-a14e-20d72c038761"
      },
      "execution_count": 2,
      "outputs": [
        {
          "output_type": "execute_result",
          "data": {
            "text/plain": [
              "'2.5.1+cu124'"
            ],
            "application/vnd.google.colaboratory.intrinsic+json": {
              "type": "string"
            }
          },
          "metadata": {},
          "execution_count": 2
        }
      ]
    },
    {
      "cell_type": "markdown",
      "source": [
        "##Data (Preparing and Loading)\n",
        "\n",
        "data can be almost anything ..in machine learning\n",
        "* Excel spreadsheet\n",
        "* Images of any kind\n",
        "* Vedio (youtube has lots of datas..)\n",
        "* Audio like songs or podcast\n",
        "* DNA\n",
        "* Text\n",
        "\n",
        "Machine learning is a game of two parts:\n",
        "1. Get data into a numerical representation\n",
        "2. Build a model to learn patterns in that numeriacal representation\n",
        "\n",
        "TO showcase this let's create some known data using the linear regression formula.\n",
        "\n",
        "We'll use a lineaner regresion formula to make a straight line with *known*\n",
        "**parameters**"
      ],
      "metadata": {
        "id": "-05O9sUrq8x8"
      }
    },
    {
      "cell_type": "code",
      "source": [
        "#Create  *known* pareters\n",
        "weight=0.7\n",
        "bias=0.3\n",
        "\n",
        "#create\n",
        "start=0\n",
        "end=1\n",
        "step=0.02\n",
        "X=torch.arange(start,end,step) .unsqueeze(dim=1)\n",
        "y=weight*X + bias\n",
        "X[:10] ,y[:10]"
      ],
      "metadata": {
        "colab": {
          "base_uri": "https://localhost:8080/"
        },
        "id": "VEImmxDortph",
        "outputId": "7a66c3dc-7fef-4369-b94e-58b366a7e5e2"
      },
      "execution_count": 3,
      "outputs": [
        {
          "output_type": "execute_result",
          "data": {
            "text/plain": [
              "(tensor([[0.0000],\n",
              "         [0.0200],\n",
              "         [0.0400],\n",
              "         [0.0600],\n",
              "         [0.0800],\n",
              "         [0.1000],\n",
              "         [0.1200],\n",
              "         [0.1400],\n",
              "         [0.1600],\n",
              "         [0.1800]]),\n",
              " tensor([[0.3000],\n",
              "         [0.3140],\n",
              "         [0.3280],\n",
              "         [0.3420],\n",
              "         [0.3560],\n",
              "         [0.3700],\n",
              "         [0.3840],\n",
              "         [0.3980],\n",
              "         [0.4120],\n",
              "         [0.4260]]))"
            ]
          },
          "metadata": {},
          "execution_count": 3
        }
      ]
    },
    {
      "cell_type": "code",
      "source": [
        "len(X),len(y)"
      ],
      "metadata": {
        "colab": {
          "base_uri": "https://localhost:8080/"
        },
        "id": "mj1n3yG9wCXe",
        "outputId": "d10ca3a4-b4ca-4e90-8be3-2617d7e63b54"
      },
      "execution_count": 4,
      "outputs": [
        {
          "output_type": "execute_result",
          "data": {
            "text/plain": [
              "(50, 50)"
            ]
          },
          "metadata": {},
          "execution_count": 4
        }
      ]
    },
    {
      "cell_type": "markdown",
      "source": [
        "### Splitting Data into training and tests sets (one of the most importanceconcepts in general)\n",
        "Let's create  atraining and test set with our data\n",
        "\n",
        "\n",
        "\n"
      ],
      "metadata": {
        "id": "wOxf1AWFFl22"
      }
    },
    {
      "cell_type": "code",
      "source": [
        "#Craate atrain/test Split\n",
        "train_split =int(0.8 * len(X))\n",
        "X_train ,y_train=X[:train_split],y[:train_split]\n",
        "X_test,y_test=X[train_split:],y[train_split:]\n",
        "len(X_train),len(y_train),len(X_test),len(y_test)\n"
      ],
      "metadata": {
        "colab": {
          "base_uri": "https://localhost:8080/"
        },
        "id": "F-fIe6D_G7dw",
        "outputId": "972d0ed5-8126-4f1f-e721-100a8c165180"
      },
      "execution_count": 6,
      "outputs": [
        {
          "output_type": "execute_result",
          "data": {
            "text/plain": [
              "(40, 40, 10, 10)"
            ]
          },
          "metadata": {},
          "execution_count": 6
        }
      ]
    },
    {
      "cell_type": "code",
      "source": [
        "X_train,y_train"
      ],
      "metadata": {
        "colab": {
          "base_uri": "https://localhost:8080/"
        },
        "id": "1LCDKOn-Hiev",
        "outputId": "ec3a5d25-43a2-46e8-e676-e2264fe52b08"
      },
      "execution_count": 7,
      "outputs": [
        {
          "output_type": "execute_result",
          "data": {
            "text/plain": [
              "(tensor([[0.0000],\n",
              "         [0.0200],\n",
              "         [0.0400],\n",
              "         [0.0600],\n",
              "         [0.0800],\n",
              "         [0.1000],\n",
              "         [0.1200],\n",
              "         [0.1400],\n",
              "         [0.1600],\n",
              "         [0.1800],\n",
              "         [0.2000],\n",
              "         [0.2200],\n",
              "         [0.2400],\n",
              "         [0.2600],\n",
              "         [0.2800],\n",
              "         [0.3000],\n",
              "         [0.3200],\n",
              "         [0.3400],\n",
              "         [0.3600],\n",
              "         [0.3800],\n",
              "         [0.4000],\n",
              "         [0.4200],\n",
              "         [0.4400],\n",
              "         [0.4600],\n",
              "         [0.4800],\n",
              "         [0.5000],\n",
              "         [0.5200],\n",
              "         [0.5400],\n",
              "         [0.5600],\n",
              "         [0.5800],\n",
              "         [0.6000],\n",
              "         [0.6200],\n",
              "         [0.6400],\n",
              "         [0.6600],\n",
              "         [0.6800],\n",
              "         [0.7000],\n",
              "         [0.7200],\n",
              "         [0.7400],\n",
              "         [0.7600],\n",
              "         [0.7800]]),\n",
              " tensor([[0.3000],\n",
              "         [0.3140],\n",
              "         [0.3280],\n",
              "         [0.3420],\n",
              "         [0.3560],\n",
              "         [0.3700],\n",
              "         [0.3840],\n",
              "         [0.3980],\n",
              "         [0.4120],\n",
              "         [0.4260],\n",
              "         [0.4400],\n",
              "         [0.4540],\n",
              "         [0.4680],\n",
              "         [0.4820],\n",
              "         [0.4960],\n",
              "         [0.5100],\n",
              "         [0.5240],\n",
              "         [0.5380],\n",
              "         [0.5520],\n",
              "         [0.5660],\n",
              "         [0.5800],\n",
              "         [0.5940],\n",
              "         [0.6080],\n",
              "         [0.6220],\n",
              "         [0.6360],\n",
              "         [0.6500],\n",
              "         [0.6640],\n",
              "         [0.6780],\n",
              "         [0.6920],\n",
              "         [0.7060],\n",
              "         [0.7200],\n",
              "         [0.7340],\n",
              "         [0.7480],\n",
              "         [0.7620],\n",
              "         [0.7760],\n",
              "         [0.7900],\n",
              "         [0.8040],\n",
              "         [0.8180],\n",
              "         [0.8320],\n",
              "         [0.8460]]))"
            ]
          },
          "metadata": {},
          "execution_count": 7
        }
      ]
    },
    {
      "cell_type": "markdown",
      "source": [
        "How might we better visualize our data?\n",
        "\n",
        "This is where the data explorer's motto comses in!\n",
        "\n",
        "\"Visualize\",\"Visualizze\",\"Visualize\""
      ],
      "metadata": {
        "id": "G90iGHHzJD77"
      }
    },
    {
      "cell_type": "code",
      "source": [
        "import matplotlib.pyplot as plt\n",
        "\n",
        "def plot_predictions(train_data=X_train,\n",
        "                     train_labels=y_train,\n",
        "                     test_data=X_test,\n",
        "                     test_labels=y_test,\n",
        "                     predictions=None):\n",
        "    \"\"\"\n",
        "    Plots training data, test data, and compares predictions.\n",
        "    \"\"\"\n",
        "    plt.figure(figsize=(10,7))\n",
        "\n",
        "    # Plot training data in blue\n",
        "    plt.scatter(train_data, train_labels, c=\"b\", s=12, label=\"Training Data\")\n",
        "\n",
        "    # Plot test data in red (Fixed incorrect y-axis)\n",
        "    plt.scatter(test_data, test_labels, c=\"g\", s=12, label=\"Test Data\")\n",
        "\n",
        "    # Plot predictions if available\n",
        "    if predictions is not None:\n",
        "        plt.scatter(test_data, predictions, c=\"r\", s=12, label=\"Predictions\")\n",
        "\n",
        "    # Show the legend\n",
        "    plt.legend(prop={\"size\":14})\n",
        "\n"
      ],
      "metadata": {
        "id": "Sv4Son59JcjF"
      },
      "execution_count": 34,
      "outputs": []
    },
    {
      "cell_type": "code",
      "source": [
        "plot_predictions();"
      ],
      "metadata": {
        "colab": {
          "base_uri": "https://localhost:8080/",
          "height": 471
        },
        "id": "sHX5oRVONkLm",
        "outputId": "6cdde0f5-76cb-47d5-cdb0-729d1802d4a7"
      },
      "execution_count": 35,
      "outputs": [
        {
          "output_type": "display_data",
          "data": {
            "text/plain": [
              "<Figure size 1000x700 with 1 Axes>"
            ],
            "image/png": "[encoded data removed]"
          },
          "metadata": {}
        }
      ]
    },
    {
      "cell_type": "markdown",
      "source": [
        "## 2. Bulid Model\n",
        "Our first PyTorch model!\n",
        "  \n",
        "What does my model do?\n",
        "* start with random values (weight and Bias\n",
        "* Look at training data and adjust the random values to better\n",
        "* look at training data and adjust the random values to better represent (or get closer to) the ideal vvalues (the weight and biasvalues we used to create the data )\n",
        "\n",
        "How does it do so?(Algorithms)\n",
        "\n",
        "1. Gradient decents\n",
        "2. BackPropagation"
      ],
      "metadata": {
        "id": "UODaEEbARuXJ"
      }
    },
    {
      "cell_type": "code",
      "source": [
        "#Create a linear regression model class\n",
        "import torch\n",
        "import torch.nn as nn\n",
        "\n",
        "\n",
        "class LinearRegressionModel(nn.Module):  #almost everything in pytorch is inheriate form nn\n",
        "    def __init__(self):\n",
        "        super().__init__()\n",
        "        self.weight =nn.Parameter(torch.rand(1,\n",
        "                                         requires_grad=True,\n",
        "                                         dtype=torch.float))\n",
        "\n",
        "        self.bias =nn.parameter(torch.rand(1,\n",
        "                                           requires_grad=True,\n",
        "                                           dtype=torch))\n",
        "\n",
        "\n",
        "        #FOrward ,ethod to define the computational in the model\n",
        "\n",
        "        def forward(self,x:torch.tensor) ->torch.Tensor:  #x is input data here\n",
        "            return self.weight * x + self.bias  #This is a linear regression formula\n",
        "\n",
        "\n"
      ],
      "metadata": {
        "id": "3fELv9hQTBsJ"
      },
      "execution_count": 40,
      "outputs": []
    },
    {
      "cell_type": "code",
      "source": [],
      "metadata": {
        "id": "cIu114R7adiG"
      },
      "execution_count": 41,
      "outputs": []
    }
  ]
}