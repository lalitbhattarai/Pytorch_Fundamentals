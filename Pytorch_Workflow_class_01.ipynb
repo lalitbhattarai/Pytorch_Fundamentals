{
  "nbformat": 4,
  "nbformat_minor": 0,
  "metadata": {
    "colab": {
      "provenance": [],
      "authorship_tag": "ABX9TyMgKox0nWKiwz2FoLc8VKZp",
      "include_colab_link": true
    },
    "kernelspec": {
      "name": "python3",
      "display_name": "Python 3"
    },
    "language_info": {
      "name": "python"
    }
  },
  "cells": [
    {
      "cell_type": "markdown",
      "metadata": {
        "id": "view-in-github",
        "colab_type": "text"
      },
      "source": [
        "<a href=\"https://colab.research.google.com/github/lalitbhattarai/Pytorch_Fundamentals/blob/main/Pytorch_Workflow_class_01.ipynb\" target=\"_parent\"><img src=\"https://colab.research.google.com/assets/colab-badge.svg\" alt=\"Open In Colab\"/></a>"
      ]
    },
    {
      "cell_type": "markdown",
      "source": [
        "## 1. Pytorch Worlflow\n",
        "\n",
        "\n",
        "lets explore a an example PyTorch end-to-end workflow\n"
      ],
      "metadata": {
        "id": "S0Z3jJrDpStG"
      }
    },
    {
      "cell_type": "code",
      "execution_count": 1,
      "metadata": {
        "id": "yWr4h7z4vjj7",
        "colab": {
          "base_uri": "https://localhost:8080/"
        },
        "outputId": "e0c27e39-7904-4e2c-d5c5-256db2a720af"
      },
      "outputs": [
        {
          "output_type": "execute_result",
          "data": {
            "text/plain": [
              "{1: 'data (prepare and load)',\n",
              " 2: 'bulid model',\n",
              " 3: 'fitting the model to data(training)',\n",
              " 4: 'making prediction and evalution a model (interfrence)',\n",
              " 5: 'saving and loading a model',\n",
              " 6: 'putting it all together'}"
            ]
          },
          "metadata": {},
          "execution_count": 1
        }
      ],
      "source": [
        "Covered_in_Pytorch_notrbook={ 1: \"data (prepare and load)\",\n",
        "                              2:\"bulid model\",\n",
        "                              3:\"fitting the model to data(training)\",\n",
        "                              4:\"making prediction and evalution a model (interfrence)\",\n",
        "                              5:\"saving and loading a model\",\n",
        "6:\"putting it all together\"}\n",
        "Covered_in_Pytorch_notrbook\n",
        "\n"
      ]
    },
    {
      "cell_type": "code",
      "source": [
        "import torch\n",
        "from torch import nn #nn cointains all of the Pytorch building blocks fro neural netwoerk\n",
        "import matplotlib.pyplot as plt\n",
        "\n",
        "#Check the version\n",
        "torch.__version__\n"
      ],
      "metadata": {
        "colab": {
          "base_uri": "https://localhost:8080/",
          "height": 36
        },
        "id": "ruDXNe7Bp4Ni",
        "outputId": "b8438b08-648a-4bb9-efce-ee4e4d09684c"
      },
      "execution_count": 2,
      "outputs": [
        {
          "output_type": "execute_result",
          "data": {
            "text/plain": [
              "'2.5.1+cu124'"
            ],
            "application/vnd.google.colaboratory.intrinsic+json": {
              "type": "string"
            }
          },
          "metadata": {},
          "execution_count": 2
        }
      ]
    },
    {
      "cell_type": "markdown",
      "source": [
        "##Data (Preparing and Loading)\n",
        "\n",
        "data can be almost anything ..in machine learning\n",
        "* Excel spreadsheet\n",
        "* Images of any kind\n",
        "* Vedio (youtube has lots of datas..)\n",
        "* Audio like songs or podcast\n",
        "* DNA\n",
        "* Text\n",
        "\n",
        "Machine learning is a game of two parts:\n",
        "1. Get data into a numerical representation\n",
        "2. Build a model to learn patterns in that numeriacal representation\n",
        "\n",
        "TO showcase this let's create some known data using the linear regression formula.\n",
        "\n",
        "We'll use a lineaner regresion formula to make a straight line with *known*\n",
        "**parameters**"
      ],
      "metadata": {
        "id": "-05O9sUrq8x8"
      }
    },
    {
      "cell_type": "code",
      "source": [
        "#Create  *known* pareters\n",
        "weight=0.7\n",
        "bias=0.3\n",
        "\n",
        "#create\n",
        "start=0\n",
        "end=1\n",
        "step=0.02\n",
        "X=torch.arange(start,end,step) .unsqueeze(dim=1)\n",
        "y=weight*X + bias\n",
        "X[:10] ,y[:10]"
      ],
      "metadata": {
        "colab": {
          "base_uri": "https://localhost:8080/"
        },
        "id": "VEImmxDortph",
        "outputId": "d3a7388e-ece0-4f06-b6e1-cbc6e6b513e5"
      },
      "execution_count": 3,
      "outputs": [
        {
          "output_type": "execute_result",
          "data": {
            "text/plain": [
              "(tensor([[0.0000],\n",
              "         [0.0200],\n",
              "         [0.0400],\n",
              "         [0.0600],\n",
              "         [0.0800],\n",
              "         [0.1000],\n",
              "         [0.1200],\n",
              "         [0.1400],\n",
              "         [0.1600],\n",
              "         [0.1800]]),\n",
              " tensor([[0.3000],\n",
              "         [0.3140],\n",
              "         [0.3280],\n",
              "         [0.3420],\n",
              "         [0.3560],\n",
              "         [0.3700],\n",
              "         [0.3840],\n",
              "         [0.3980],\n",
              "         [0.4120],\n",
              "         [0.4260]]))"
            ]
          },
          "metadata": {},
          "execution_count": 3
        }
      ]
    },
    {
      "cell_type": "code",
      "source": [
        "len(X),len(y)"
      ],
      "metadata": {
        "colab": {
          "base_uri": "https://localhost:8080/"
        },
        "id": "mj1n3yG9wCXe",
        "outputId": "85c2e9f1-1982-4b2c-d924-4f418c594188"
      },
      "execution_count": 4,
      "outputs": [
        {
          "output_type": "execute_result",
          "data": {
            "text/plain": [
              "(50, 50)"
            ]
          },
          "metadata": {},
          "execution_count": 4
        }
      ]
    },
    {
      "cell_type": "markdown",
      "source": [
        "### Splitting Data into training and tests sets (one of the most importanceconcepts in general)\n",
        "Let's create  atraining and test set with our data\n",
        "\n",
        "\n",
        "\n"
      ],
      "metadata": {
        "id": "wOxf1AWFFl22"
      }
    },
    {
      "cell_type": "code",
      "source": [
        "#Craate atrain/test Split\n",
        "train_split =int(0.8 * len(X))\n",
        "X_train ,y_train=X[:train_split],y[:train_split]\n",
        "X_test,y_test=X[train_split:],y[train_split:]\n",
        "len(X_train),len(y_train),len(X_test),len(y_test)\n"
      ],
      "metadata": {
        "colab": {
          "base_uri": "https://localhost:8080/"
        },
        "id": "F-fIe6D_G7dw",
        "outputId": "c57a9ac4-abb6-4185-cc3a-f01b53f3668b"
      },
      "execution_count": 65,
      "outputs": [
        {
          "output_type": "execute_result",
          "data": {
            "text/plain": [
              "(40, 40, 10, 10)"
            ]
          },
          "metadata": {},
          "execution_count": 65
        }
      ]
    },
    {
      "cell_type": "code",
      "source": [
        "X_train,y_train"
      ],
      "metadata": {
        "colab": {
          "base_uri": "https://localhost:8080/"
        },
        "id": "1LCDKOn-Hiev",
        "outputId": "0e356cbc-5397-4453-fad4-a3606fb62668"
      },
      "execution_count": 6,
      "outputs": [
        {
          "output_type": "execute_result",
          "data": {
            "text/plain": [
              "(tensor([[0.0000],\n",
              "         [0.0200],\n",
              "         [0.0400],\n",
              "         [0.0600],\n",
              "         [0.0800],\n",
              "         [0.1000],\n",
              "         [0.1200],\n",
              "         [0.1400],\n",
              "         [0.1600],\n",
              "         [0.1800],\n",
              "         [0.2000],\n",
              "         [0.2200],\n",
              "         [0.2400],\n",
              "         [0.2600],\n",
              "         [0.2800],\n",
              "         [0.3000],\n",
              "         [0.3200],\n",
              "         [0.3400],\n",
              "         [0.3600],\n",
              "         [0.3800],\n",
              "         [0.4000],\n",
              "         [0.4200],\n",
              "         [0.4400],\n",
              "         [0.4600],\n",
              "         [0.4800],\n",
              "         [0.5000],\n",
              "         [0.5200],\n",
              "         [0.5400],\n",
              "         [0.5600],\n",
              "         [0.5800],\n",
              "         [0.6000],\n",
              "         [0.6200],\n",
              "         [0.6400],\n",
              "         [0.6600],\n",
              "         [0.6800],\n",
              "         [0.7000],\n",
              "         [0.7200],\n",
              "         [0.7400],\n",
              "         [0.7600],\n",
              "         [0.7800]]),\n",
              " tensor([[0.3000],\n",
              "         [0.3140],\n",
              "         [0.3280],\n",
              "         [0.3420],\n",
              "         [0.3560],\n",
              "         [0.3700],\n",
              "         [0.3840],\n",
              "         [0.3980],\n",
              "         [0.4120],\n",
              "         [0.4260],\n",
              "         [0.4400],\n",
              "         [0.4540],\n",
              "         [0.4680],\n",
              "         [0.4820],\n",
              "         [0.4960],\n",
              "         [0.5100],\n",
              "         [0.5240],\n",
              "         [0.5380],\n",
              "         [0.5520],\n",
              "         [0.5660],\n",
              "         [0.5800],\n",
              "         [0.5940],\n",
              "         [0.6080],\n",
              "         [0.6220],\n",
              "         [0.6360],\n",
              "         [0.6500],\n",
              "         [0.6640],\n",
              "         [0.6780],\n",
              "         [0.6920],\n",
              "         [0.7060],\n",
              "         [0.7200],\n",
              "         [0.7340],\n",
              "         [0.7480],\n",
              "         [0.7620],\n",
              "         [0.7760],\n",
              "         [0.7900],\n",
              "         [0.8040],\n",
              "         [0.8180],\n",
              "         [0.8320],\n",
              "         [0.8460]]))"
            ]
          },
          "metadata": {},
          "execution_count": 6
        }
      ]
    },
    {
      "cell_type": "code",
      "source": [
        "X_test,y_test"
      ],
      "metadata": {
        "colab": {
          "base_uri": "https://localhost:8080/"
        },
        "id": "OJCZJ7uWxrCe",
        "outputId": "1c5d2868-4466-4679-e484-5466f67e1ad5"
      },
      "execution_count": 66,
      "outputs": [
        {
          "output_type": "execute_result",
          "data": {
            "text/plain": [
              "(tensor([[0.8000],\n",
              "         [0.8200],\n",
              "         [0.8400],\n",
              "         [0.8600],\n",
              "         [0.8800],\n",
              "         [0.9000],\n",
              "         [0.9200],\n",
              "         [0.9400],\n",
              "         [0.9600],\n",
              "         [0.9800]]),\n",
              " tensor([[0.8600],\n",
              "         [0.8740],\n",
              "         [0.8880],\n",
              "         [0.9020],\n",
              "         [0.9160],\n",
              "         [0.9300],\n",
              "         [0.9440],\n",
              "         [0.9580],\n",
              "         [0.9720],\n",
              "         [0.9860]]))"
            ]
          },
          "metadata": {},
          "execution_count": 66
        }
      ]
    },
    {
      "cell_type": "markdown",
      "source": [
        "How might we better visualize our data?\n",
        "\n",
        "This is where the data explorer's motto comses in!\n",
        "\n",
        "\"Visualize\",\"Visualizze\",\"Visualize\""
      ],
      "metadata": {
        "id": "G90iGHHzJD77"
      }
    },
    {
      "cell_type": "code",
      "source": [
        "import matplotlib.pyplot as plt\n",
        "\n",
        "def plot_predictions(train_data=X_train,\n",
        "                     train_labels=y_train,\n",
        "                     test_data=X_test,\n",
        "                     test_labels=y_test,\n",
        "                     predictions=None):\n",
        "    \"\"\"\n",
        "    Plots training data, test data, and compares predictions.\n",
        "    \"\"\"\n",
        "    plt.figure(figsize=(10,7))\n",
        "\n",
        "    # Plot training data in blue\n",
        "    plt.scatter(train_data, train_labels, c=\"b\", s=4, label=\"Training Data\")\n",
        "\n",
        "    # Plot test data in red (Fixed incorrect y-axis)\n",
        "    plt.scatter(test_data, test_labels, c=\"g\", s=4, label=\"Test Data\")\n",
        "\n",
        "    # Plot predictions if available\n",
        "    if predictions is not None:\n",
        "        plt.scatter(test_data, predictions, c=\"r\", s=4, label=\"Predictions\")\n",
        "\n",
        "    # Show the legend\n",
        "    plt.legend(prop={\"size\":14})\n",
        "\n"
      ],
      "metadata": {
        "id": "Sv4Son59JcjF"
      },
      "execution_count": 36,
      "outputs": []
    },
    {
      "cell_type": "code",
      "source": [
        "plot_predictions();"
      ],
      "metadata": {
        "colab": {
          "base_uri": "https://localhost:8080/",
          "height": 599
        },
        "id": "sHX5oRVONkLm",
        "outputId": "e6c8450d-1ad3-4e77-d866-85a070810d79"
      },
      "execution_count": 8,
      "outputs": [
        {
          "output_type": "display_data",
          "data": {
            "text/plain": [
              "<Figure size 1000x700 with 1 Axes>"
            ],
            "image/png": "[encoded data removed]"
          },
          "metadata": {}
        }
      ]
    },
    {
      "cell_type": "markdown",
      "source": [
        "## 2. Bulid Model\n",
        "Our first PyTorch model!\n",
        "  \n",
        "What does my model do?\n",
        "* start with random values (weight and Bias\n",
        "* Look at training data and adjust the random values to better\n",
        "* look at training data and adjust the random values to better represent (or get closer to) the ideal vvalues (the weight and biasvalues we used to create the data )\n",
        "\n",
        "How does it do so?(Algorithms)\n",
        "\n",
        "1. Gradient decents\n",
        "2. BackPropagation"
      ],
      "metadata": {
        "id": "UODaEEbARuXJ"
      }
    },
    {
      "cell_type": "code",
      "source": [
        "#Create a linear regression model class\n",
        "import torch\n",
        "import torch.nn as nn\n",
        "\n",
        "class LinearRegressionModel(nn.Module):  #almost everything in pytorch is inheriate form nn\n",
        "    def __init__(self):\n",
        "        super().__init__()\n",
        "        self.weight =nn.Parameter(torch.rand(1,\n",
        "                                         requires_grad=True,\n",
        "                                         dtype=torch.float))\n",
        "\n",
        "        self.bias =nn.Parameter(torch.rand(1,\n",
        "                                           requires_grad=True,\n",
        "                                           dtype=torch.float))\n",
        "\n",
        "\n",
        "        #FOrward ,ethod to define the computational in the model\n",
        "\n",
        "    def forward(self,x:torch.tensor) ->torch.Tensor:  #x is input data here\n",
        "            return self.weight * x + self.bias  #This is a linear regression formula\n",
        "\n",
        "\n"
      ],
      "metadata": {
        "id": "3fELv9hQTBsJ"
      },
      "execution_count": 72,
      "outputs": []
    },
    {
      "cell_type": "markdown",
      "source": [
        "###Pytorch model building essentials\n",
        "\n",
        "* torch.nn--contains all of the building for computational graphs (a neural network can be considered a computatona; graph)\n",
        "* torch.nn.parameters--what parameter should our model try and learn,often a Pytorch layer from torch.nnwill set these for us\n",
        "* torch.nn.Module--The base class for all neural network modules,if you subclass it,you should overwrite forward()\n",
        "* torch.optim --This where the optimizer inpytorch live,they eill help eith gredient descend\n",
        "* def forward()  --all nn.model subclass requires you to overwrite forward(),this method define what happens in the forward computation"
      ],
      "metadata": {
        "id": "cIu114R7adiG"
      }
    },
    {
      "cell_type": "markdown",
      "source": [
        "### Checking the content of my pytorch model\n",
        "\n",
        "We can check what is in our model by .peramater"
      ],
      "metadata": {
        "id": "uwK6nNVojIHj"
      }
    },
    {
      "cell_type": "code",
      "source": [
        "#create a random seed\n",
        "torch.manual_seed(42)\n",
        "#create an instance of the model (this is a subclass of nn.module)\n",
        "model_0 =LinearRegressionModel()\n",
        "\n",
        "#Check out the paramenter\n",
        "list(model_0.parameters())"
      ],
      "metadata": {
        "colab": {
          "base_uri": "https://localhost:8080/"
        },
        "id": "farRNMZflT1k",
        "outputId": "bf32d5ac-a3a9-4dbf-f40b-b7acdb855223"
      },
      "execution_count": 73,
      "outputs": [
        {
          "output_type": "execute_result",
          "data": {
            "text/plain": [
              "[Parameter containing:\n",
              " tensor([0.8823], requires_grad=True),\n",
              " Parameter containing:\n",
              " tensor([0.9150], requires_grad=True)]"
            ]
          },
          "metadata": {},
          "execution_count": 73
        }
      ]
    },
    {
      "cell_type": "code",
      "source": [
        "# List named parameter\n",
        "model_0.state_dict()"
      ],
      "metadata": {
        "colab": {
          "base_uri": "https://localhost:8080/"
        },
        "id": "6d5YpY24nphd",
        "outputId": "2314a085-da76-4782-f06f-36f3a5173bdd"
      },
      "execution_count": 74,
      "outputs": [
        {
          "output_type": "execute_result",
          "data": {
            "text/plain": [
              "OrderedDict([('weight', tensor([0.8823])), ('bias', tensor([0.9150]))])"
            ]
          },
          "metadata": {},
          "execution_count": 74
        }
      ]
    },
    {
      "cell_type": "code",
      "source": [
        "weight,bias"
      ],
      "metadata": {
        "colab": {
          "base_uri": "https://localhost:8080/"
        },
        "id": "NGtakbfin-Mw",
        "outputId": "be55c13a-e177-4931-d8a2-4b2fbb6bf670"
      },
      "execution_count": 75,
      "outputs": [
        {
          "output_type": "execute_result",
          "data": {
            "text/plain": [
              "(0.7, 0.3)"
            ]
          },
          "metadata": {},
          "execution_count": 75
        }
      ]
    },
    {
      "cell_type": "markdown",
      "source": [
        "### Making prediction using `torch.inference_model()\n",
        "to check our model 's prediction power' , Lets see how well it predicts y_test based on X-test\n",
        "\n",
        "When we pass data through our model ,It's going to run it through the forward() method"
      ],
      "metadata": {
        "id": "iMaTjORFocKL"
      }
    },
    {
      "cell_type": "code",
      "source": [
        "X_test"
      ],
      "metadata": {
        "colab": {
          "base_uri": "https://localhost:8080/"
        },
        "id": "24LJa-92p0a3",
        "outputId": "41829bc7-8f03-444a-b14c-cded6a0b547e"
      },
      "execution_count": 76,
      "outputs": [
        {
          "output_type": "execute_result",
          "data": {
            "text/plain": [
              "tensor([[0.8000],\n",
              "        [0.8200],\n",
              "        [0.8400],\n",
              "        [0.8600],\n",
              "        [0.8800],\n",
              "        [0.9000],\n",
              "        [0.9200],\n",
              "        [0.9400],\n",
              "        [0.9600],\n",
              "        [0.9800]])"
            ]
          },
          "metadata": {},
          "execution_count": 76
        }
      ]
    },
    {
      "cell_type": "code",
      "source": [
        "y_test"
      ],
      "metadata": {
        "colab": {
          "base_uri": "https://localhost:8080/"
        },
        "id": "tCpAVuB1p4qv",
        "outputId": "0839eeda-b4c7-4434-96c3-f2be266eaaaa"
      },
      "execution_count": 77,
      "outputs": [
        {
          "output_type": "execute_result",
          "data": {
            "text/plain": [
              "tensor([[0.8600],\n",
              "        [0.8740],\n",
              "        [0.8880],\n",
              "        [0.9020],\n",
              "        [0.9160],\n",
              "        [0.9300],\n",
              "        [0.9440],\n",
              "        [0.9580],\n",
              "        [0.9720],\n",
              "        [0.9860]])"
            ]
          },
          "metadata": {},
          "execution_count": 77
        }
      ]
    },
    {
      "cell_type": "code",
      "source": [
        "#make predictions with model\n",
        "\n",
        "with torch.inference_mode():\n",
        "  y_preds=model_0(X_test)\n",
        "y_preds"
      ],
      "metadata": {
        "colab": {
          "base_uri": "https://localhost:8080/"
        },
        "id": "-gKXpfGdpZoT",
        "outputId": "ffb2d5a3-ae24-4033-e412-6fafc42958c7"
      },
      "execution_count": 57,
      "outputs": [
        {
          "output_type": "execute_result",
          "data": {
            "text/plain": [
              "tensor([[1.6208],\n",
              "        [1.6385],\n",
              "        [1.6561],\n",
              "        [1.6738],\n",
              "        [1.6914],\n",
              "        [1.7090],\n",
              "        [1.7267],\n",
              "        [1.7443],\n",
              "        [1.7620],\n",
              "        [1.7796]])"
            ]
          },
          "metadata": {},
          "execution_count": 57
        }
      ]
    },
    {
      "cell_type": "code",
      "source": [
        "plot_predictions(predictions=y_preds)"
      ],
      "metadata": {
        "colab": {
          "base_uri": "https://localhost:8080/",
          "height": 599
        },
        "id": "zsJwRsUrrJ4p",
        "outputId": "90bc3e7c-34be-4367-c1e4-245705dea426"
      },
      "execution_count": 55,
      "outputs": [
        {
          "output_type": "display_data",
          "data": {
            "text/plain": [
              "<Figure size 1000x700 with 1 Axes>"
            ],
            "image/png": "[encoded data removed]"
          },
          "metadata": {}
        }
      ]
    },
    {
      "cell_type": "markdown",
      "source": [
        "## 3. Train model\n",
        "  \n",
        "   the whole idea of training model is to predict as much accurate as possible by moving the training datas\n",
        "\n",
        "   One way to measure how poor your model prediction prediction are is to use a loss function\n",
        "\n",
        "* Note :loss function may be called cost function or criteria in different areas.\n",
        "\n",
        "* ** Loss function **:a function how wrong your mdoel's parameters are to the ideal outputs .lower is better\n",
        "* ** Optimizer ** : Takes into account the loss of a model and adjust the model's parameters(eg.weight and bias)\n",
        "    * inside the optimizer you often have to set two parameterss\n",
        "    . params-the model paramater you'd like to optimize ,fro example params=model_0.parameters()\n",
        "\n",
        "    . lr (learning rate) it show how big or how small the change is  \n",
        "\n",
        "And specifically for pyTorch,We need:\n",
        "* A training  loop\n",
        "* A  testing loop\n",
        "\n"
      ],
      "metadata": {
        "id": "CHPLoD1hsxx2"
      }
    },
    {
      "cell_type": "code",
      "source": [
        "list(model_0.parameters())"
      ],
      "metadata": {
        "colab": {
          "base_uri": "https://localhost:8080/"
        },
        "id": "l5e5QfUAvxKV",
        "outputId": "08574c2e-60d3-40fb-851d-c558e1edacb1"
      },
      "execution_count": 59,
      "outputs": [
        {
          "output_type": "execute_result",
          "data": {
            "text/plain": [
              "[Parameter containing:\n",
              " tensor([0.8823], requires_grad=True),\n",
              " Parameter containing:\n",
              " tensor([0.9150], requires_grad=True)]"
            ]
          },
          "metadata": {},
          "execution_count": 59
        }
      ]
    },
    {
      "cell_type": "code",
      "source": [
        "model_0.state_dict()"
      ],
      "metadata": {
        "colab": {
          "base_uri": "https://localhost:8080/"
        },
        "id": "LaTgzrdAv8Tf",
        "outputId": "3f2d3f5b-f238-4ffa-ac83-7edd956520c2"
      },
      "execution_count": 78,
      "outputs": [
        {
          "output_type": "execute_result",
          "data": {
            "text/plain": [
              "OrderedDict([('weight', tensor([0.8823])), ('bias', tensor([0.9150]))])"
            ]
          },
          "metadata": {},
          "execution_count": 78
        }
      ]
    },
    {
      "cell_type": "code",
      "source": [
        "#setup the loss fFUnction\n",
        "loss_fn=nn.L1Loss()\n",
        "\n",
        "#setup an optimizer(stochastic gradient decend)\n",
        "\n",
        "optimizer =torch.optim.SGD(model_0.paramenter(),\n",
        "                           lr=0.01\n",
        "                           )   #lr=learning rate=possibly the most important hyperparameters you can set"
      ],
      "metadata": {
        "id": "RnP8sbIUybur"
      },
      "execution_count": 71,
      "outputs": []
    }
  ]
}