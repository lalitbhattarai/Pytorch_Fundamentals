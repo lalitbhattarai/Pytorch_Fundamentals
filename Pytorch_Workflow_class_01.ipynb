{
  "nbformat": 4,
  "nbformat_minor": 0,
  "metadata": {
    "colab": {
      "provenance": [],
      "authorship_tag": "ABX9TyNGxalqqOmMJv22oPpa5KB8",
      "include_colab_link": true
    },
    "kernelspec": {
      "name": "python3",
      "display_name": "Python 3"
    },
    "language_info": {
      "name": "python"
    }
  },
  "cells": [
    {
      "cell_type": "markdown",
      "metadata": {
        "id": "view-in-github",
        "colab_type": "text"
      },
      "source": [
        "<a href=\"https://colab.research.google.com/github/lalitbhattarai/Pytorch_Fundamentals/blob/main/Pytorch_Workflow_class_01.ipynb\" target=\"_parent\"><img src=\"https://colab.research.google.com/assets/colab-badge.svg\" alt=\"Open In Colab\"/></a>"
      ]
    },
    {
      "cell_type": "markdown",
      "source": [
        "## 1. Pytorch Worlflow\n",
        "\n",
        "\n",
        "lets explore a an example PyTorch end-to-end workflow\n"
      ],
      "metadata": {
        "id": "S0Z3jJrDpStG"
      }
    },
    {
      "cell_type": "code",
      "execution_count": 48,
      "metadata": {
        "id": "yWr4h7z4vjj7",
        "colab": {
          "base_uri": "https://localhost:8080/"
        },
        "outputId": "10ec15be-9c1a-4ab4-b680-475b7e5f0a56"
      },
      "outputs": [
        {
          "output_type": "execute_result",
          "data": {
            "text/plain": [
              "{1: 'data (prepare and load)',\n",
              " 2: 'bulid model',\n",
              " 3: 'fitting the model to data(training)',\n",
              " 4: 'making prediction and evalution a model (interfrence)',\n",
              " 5: 'saving and loading a model',\n",
              " 6: 'putting it all together'}"
            ]
          },
          "metadata": {},
          "execution_count": 48
        }
      ],
      "source": [
        "Covered_in_Pytorch_notrbook={ 1: \"data (prepare and load)\",\n",
        "                              2:\"bulid model\",\n",
        "                              3:\"fitting the model to data(training)\",\n",
        "                              4:\"making prediction and evalution a model (interfrence)\",\n",
        "                              5:\"saving and loading a model\",\n",
        "6:\"putting it all together\"}\n",
        "Covered_in_Pytorch_notrbook\n",
        "\n"
      ]
    },
    {
      "cell_type": "code",
      "source": [
        "import torch\n",
        "from torch import nn #nn cointains all of the Pytorch building blocks fro neural netwoerk\n",
        "import matplotlib.pyplot as plt\n",
        "\n",
        "#Check the version\n",
        "torch.__version__\n"
      ],
      "metadata": {
        "colab": {
          "base_uri": "https://localhost:8080/",
          "height": 35
        },
        "id": "ruDXNe7Bp4Ni",
        "outputId": "d6405388-19fa-4915-a911-5f4bfe49bd0e"
      },
      "execution_count": 49,
      "outputs": [
        {
          "output_type": "execute_result",
          "data": {
            "text/plain": [
              "'2.5.1+cu124'"
            ],
            "application/vnd.google.colaboratory.intrinsic+json": {
              "type": "string"
            }
          },
          "metadata": {},
          "execution_count": 49
        }
      ]
    },
    {
      "cell_type": "markdown",
      "source": [
        "##Data (Preparing and Loading)\n",
        "\n",
        "data can be almost anything ..in machine learning\n",
        "* Excel spreadsheet\n",
        "* Images of any kind\n",
        "* Vedio (youtube has lots of datas..)\n",
        "* Audio like songs or podcast\n",
        "* DNA\n",
        "* Text\n",
        "\n",
        "Machine learning is a game of two parts:\n",
        "1. Get data into a numerical representation\n",
        "2. Build a model to learn patterns in that numeriacal representation\n",
        "\n",
        "TO showcase this let's create some known data using the linear regression formula.\n",
        "\n",
        "We'll use a lineaner regresion formula to make a straight line with *known*\n",
        "**parameters**"
      ],
      "metadata": {
        "id": "-05O9sUrq8x8"
      }
    },
    {
      "cell_type": "code",
      "source": [
        "#Create  *known* pareters\n",
        "weight=0.7\n",
        "bias=0.3\n",
        "\n",
        "#create\n",
        "start=0\n",
        "end=1\n",
        "step=0.02\n",
        "X=torch.arange(start,end,step) .unsqueeze(dim=1)\n",
        "y=weight*X + bias\n",
        "X[:10] ,y[:10]"
      ],
      "metadata": {
        "colab": {
          "base_uri": "https://localhost:8080/"
        },
        "id": "VEImmxDortph",
        "outputId": "7ec8a4b3-7058-4770-d0e6-a783818e7a55"
      },
      "execution_count": 50,
      "outputs": [
        {
          "output_type": "execute_result",
          "data": {
            "text/plain": [
              "(tensor([[0.0000],\n",
              "         [0.0200],\n",
              "         [0.0400],\n",
              "         [0.0600],\n",
              "         [0.0800],\n",
              "         [0.1000],\n",
              "         [0.1200],\n",
              "         [0.1400],\n",
              "         [0.1600],\n",
              "         [0.1800]]),\n",
              " tensor([[0.3000],\n",
              "         [0.3140],\n",
              "         [0.3280],\n",
              "         [0.3420],\n",
              "         [0.3560],\n",
              "         [0.3700],\n",
              "         [0.3840],\n",
              "         [0.3980],\n",
              "         [0.4120],\n",
              "         [0.4260]]))"
            ]
          },
          "metadata": {},
          "execution_count": 50
        }
      ]
    },
    {
      "cell_type": "code",
      "source": [
        "len(X),len(y)"
      ],
      "metadata": {
        "colab": {
          "base_uri": "https://localhost:8080/"
        },
        "id": "mj1n3yG9wCXe",
        "outputId": "d19d5071-2694-4f7a-e625-00a95c1864a5"
      },
      "execution_count": 51,
      "outputs": [
        {
          "output_type": "execute_result",
          "data": {
            "text/plain": [
              "(50, 50)"
            ]
          },
          "metadata": {},
          "execution_count": 51
        }
      ]
    },
    {
      "cell_type": "markdown",
      "source": [
        "### Splitting Data into training and tests sets (one of the most importanceconcepts in general)\n",
        "Let's create  atraining and test set with our data\n",
        "\n",
        "\n",
        "\n"
      ],
      "metadata": {
        "id": "wOxf1AWFFl22"
      }
    },
    {
      "cell_type": "code",
      "source": [
        "#Craate atrain/test Split\n",
        "train_split =int(0.8 * len(X))\n",
        "X_train ,y_train=X[:train_split],y[:train_split]\n",
        "X_test,y_test=X[train_split:],y[train_split:]\n",
        "len(X_train),len(y_train),len(X_test),len(y_test)\n",
        "print(type(X), type(y))\n"
      ],
      "metadata": {
        "colab": {
          "base_uri": "https://localhost:8080/"
        },
        "id": "F-fIe6D_G7dw",
        "outputId": "54f423e0-a744-4802-e8e2-24c1ddeb7b83"
      },
      "execution_count": 52,
      "outputs": [
        {
          "output_type": "stream",
          "name": "stdout",
          "text": [
            "<class 'torch.Tensor'> <class 'torch.Tensor'>\n"
          ]
        }
      ]
    },
    {
      "cell_type": "markdown",
      "source": [
        "How might we better visualize our data?\n",
        "\n",
        "This is where the data explorer's motto comses in!\n",
        "\n",
        "\"Visualize\",\"Visualizze\",\"Visualize\""
      ],
      "metadata": {
        "id": "G90iGHHzJD77"
      }
    },
    {
      "cell_type": "code",
      "source": [
        "import matplotlib.pyplot as plt\n",
        "\n",
        "def plot_predictions(train_data=X_train,\n",
        "                     train_labels=y_train,\n",
        "                     test_data=X_test,\n",
        "                     test_labels=y_test,\n",
        "                     predictions=None):\n",
        "    \"\"\"\n",
        "    Plots training data, test data, and compares predictions.\n",
        "    \"\"\"\n",
        "    plt.figure(figsize=(10,7))\n",
        "\n",
        "    # Plot training data in blue\n",
        "    plt.scatter(train_data, train_labels, c=\"b\", s=4, label=\"Training Data\")\n",
        "\n",
        "    # Plot test data in red (Fixed incorrect y-axis)\n",
        "    plt.scatter(test_data, test_labels, c=\"g\", s=4, label=\"Test Data\")\n",
        "\n",
        "    # Plot predictions if available\n",
        "    if predictions is not None:\n",
        "\n",
        "        plt.scatter(test_data, predictions, c=\"r\", s=4, label=\"Predictions\")\n",
        "\n",
        "    # Show the legend\n",
        "    plt.legend(prop={\"size\":14})\n"
      ],
      "metadata": {
        "id": "Sv4Son59JcjF"
      },
      "execution_count": 53,
      "outputs": []
    },
    {
      "cell_type": "code",
      "source": [
        "plot_predictions(X_train, y_train, X_test, y_test);"
      ],
      "metadata": {
        "colab": {
          "base_uri": "https://localhost:8080/",
          "height": 599
        },
        "id": "sHX5oRVONkLm",
        "outputId": "01410585-343d-49e5-e161-9e6d3bdd70e2"
      },
      "execution_count": 54,
      "outputs": [
        {
          "output_type": "display_data",
          "data": {
            "text/plain": [
              "<Figure size 1000x700 with 1 Axes>"
            ],
            "image/png": "[encoded data removed]"
          },
          "metadata": {}
        }
      ]
    },
    {
      "cell_type": "markdown",
      "source": [
        "## 2. Bulid Model\n",
        "Our first PyTorch model!\n",
        "  \n",
        "What does my model do?\n",
        "* start with random values (weight and Bias\n",
        "* Look at training data and adjust the random values to better\n",
        "* look at training data and adjust the random values to better represent (or get closer to) the ideal vvalues (the weight and biasvalues we used to create the data )\n",
        "\n",
        "How does it do so?(Algorithms)\n",
        "\n",
        "1. Gradient decents\n",
        "2. BackPropagation"
      ],
      "metadata": {
        "id": "UODaEEbARuXJ"
      }
    },
    {
      "cell_type": "code",
      "source": [
        "#Create a linear regression model class\n",
        "import torch\n",
        "import torch.nn as nn\n",
        "\n",
        "class LinearRegressionModel(nn.Module):  #almost everything in pytorch is inheriate form nn\n",
        "    def __init__(self):\n",
        "        super().__init__()\n",
        "        self.weight =nn.Parameter(torch.rand(1,\n",
        "                                         requires_grad=True,\n",
        "                                         dtype=torch.float))\n",
        "\n",
        "        self.bias =nn.Parameter(torch.rand(1,\n",
        "                                           requires_grad=True,\n",
        "                                           dtype=torch.float))\n",
        "\n",
        "\n",
        "        #FOrward ,ethod to define the computational in the model\n",
        "\n",
        "    def forward(self,x:torch.tensor) ->torch.Tensor:  #x is input data here\n",
        "            return self.weight * x + self.bias  #This is a linear regression formula\n",
        "\n",
        "\n"
      ],
      "metadata": {
        "id": "3fELv9hQTBsJ"
      },
      "execution_count": 55,
      "outputs": []
    },
    {
      "cell_type": "markdown",
      "source": [
        "###Pytorch model building essentials\n",
        "\n",
        "* torch.nn--contains all of the building for computational graphs (a neural network can be considered a computatona; graph)\n",
        "* torch.nn.parameters--what parameter should our model try and learn,often a Pytorch layer from torch.nnwill set these for us\n",
        "* torch.nn.Module--The base class for all neural network modules,if you subclass it,you should overwrite forward()\n",
        "* torch.optim --This where the optimizer inpytorch live,they eill help eith gredient descend\n",
        "* def forward()  --all nn.model subclass requires you to overwrite forward(),this method define what happens in the forward computation"
      ],
      "metadata": {
        "id": "cIu114R7adiG"
      }
    },
    {
      "cell_type": "markdown",
      "source": [
        "### Checking the content of my pytorch model\n",
        "\n",
        "We can check what is in our model by .peramater"
      ],
      "metadata": {
        "id": "uwK6nNVojIHj"
      }
    },
    {
      "cell_type": "code",
      "source": [
        "#create a random seed\n",
        "torch.manual_seed(42)\n",
        "#create an instance of the model (this is a subclass of nn.module)\n",
        "model_0 =LinearRegressionModel()\n",
        "\n",
        "#Check out the paramenter\n",
        "list(model_0.parameters())"
      ],
      "metadata": {
        "colab": {
          "base_uri": "https://localhost:8080/"
        },
        "id": "farRNMZflT1k",
        "outputId": "a2355303-f04d-4419-b63f-83e5a7c93a4f"
      },
      "execution_count": 56,
      "outputs": [
        {
          "output_type": "execute_result",
          "data": {
            "text/plain": [
              "[Parameter containing:\n",
              " tensor([0.8823], requires_grad=True),\n",
              " Parameter containing:\n",
              " tensor([0.9150], requires_grad=True)]"
            ]
          },
          "metadata": {},
          "execution_count": 56
        }
      ]
    },
    {
      "cell_type": "code",
      "source": [
        "# List named parameter\n",
        "model_0.state_dict()"
      ],
      "metadata": {
        "colab": {
          "base_uri": "https://localhost:8080/"
        },
        "id": "6d5YpY24nphd",
        "outputId": "75b0c11d-a70e-4948-fbcc-553c1717f607"
      },
      "execution_count": 57,
      "outputs": [
        {
          "output_type": "execute_result",
          "data": {
            "text/plain": [
              "OrderedDict([('weight', tensor([0.8823])), ('bias', tensor([0.9150]))])"
            ]
          },
          "metadata": {},
          "execution_count": 57
        }
      ]
    },
    {
      "cell_type": "code",
      "source": [
        "weight,bias"
      ],
      "metadata": {
        "colab": {
          "base_uri": "https://localhost:8080/"
        },
        "id": "NGtakbfin-Mw",
        "outputId": "bcc1d0d1-bd7a-4d44-e7fd-fe784f4cbb84"
      },
      "execution_count": 58,
      "outputs": [
        {
          "output_type": "execute_result",
          "data": {
            "text/plain": [
              "(0.7, 0.3)"
            ]
          },
          "metadata": {},
          "execution_count": 58
        }
      ]
    },
    {
      "cell_type": "markdown",
      "source": [
        "### Making prediction using `torch.inference_model()\n",
        "to check our model 's prediction power' , Lets see how well it predicts y_test based on X-test\n",
        "\n",
        "When we pass data through our model ,It's going to run it through the forward() method"
      ],
      "metadata": {
        "id": "iMaTjORFocKL"
      }
    },
    {
      "cell_type": "code",
      "source": [
        "X_test"
      ],
      "metadata": {
        "colab": {
          "base_uri": "https://localhost:8080/"
        },
        "id": "24LJa-92p0a3",
        "outputId": "37055f56-2337-49f1-af39-6f81fb50ad7b"
      },
      "execution_count": 59,
      "outputs": [
        {
          "output_type": "execute_result",
          "data": {
            "text/plain": [
              "tensor([[0.8000],\n",
              "        [0.8200],\n",
              "        [0.8400],\n",
              "        [0.8600],\n",
              "        [0.8800],\n",
              "        [0.9000],\n",
              "        [0.9200],\n",
              "        [0.9400],\n",
              "        [0.9600],\n",
              "        [0.9800]])"
            ]
          },
          "metadata": {},
          "execution_count": 59
        }
      ]
    },
    {
      "cell_type": "code",
      "source": [
        "y_test"
      ],
      "metadata": {
        "colab": {
          "base_uri": "https://localhost:8080/"
        },
        "id": "tCpAVuB1p4qv",
        "outputId": "84c5ff41-4e4a-4411-8e80-cba734585b80"
      },
      "execution_count": 60,
      "outputs": [
        {
          "output_type": "execute_result",
          "data": {
            "text/plain": [
              "tensor([[0.8600],\n",
              "        [0.8740],\n",
              "        [0.8880],\n",
              "        [0.9020],\n",
              "        [0.9160],\n",
              "        [0.9300],\n",
              "        [0.9440],\n",
              "        [0.9580],\n",
              "        [0.9720],\n",
              "        [0.9860]])"
            ]
          },
          "metadata": {},
          "execution_count": 60
        }
      ]
    },
    {
      "cell_type": "code",
      "source": [
        "#make predictions with model\n",
        "\n",
        "with torch.inference_mode():\n",
        "  y_preds=model_0(X_test)\n",
        "y_preds"
      ],
      "metadata": {
        "colab": {
          "base_uri": "https://localhost:8080/"
        },
        "id": "-gKXpfGdpZoT",
        "outputId": "deb02d00-8443-4d23-9805-385ce18cd266"
      },
      "execution_count": 61,
      "outputs": [
        {
          "output_type": "execute_result",
          "data": {
            "text/plain": [
              "tensor([[1.6208],\n",
              "        [1.6385],\n",
              "        [1.6561],\n",
              "        [1.6738],\n",
              "        [1.6914],\n",
              "        [1.7090],\n",
              "        [1.7267],\n",
              "        [1.7443],\n",
              "        [1.7620],\n",
              "        [1.7796]])"
            ]
          },
          "metadata": {},
          "execution_count": 61
        }
      ]
    },
    {
      "cell_type": "code",
      "source": [
        "plot_predictions(X_train, y_train, X_test, y_test, predictions=y_preds)\n"
      ],
      "metadata": {
        "colab": {
          "base_uri": "https://localhost:8080/",
          "height": 599
        },
        "id": "zsJwRsUrrJ4p",
        "outputId": "c14dc352-86f1-4780-a42b-72b068f24f0b"
      },
      "execution_count": 62,
      "outputs": [
        {
          "output_type": "display_data",
          "data": {
            "text/plain": [
              "<Figure size 1000x700 with 1 Axes>"
            ],
            "image/png": "[encoded data removed]"
          },
          "metadata": {}
        }
      ]
    },
    {
      "cell_type": "markdown",
      "source": [
        "## 3. Train model\n",
        "  \n",
        "   the whole idea of training model is to predict as much accurate as possible by moving the training datas\n",
        "\n",
        "   One way to measure how poor your model prediction prediction are is to use a loss function\n",
        "\n",
        "* Note :loss function may be called cost function or criteria in different areas.\n",
        "\n",
        "* ** Loss function **:a function how wrong your mdoel's parameters are to the ideal outputs .lower is better\n",
        "* ** Optimizer ** : Takes into account the loss of a model and adjust the model's parameters(eg.weight and bias)\n",
        "    * inside the optimizer you often have to set two parameterss\n",
        "    . params-the model paramater you'd like to optimize ,fro example params=model_0.parameters()\n",
        "\n",
        "    . lr (learning rate) it show how big or how small the change is  \n",
        "\n",
        "And specifically for pyTorch,We need:\n",
        "* A training  loop\n",
        "* A  testing loop\n",
        "\n"
      ],
      "metadata": {
        "id": "CHPLoD1hsxx2"
      }
    },
    {
      "cell_type": "code",
      "source": [
        "list(model_0.parameters())"
      ],
      "metadata": {
        "colab": {
          "base_uri": "https://localhost:8080/"
        },
        "id": "l5e5QfUAvxKV",
        "outputId": "c0760bbc-ed24-4ff4-8a58-1510646a971c"
      },
      "execution_count": 63,
      "outputs": [
        {
          "output_type": "execute_result",
          "data": {
            "text/plain": [
              "[Parameter containing:\n",
              " tensor([0.8823], requires_grad=True),\n",
              " Parameter containing:\n",
              " tensor([0.9150], requires_grad=True)]"
            ]
          },
          "metadata": {},
          "execution_count": 63
        }
      ]
    },
    {
      "cell_type": "code",
      "source": [
        "model_0.state_dict()"
      ],
      "metadata": {
        "colab": {
          "base_uri": "https://localhost:8080/"
        },
        "id": "LaTgzrdAv8Tf",
        "outputId": "a0fe6912-21fb-4c37-d204-c9fcb5027fc7"
      },
      "execution_count": 64,
      "outputs": [
        {
          "output_type": "execute_result",
          "data": {
            "text/plain": [
              "OrderedDict([('weight', tensor([0.8823])), ('bias', tensor([0.9150]))])"
            ]
          },
          "metadata": {},
          "execution_count": 64
        }
      ]
    },
    {
      "cell_type": "code",
      "source": [
        "#setup the loss fFUnction\n",
        "loss_fn=nn.L1Loss()\n",
        "\n",
        "#setup an optimizer(stochastic gradient decend)\n",
        "\n",
        "optimizer =torch.optim.SGD(model_0.parameters(),\n",
        "                           lr=0.01\n",
        "                           )   #lr=learning rate=possibly the most important hyperparameters you can set"
      ],
      "metadata": {
        "id": "RnP8sbIUybur"
      },
      "execution_count": 65,
      "outputs": []
    },
    {
      "cell_type": "markdown",
      "source": [
        "* Q.whic loss function and optimizer shoild i use?\n",
        "\n",
        "* A.This will be problrm specific .But with esperience You'll get an idea of what works and what doesnot work\n",
        "\n",
        "For example for a regression problem (like ours) a loss function nn.L1Loss() and an optimixer like torch.optim.SGD() will suffice\n",
        "\n",
        "classifying problem like a picture iis d og or a cat we'll use nn.BCELoss()"
      ],
      "metadata": {
        "id": "0m1v9as_wfKY"
      }
    },
    {
      "cell_type": "markdown",
      "source": [
        "### Building a training loop in pyTorch\n",
        "\n",
        "A couple of things we need in a training loop:\n",
        "0. loop through the data\n",
        "1. Forward pass(this invloves data moving through our model's `forward`() function ) to make prediction to the data also called forward propragation\n",
        "2. calculate the loss(coampare forward pass prediction to ground truth lables)\n",
        "3. optimizer zero grade\n",
        "4. loss backward  -move backward through the network  to claculate the gradiennds of each of the parameters of our mdoell with respect to the loss ( ** backpropragation ** )\n",
        "5. ptimizer step--use the optimizer to adjust our model's parameters to try and improve the loss ( ** graident decend ** )"
      ],
      "metadata": {
        "id": "RWYULuXtx4QZ"
      }
    },
    {
      "cell_type": "code",
      "source": [
        "import torch\n",
        "\n",
        "torch.manual_seed(42)\n",
        "\n",
        "epochs = 100\n",
        "epochs_count = []\n",
        "loss_values = []\n",
        "test_loss_values = []\n",
        "\n",
        "for epoch in range(epochs):\n",
        "    model_0.train()  # Set the model to training mode\n",
        "\n",
        "    # Forward pass\n",
        "    y_preds = model_0(X_train)\n",
        "\n",
        "    # Compute loss\n",
        "    loss = loss_fn(y_preds, y_train)\n",
        "\n",
        "    # Zero gradients\n",
        "    optimizer.zero_grad()\n",
        "\n",
        "    # Backpropagation\n",
        "    loss.backward()\n",
        "\n",
        "    # Gradient descent step\n",
        "    optimizer.step()\n",
        "\n",
        "    # Evaluation\n",
        "    model_0.eval()  # Set the model to evaluation mode\n",
        "    with torch.no_grad():  # Disable gradient tracking\n",
        "        test_preds = model_0(X_test)\n",
        "        test_loss = loss_fn(test_preds, y_test)\n",
        "\n",
        "    # Print and track loss every 10 epochs\n",
        "    if epoch % 10 == 0:\n",
        "        epochs_count.append(epoch)  # Use 'epoch' instead of 'epochs'\n",
        "        loss_values.append(loss.item())  # Convert loss tensor to scalar\n",
        "        test_loss_values.append(test_loss.item())  # Convert test loss tensor to scalar\n",
        "\n",
        "        print(f\"Epoch: {epoch} | Loss: {loss.item()} | Test Loss: {test_loss.item()}\")\n",
        "        print(model_0.state_dict())  # Print model parameters\n"
      ],
      "metadata": {
        "colab": {
          "base_uri": "https://localhost:8080/"
        },
        "id": "fIBXtoKGyLns",
        "outputId": "01ca5b47-cf96-4f90-e9f8-1488dd27427e"
      },
      "execution_count": 66,
      "outputs": [
        {
          "output_type": "stream",
          "name": "stdout",
          "text": [
            "Epoch: 0 | Loss: 0.6860889196395874 | Test Loss: 0.7637526988983154\n",
            "OrderedDict([('weight', tensor([0.8784])), ('bias', tensor([0.9050]))])\n",
            "Epoch: 10 | Loss: 0.5708791017532349 | Test Loss: 0.6290428042411804\n",
            "OrderedDict([('weight', tensor([0.8394])), ('bias', tensor([0.8050]))])\n",
            "Epoch: 20 | Loss: 0.45566922426223755 | Test Loss: 0.4943329691886902\n",
            "OrderedDict([('weight', tensor([0.8004])), ('bias', tensor([0.7050]))])\n",
            "Epoch: 30 | Loss: 0.34045934677124023 | Test Loss: 0.35962313413619995\n",
            "OrderedDict([('weight', tensor([0.7614])), ('bias', tensor([0.6050]))])\n",
            "Epoch: 40 | Loss: 0.2252494841814041 | Test Loss: 0.2249133139848709\n",
            "OrderedDict([('weight', tensor([0.7224])), ('bias', tensor([0.5050]))])\n",
            "Epoch: 50 | Loss: 0.1100396141409874 | Test Loss: 0.09020347893238068\n",
            "OrderedDict([('weight', tensor([0.6834])), ('bias', tensor([0.4050]))])\n",
            "Epoch: 60 | Loss: 0.009724985808134079 | Test Loss: 0.020998019725084305\n",
            "OrderedDict([('weight', tensor([0.6539])), ('bias', tensor([0.3200]))])\n",
            "Epoch: 70 | Loss: 0.006216754671186209 | Test Loss: 0.014099234715104103\n",
            "OrderedDict([('weight', tensor([0.6707])), ('bias', tensor([0.3120]))])\n",
            "Epoch: 80 | Loss: 0.002788322512060404 | Test Loss: 0.005826681852340698\n",
            "OrderedDict([('weight', tensor([0.6878])), ('bias', tensor([0.3050]))])\n",
            "Epoch: 90 | Loss: 0.007095950655639172 | Test Loss: 0.00754010071977973\n",
            "OrderedDict([('weight', tensor([0.6938])), ('bias', tensor([0.2980]))])\n"
          ]
        }
      ]
    },
    {
      "cell_type": "code",
      "source": [
        "import numpy as np\n",
        "\n",
        "np.array(torch.tensor(loss_values).cpu().numpy),test_loss_values"
      ],
      "metadata": {
        "colab": {
          "base_uri": "https://localhost:8080/"
        },
        "id": "KuiPP6hTQT3w",
        "outputId": "42ae580e-32fa-4f20-b3c7-521ebd57b53e"
      },
      "execution_count": 67,
      "outputs": [
        {
          "output_type": "execute_result",
          "data": {
            "text/plain": [
              "(array(<built-in method numpy of Tensor object at 0x7e2d45b5deb0>,\n",
              "       dtype=object),\n",
              " [0.7637526988983154,\n",
              "  0.6290428042411804,\n",
              "  0.4943329691886902,\n",
              "  0.35962313413619995,\n",
              "  0.2249133139848709,\n",
              "  0.09020347893238068,\n",
              "  0.020998019725084305,\n",
              "  0.014099234715104103,\n",
              "  0.005826681852340698,\n",
              "  0.00754010071977973])"
            ]
          },
          "metadata": {},
          "execution_count": 67
        }
      ]
    },
    {
      "cell_type": "code",
      "source": [
        "#plot the loss curve\n",
        "plt.plot(epochs_count ,loss_values,label=\"Train loss\" )\n",
        "plt.plot(epochs_count , test_loss_values ,label=\"Test  value\" )\n",
        "plt.title(\"Training and Test  Loss curves\")\n",
        "plt.ylabel(\"Loss\")\n",
        "plt.xlabel(\"Epochs\")\n",
        "plt.legend();\n",
        "\n",
        "\n",
        "\n"
      ],
      "metadata": {
        "colab": {
          "base_uri": "https://localhost:8080/",
          "height": 472
        },
        "id": "Yi4Nk16RMrLi",
        "outputId": "e464f110-de3c-41bd-f7a8-8f6e5eef820a"
      },
      "execution_count": 68,
      "outputs": [
        {
          "output_type": "display_data",
          "data": {
            "text/plain": [
              "<Figure size 640x480 with 1 Axes>"
            ],
            "image/png": "[encoded data removed]"
          },
          "metadata": {}
        }
      ]
    },
    {
      "cell_type": "code",
      "source": [
        "with torch.inference_mode():\n",
        "  y_preds_new=model_0(X_test)"
      ],
      "metadata": {
        "id": "WerYTxO2NT5b"
      },
      "execution_count": 69,
      "outputs": []
    },
    {
      "cell_type": "code",
      "source": [
        "model_0.state_dict()"
      ],
      "metadata": {
        "colab": {
          "base_uri": "https://localhost:8080/"
        },
        "id": "l9XavHhfLbph",
        "outputId": "dbb28de6-48a9-460c-b6b1-9366422d0fb6"
      },
      "execution_count": 70,
      "outputs": [
        {
          "output_type": "execute_result",
          "data": {
            "text/plain": [
              "OrderedDict([('weight', tensor([0.6977])), ('bias', tensor([0.3080]))])"
            ]
          },
          "metadata": {},
          "execution_count": 70
        }
      ]
    },
    {
      "cell_type": "code",
      "source": [
        "weight,bias"
      ],
      "metadata": {
        "colab": {
          "base_uri": "https://localhost:8080/"
        },
        "id": "9H3YnzZMKYBs",
        "outputId": "bf346277-f1ed-48a4-bac1-43d632409990"
      },
      "execution_count": 71,
      "outputs": [
        {
          "output_type": "execute_result",
          "data": {
            "text/plain": [
              "(0.7, 0.3)"
            ]
          },
          "metadata": {},
          "execution_count": 71
        }
      ]
    },
    {
      "cell_type": "code",
      "source": [
        "plot_predictions(predictions=y_preds_new)"
      ],
      "metadata": {
        "colab": {
          "base_uri": "https://localhost:8080/",
          "height": 599
        },
        "id": "6-pSIeZ7PQfL",
        "outputId": "d3f6d3c4-b0b9-4682-b27b-c056879a4bea"
      },
      "execution_count": 72,
      "outputs": [
        {
          "output_type": "display_data",
          "data": {
            "text/plain": [
              "<Figure size 1000x700 with 1 Axes>"
            ],
            "image/png": "[encoded data removed]"
          },
          "metadata": {}
        }
      ]
    },
    {
      "cell_type": "code",
      "source": [
        "model_0"
      ],
      "metadata": {
        "colab": {
          "base_uri": "https://localhost:8080/"
        },
        "id": "k9gf3Zt2VXP_",
        "outputId": "80afe790-3dc2-4f07-fb0e-9608c84fc31b"
      },
      "execution_count": 73,
      "outputs": [
        {
          "output_type": "execute_result",
          "data": {
            "text/plain": [
              "LinearRegressionModel()"
            ]
          },
          "metadata": {},
          "execution_count": 73
        }
      ]
    },
    {
      "cell_type": "markdown",
      "source": [
        "## saving a model in PyTorch\n",
        "\n",
        "There are three amain methods you shoud know about saving and loading in Putorch\n",
        "\n",
        "1. `torch.save()`--allows you save a pytorch Object in python pickle formate\n",
        "2. `torch.load()` allows you to load a saved pytorch object  \n",
        "3. `torch.nn.module.load_state_dict()` --this allows to load a model state dictonaries\n",
        "\n",
        "PyTorch save and load code"
      ],
      "metadata": {
        "id": "Oq6_Tl63KXOK"
      }
    },
    {
      "cell_type": "code",
      "source": [
        "#saving our PyTorch model\n",
        "from pathlib import Path\n",
        " #1. Create model dierectory\n",
        "MODEL_PATH=Path(\"Models\")\n",
        "MODEL_PATH.mkdir(parents=True,exist_ok=True)\n",
        "\n",
        "#create model save path\n",
        "MODEL_NAME=\"Pytorch_Workflow_class_01.pth\"\n",
        "MODEL_SAVE_PATH=MODEL_PATH / MODEL_NAME\n",
        "MODEL_SAVE_PATH\n",
        "\n",
        "#savr the model state_dict\n",
        "print(f\"Saving model to : {MODEL_SAVE_PATH}\")\n",
        "torch.save(obj=model_0.state_dict(),\n",
        "                         f=MODEL_SAVE_PATH)\n"
      ],
      "metadata": {
        "colab": {
          "base_uri": "https://localhost:8080/"
        },
        "id": "Ydq39NksL0x2",
        "outputId": "cf0628dc-3c7e-4616-be76-6daefce66c42"
      },
      "execution_count": 74,
      "outputs": [
        {
          "output_type": "stream",
          "name": "stdout",
          "text": [
            "Saving model to : Models/Pytorch_Workflow_class_01.pth\n"
          ]
        }
      ]
    },
    {
      "cell_type": "code",
      "source": [
        "!ls -l Models"
      ],
      "metadata": {
        "colab": {
          "base_uri": "https://localhost:8080/"
        },
        "id": "TGViQzAoQ0G1",
        "outputId": "965ddd9d-3c74-4dfd-c48c-7c6ab60c063b"
      },
      "execution_count": 75,
      "outputs": [
        {
          "output_type": "stream",
          "name": "stdout",
          "text": [
            "total 4\n",
            "-rw-r--r-- 1 root root 1668 Mar  6 17:03 Pytorch_Workflow_class_01.pth\n"
          ]
        }
      ]
    },
    {
      "cell_type": "markdown",
      "source": [
        "#Loading the pytorch Model\n",
        "\n",
        "Since we saved our model state_dict() rather han loading the netire model.we'll cerate a new instance and load our model into that"
      ],
      "metadata": {
        "id": "SE_ojdv3XtGV"
      }
    },
    {
      "cell_type": "code",
      "source": [
        "model_0.state_dict()"
      ],
      "metadata": {
        "colab": {
          "base_uri": "https://localhost:8080/"
        },
        "id": "d_QKivTHYmx8",
        "outputId": "c4564c2b-2eea-435c-e927-ac79a8e5c77c"
      },
      "execution_count": 76,
      "outputs": [
        {
          "output_type": "execute_result",
          "data": {
            "text/plain": [
              "OrderedDict([('weight', tensor([0.6977])), ('bias', tensor([0.3080]))])"
            ]
          },
          "metadata": {},
          "execution_count": 76
        }
      ]
    },
    {
      "cell_type": "code",
      "source": [
        "#To  load ain a state_dict we have to inisiate a enew instance of our model calss\n",
        "Loaded_model_0 = LinearRegressionModel()\n",
        "\n",
        "#load the saved State_dict  of model )(this will update the new instances with updated parameters)\n",
        "Loaded_model_0.load_state_dict(torch.load(f=MODEL_SAVE_PATH))\n"
      ],
      "metadata": {
        "colab": {
          "base_uri": "https://localhost:8080/"
        },
        "id": "AY17uunRYvZ8",
        "outputId": "363c9d6b-f351-41b9-cb2b-3430290a6727"
      },
      "execution_count": 77,
      "outputs": [
        {
          "output_type": "stream",
          "name": "stderr",
          "text": [
            "<ipython-input-77-9de640a9c8c5>:5: FutureWarning: You are using `torch.load` with `weights_only=False` (the current default value), which uses the default pickle module implicitly. It is possible to construct malicious pickle data which will execute arbitrary code during unpickling (See https://github.com/pytorch/pytorch/blob/main/SECURITY.md#untrusted-models for more details). In a future release, the default value for `weights_only` will be flipped to `True`. This limits the functions that could be executed during unpickling. Arbitrary objects will no longer be allowed to be loaded via this mode unless they are explicitly allowlisted by the user via `torch.serialization.add_safe_globals`. We recommend you start setting `weights_only=True` for any use case where you don't have full control of the loaded file. Please open an issue on GitHub for any issues related to this experimental feature.\n",
            "  Loaded_model_0.load_state_dict(torch.load(f=MODEL_SAVE_PATH))\n"
          ]
        },
        {
          "output_type": "execute_result",
          "data": {
            "text/plain": [
              "<All keys matched successfully>"
            ]
          },
          "metadata": {},
          "execution_count": 77
        }
      ]
    },
    {
      "cell_type": "code",
      "source": [
        "Loaded_model_0.state_dict()"
      ],
      "metadata": {
        "colab": {
          "base_uri": "https://localhost:8080/"
        },
        "id": "8haQdf3wZP2k",
        "outputId": "ac659bac-0899-464b-f006-10e2977a5acd"
      },
      "execution_count": 78,
      "outputs": [
        {
          "output_type": "execute_result",
          "data": {
            "text/plain": [
              "OrderedDict([('weight', tensor([0.6977])), ('bias', tensor([0.3080]))])"
            ]
          },
          "metadata": {},
          "execution_count": 78
        }
      ]
    },
    {
      "cell_type": "code",
      "source": [
        "model_0.state_dict()"
      ],
      "metadata": {
        "colab": {
          "base_uri": "https://localhost:8080/"
        },
        "id": "0mGJWBfbamry",
        "outputId": "421b8476-0539-43ca-f603-9c68d8ace2d9"
      },
      "execution_count": 79,
      "outputs": [
        {
          "output_type": "execute_result",
          "data": {
            "text/plain": [
              "OrderedDict([('weight', tensor([0.6977])), ('bias', tensor([0.3080]))])"
            ]
          },
          "metadata": {},
          "execution_count": 79
        }
      ]
    },
    {
      "cell_type": "code",
      "source": [
        "# make some predictions with our loaded model\n",
        "Loaded_model_0.eval()\n",
        "with torch.inference_mode():\n",
        "  Loaded_model_preds=Loaded_model_0(X_test)\n",
        "\n",
        "Loaded_model_preds\n"
      ],
      "metadata": {
        "colab": {
          "base_uri": "https://localhost:8080/"
        },
        "id": "Z2FKBeaVataC",
        "outputId": "fde6803c-e24c-4013-9bb4-5cffe7eea7a8"
      },
      "execution_count": 80,
      "outputs": [
        {
          "output_type": "execute_result",
          "data": {
            "text/plain": [
              "tensor([[0.8661],\n",
              "        [0.8801],\n",
              "        [0.8940],\n",
              "        [0.9080],\n",
              "        [0.9220],\n",
              "        [0.9359],\n",
              "        [0.9499],\n",
              "        [0.9638],\n",
              "        [0.9778],\n",
              "        [0.9917]])"
            ]
          },
          "metadata": {},
          "execution_count": 80
        }
      ]
    },
    {
      "cell_type": "code",
      "source": [
        "#compare loaded model preds with original model preds\n",
        "y_preds_new == Loaded_model_preds"
      ],
      "metadata": {
        "colab": {
          "base_uri": "https://localhost:8080/"
        },
        "id": "vWkyltaobOT9",
        "outputId": "2fa9ebae-d45d-4daf-8613-588a0703a453"
      },
      "execution_count": 85,
      "outputs": [
        {
          "output_type": "execute_result",
          "data": {
            "text/plain": [
              "tensor([[True],\n",
              "        [True],\n",
              "        [True],\n",
              "        [True],\n",
              "        [True],\n",
              "        [True],\n",
              "        [True],\n",
              "        [True],\n",
              "        [True],\n",
              "        [True]])"
            ]
          },
          "metadata": {},
          "execution_count": 85
        }
      ]
    },
    {
      "cell_type": "code",
      "source": [
        "y_preds_new"
      ],
      "metadata": {
        "colab": {
          "base_uri": "https://localhost:8080/"
        },
        "id": "Oz38_4fwbkNJ",
        "outputId": "22e62c35-a819-4967-8a6e-642891c6315b"
      },
      "execution_count": 83,
      "outputs": [
        {
          "output_type": "execute_result",
          "data": {
            "text/plain": [
              "tensor([[0.8661],\n",
              "        [0.8801],\n",
              "        [0.8940],\n",
              "        [0.9080],\n",
              "        [0.9220],\n",
              "        [0.9359],\n",
              "        [0.9499],\n",
              "        [0.9638],\n",
              "        [0.9778],\n",
              "        [0.9917]])"
            ]
          },
          "metadata": {},
          "execution_count": 83
        }
      ]
    }
  ]
}