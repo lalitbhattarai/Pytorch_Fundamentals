{
  "nbformat": 4,
  "nbformat_minor": 0,
  "metadata": {
    "colab": {
      "provenance": [],
      "gpuType": "T4",
      "authorship_tag": "ABX9TyNHZgkR0fbDv0qAmuEKQUQT",
      "include_colab_link": true
    },
    "kernelspec": {
      "name": "python3",
      "display_name": "Python 3"
    },
    "language_info": {
      "name": "python"
    },
    "accelerator": "GPU"
  },
  "cells": [
    {
      "cell_type": "markdown",
      "metadata": {
        "id": "view-in-github",
        "colab_type": "text"
      },
      "source": [
        "<a href=\"https://colab.research.google.com/github/lalitbhattarai/Pytorch_Fundamentals/blob/main/Model_building.ipynb\" target=\"_parent\"><img src=\"https://colab.research.google.com/assets/colab-badge.svg\" alt=\"Open In Colab\"/></a>"
      ]
    },
    {
      "cell_type": "markdown",
      "source": [
        "## 1. Putting everyhing togethrt\n",
        "\n",
        "We are going to biuld the modle in this more clearly.\n",
        "\n",
        "We are just putting everything we did in python Fundamentals chaper together\n"
      ],
      "metadata": {
        "id": "JjDxIVT6HC1c"
      }
    },
    {
      "cell_type": "markdown",
      "source": [
        "\n"
      ],
      "metadata": {
        "id": "emwiYxbpHlVo"
      }
    },
    {
      "cell_type": "code",
      "source": [
        "#import pytorch and matplotlib\n",
        "import torch\n",
        "from torch import nn\n",
        "import matplotlib.pyplot as plt\n",
        "\n",
        "#checking torch version\\\n",
        "torch.__version__"
      ],
      "metadata": {
        "colab": {
          "base_uri": "https://localhost:8080/",
          "height": 35
        },
        "id": "P8rKC45DIDJ3",
        "outputId": "608f9d0d-c030-461c-cbdd-2f50ee258d5e"
      },
      "execution_count": 157,
      "outputs": [
        {
          "output_type": "execute_result",
          "data": {
            "text/plain": [
              "'2.5.1+cu124'"
            ],
            "application/vnd.google.colaboratory.intrinsic+json": {
              "type": "string"
            }
          },
          "metadata": {},
          "execution_count": 157
        }
      ]
    },
    {
      "cell_type": "markdown",
      "source": [
        "Create device_agnostic Code\n",
        "\n",
        "This means is we've got access to a GPU ,our cdoe will use it( forr potentially faster computing)\n",
        "\n",
        "If no GPU is available ,the cdoe will defult to using cpu"
      ],
      "metadata": {
        "id": "T2sURnP0JD1a"
      }
    },
    {
      "cell_type": "code",
      "source": [
        "#setup device agonistic code\n",
        "device =\"cuda\" if torch.cuda.is_available(  ) else \"cpu\"\n",
        "print(f\"Deviced used :{device}\")"
      ],
      "metadata": {
        "colab": {
          "base_uri": "https://localhost:8080/"
        },
        "id": "F1J8RzLyJf0z",
        "outputId": "f2f408d3-5434-43fb-eb91-76d4f44029b7"
      },
      "execution_count": 158,
      "outputs": [
        {
          "output_type": "stream",
          "name": "stdout",
          "text": [
            "Deviced used :cuda\n"
          ]
        }
      ]
    },
    {
      "cell_type": "markdown",
      "source": [
        "### 1.1 DATA"
      ],
      "metadata": {
        "id": "Nkg_Ki9aKQHT"
      }
    },
    {
      "cell_type": "code",
      "source": [
        "#Create some data using the linear regression formula of y=weight + X + bias\n",
        "weight=0.3\n",
        "bias=0.7\n",
        "\n",
        "#create arange value\n",
        "start=0\n",
        "end=1\n",
        "step=0.01\n",
        "\n",
        "#Create a X and y (features and lables)\n",
        "X=torch.arange(start,end,step).unsqueeze(dim=1)\n",
        "y=weight * X +bias\n",
        "X[:10],y[:10]"
      ],
      "metadata": {
        "colab": {
          "base_uri": "https://localhost:8080/"
        },
        "id": "raNGFV8qKfwm",
        "outputId": "b4374eec-bbbf-4b58-8bec-d8e0814a3206"
      },
      "execution_count": 159,
      "outputs": [
        {
          "output_type": "execute_result",
          "data": {
            "text/plain": [
              "(tensor([[0.0000],\n",
              "         [0.0100],\n",
              "         [0.0200],\n",
              "         [0.0300],\n",
              "         [0.0400],\n",
              "         [0.0500],\n",
              "         [0.0600],\n",
              "         [0.0700],\n",
              "         [0.0800],\n",
              "         [0.0900]]),\n",
              " tensor([[0.7000],\n",
              "         [0.7030],\n",
              "         [0.7060],\n",
              "         [0.7090],\n",
              "         [0.7120],\n",
              "         [0.7150],\n",
              "         [0.7180],\n",
              "         [0.7210],\n",
              "         [0.7240],\n",
              "         [0.7270]]))"
            ]
          },
          "metadata": {},
          "execution_count": 159
        }
      ]
    },
    {
      "cell_type": "code",
      "source": [
        "from google.colab import drive\n",
        "drive.mount('/content/drive')"
      ],
      "metadata": {
        "id": "xZM6Lxu5yYIl",
        "colab": {
          "base_uri": "https://localhost:8080/"
        },
        "outputId": "0943b6c6-32ad-47a9-ab55-5c3175cf50b8"
      },
      "execution_count": 160,
      "outputs": [
        {
          "output_type": "stream",
          "name": "stdout",
          "text": [
            "Drive already mounted at /content/drive; to attempt to forcibly remount, call drive.mount(\"/content/drive\", force_remount=True).\n"
          ]
        }
      ]
    },
    {
      "cell_type": "code",
      "source": [
        "#Split data\n",
        "train_split=int(0.8 *len(X) )\n",
        "X_train,y_train=X[:train_split],y[:train_split]\n",
        "X_test,y_test=X[train_split:],y[train_split:]\n",
        "len(X_test),len(y_test),len(X_train),len(y_train)"
      ],
      "metadata": {
        "colab": {
          "base_uri": "https://localhost:8080/"
        },
        "id": "qmrNJxjTMFTh",
        "outputId": "c8d22640-f0f3-4b38-c4ca-0646cd14e9d7"
      },
      "execution_count": 161,
      "outputs": [
        {
          "output_type": "execute_result",
          "data": {
            "text/plain": [
              "(20, 20, 80, 80)"
            ]
          },
          "metadata": {},
          "execution_count": 161
        }
      ]
    },
    {
      "cell_type": "code",
      "source": [
        "import matplotlib.pyplot as plt\n",
        "\n",
        "def plot_predictions(train_data=X_train,\n",
        "                     train_labels=y_train,\n",
        "                     test_data=X_test,\n",
        "                     test_labels=y_test,\n",
        "                     predictions=None):\n",
        "    \"\"\"\n",
        "    Plots training data, test data, and compares predictions.\n",
        "    \"\"\"\n",
        "    plt.figure(figsize=(10,7))\n",
        "\n",
        "    # Plot training data in blue\n",
        "    plt.scatter(train_data, train_labels, c=\"b\", s=4, label=\"Training Data\")\n",
        "\n",
        "    # Plot test data in red (Fixed incorrect y-axis)\n",
        "    plt.scatter(test_data, test_labels, c=\"g\", s=4, label=\"Test Data\")\n",
        "\n",
        "    # Plot predictions if available\n",
        "    if predictions is not None:\n",
        "\n",
        "        plt.scatter(test_data, predictions, c=\"r\", s=4, label=\"Predictions\")\n",
        "\n",
        "    # Show the legend\n",
        "    plt.legend(prop={\"size\":14})"
      ],
      "metadata": {
        "id": "wZPcos0HPZ4z"
      },
      "execution_count": 162,
      "outputs": []
    },
    {
      "cell_type": "code",
      "source": [
        "#Plote the data\n",
        "\n",
        "#note :ifyou dont have plot_prediction loaded it will give an error\n",
        "plot_predictions(X_train,y_train,X_test,y_test)"
      ],
      "metadata": {
        "colab": {
          "base_uri": "https://localhost:8080/",
          "height": 599
        },
        "id": "UsA7_b8mNKbh",
        "outputId": "2c873f9f-cd7e-4106-8557-058f9998b0fb"
      },
      "execution_count": 163,
      "outputs": [
        {
          "output_type": "display_data",
          "data": {
            "text/plain": [
              "<Figure size 1000x700 with 1 Axes>"
            ],
            "image/png": "[encoded data removed]"
          },
          "metadata": {}
        }
      ]
    },
    {
      "cell_type": "code",
      "source": [
        "#Building a pytorch linear mdoel\n",
        "class LinearRegressionModel(nn.Module):\n",
        "  def __init__(self):\n",
        "    super(). __init__()\n",
        "\n",
        "    # use nn>linear( ) for  creting the dmoel nparameterd also acalled linear trnasfoirm,probing layer,fully connected layer,dense layer\n",
        "\n",
        "    self.linear_layer=nn.Linear(in_features=1,\n",
        "                                out_features=1)\n",
        "\n",
        "    #Forward ,method to define the computational in the model\n",
        "\n",
        "  def forward(self,x:torch.Tensor) ->torch.tensor:\n",
        "    return self.linear_layer(x)\n",
        "\n",
        "\n",
        "    #set the manual seed\n",
        "\n",
        "torch.manual_seed(42)\n",
        "model_1=LinearRegressionModel()\n",
        "model_1,model_1.state_dict()\n",
        "\n"
      ],
      "metadata": {
        "id": "m3dcHvjZMhLv",
        "colab": {
          "base_uri": "https://localhost:8080/"
        },
        "outputId": "9db840ac-18de-4f59-c386-de1592f45f35"
      },
      "execution_count": 164,
      "outputs": [
        {
          "output_type": "execute_result",
          "data": {
            "text/plain": [
              "(LinearRegressionModel(\n",
              "   (linear_layer): Linear(in_features=1, out_features=1, bias=True)\n",
              " ),\n",
              " OrderedDict([('linear_layer.weight', tensor([[0.7645]])),\n",
              "              ('linear_layer.bias', tensor([0.8300]))]))"
            ]
          },
          "metadata": {},
          "execution_count": 164
        }
      ]
    },
    {
      "cell_type": "code",
      "source": [
        "X_train[:5],y_train[:5]"
      ],
      "metadata": {
        "colab": {
          "base_uri": "https://localhost:8080/"
        },
        "id": "fmyMQPCFR0_a",
        "outputId": "2da6f9cf-67a1-48dd-c196-1585777aeeab"
      },
      "execution_count": 165,
      "outputs": [
        {
          "output_type": "execute_result",
          "data": {
            "text/plain": [
              "(tensor([[0.0000],\n",
              "         [0.0100],\n",
              "         [0.0200],\n",
              "         [0.0300],\n",
              "         [0.0400]]),\n",
              " tensor([[0.7000],\n",
              "         [0.7030],\n",
              "         [0.7060],\n",
              "         [0.7090],\n",
              "         [0.7120]]))"
            ]
          },
          "metadata": {},
          "execution_count": 165
        }
      ]
    },
    {
      "cell_type": "code",
      "source": [
        "# Check the model current device\n",
        "next(model_1.parameters()).device"
      ],
      "metadata": {
        "colab": {
          "base_uri": "https://localhost:8080/"
        },
        "id": "NFYIcNLanJEc",
        "outputId": "9f858ec7-c70c-4e10-d10b-c289dd537538"
      },
      "execution_count": 166,
      "outputs": [
        {
          "output_type": "execute_result",
          "data": {
            "text/plain": [
              "device(type='cpu')"
            ]
          },
          "metadata": {},
          "execution_count": 166
        }
      ]
    },
    {
      "cell_type": "code",
      "source": [
        "#Set the model to use the target device\n",
        "model_1.to(device)\n",
        "next(model_1.parameters()).device\n"
      ],
      "metadata": {
        "colab": {
          "base_uri": "https://localhost:8080/"
        },
        "id": "IyR2ojtjm8KE",
        "outputId": "e1f1a2d1-6062-494a-e73d-c24fbfcac1ff"
      },
      "execution_count": 167,
      "outputs": [
        {
          "output_type": "execute_result",
          "data": {
            "text/plain": [
              "device(type='cuda', index=0)"
            ]
          },
          "metadata": {},
          "execution_count": 167
        }
      ]
    },
    {
      "cell_type": "markdown",
      "source": [
        "### 1.3 Training\n",
        "\n",
        "For trainning we need\n",
        "\n",
        "* loss function\n",
        "* optimizer\n",
        "* Training Loop\n",
        "* testing loop\n"
      ],
      "metadata": {
        "id": "7-5CjeJcoQK4"
      }
    },
    {
      "cell_type": "code",
      "source": [
        "#setup loss function\n",
        "loss_fn=nn.L1Loss() # same as MAE\n",
        "\n",
        "#setup our optim,izer\n",
        "optimizer =torch.optim.SGD(params=model_1.parameters(),\n",
        "                           lr=0.01)"
      ],
      "metadata": {
        "id": "F7FkowZHoeFH"
      },
      "execution_count": 168,
      "outputs": []
    },
    {
      "cell_type": "code",
      "source": [
        "torch.manual_seed(42)\n",
        "\n",
        "epochs=300\n",
        "\n",
        "#Put data oin target device\n",
        "X_train=X_train.to(device)\n",
        "y_train=y_train.to(device)\n",
        "X_test=X_test.to(device)\n",
        "y_test=y_test.to(device)\n",
        "\n",
        "for epoc in range(epochs):\n",
        "  model_1.train()\n",
        "\n",
        "  y_preds=model_1(X_train)\n",
        "\n",
        "  #calculate the loss\n",
        "  loss=loss_fn(y_preds,y_train)\n",
        "\n",
        "  #optimize zero grade\n",
        "  optimizer.zero_grad()\n",
        "\n",
        "  # Perform Backpropragation\n",
        "  loss.backward()\n",
        "\n",
        "  #Optimize step\n",
        "  optimizer.step()\n",
        "\n",
        "  ### Testing\n",
        "  model_1.eval()\n",
        "  with torch.inference_mode():\n",
        "    test_pred=model_1(X_test)\n",
        "\n",
        "    test_loss=loss_fn(test_pred,y_test)\n",
        "\n",
        "    #Print out what's happening\n",
        "\n",
        "  if epochs % 10== 0:\n",
        "    print(f\"Epochs :{epoc}  | Loss: {loss}  | Test loss:{ test_loss}\")"
      ],
      "metadata": {
        "colab": {
          "base_uri": "https://localhost:8080/"
        },
        "id": "zdNNH31wpKI-",
        "outputId": "f935f66e-4bbf-470b-e566-cc48632b57fc"
      },
      "execution_count": 169,
      "outputs": [
        {
          "output_type": "stream",
          "name": "stdout",
          "text": [
            "Epochs :0  | Loss: 0.31350064277648926  | Test loss:0.5322346687316895\n",
            "Epochs :1  | Loss: 0.3019404113292694  | Test loss:0.5186994075775146\n",
            "Epochs :2  | Loss: 0.2903801500797272  | Test loss:0.5051641464233398\n",
            "Epochs :3  | Loss: 0.2788199186325073  | Test loss:0.4916289448738098\n",
            "Epochs :4  | Loss: 0.2672596871852875  | Test loss:0.4780937135219574\n",
            "Epochs :5  | Loss: 0.2556994557380676  | Test loss:0.4645584523677826\n",
            "Epochs :6  | Loss: 0.2441391944885254  | Test loss:0.45102325081825256\n",
            "Epochs :7  | Loss: 0.23257894814014435  | Test loss:0.43748798966407776\n",
            "Epochs :8  | Loss: 0.2210187017917633  | Test loss:0.42395272850990295\n",
            "Epochs :9  | Loss: 0.20945847034454346  | Test loss:0.41041746735572815\n",
            "Epochs :10  | Loss: 0.1978982388973236  | Test loss:0.3968822658061981\n",
            "Epochs :11  | Loss: 0.18633799254894257  | Test loss:0.3833470046520233\n",
            "Epochs :12  | Loss: 0.17477774620056152  | Test loss:0.3698117434978485\n",
            "Epochs :13  | Loss: 0.16321751475334167  | Test loss:0.3562765419483185\n",
            "Epochs :14  | Loss: 0.15209972858428955  | Test loss:0.34349802136421204\n",
            "Epochs :15  | Loss: 0.14224199950695038  | Test loss:0.3312350809574127\n",
            "Epochs :16  | Loss: 0.133340984582901  | Test loss:0.31949684023857117\n",
            "Epochs :17  | Loss: 0.1253490000963211  | Test loss:0.3085622489452362\n",
            "Epochs :18  | Loss: 0.1183718666434288  | Test loss:0.2981746792793274\n",
            "Epochs :19  | Loss: 0.1121397539973259  | Test loss:0.28834304213523865\n",
            "Epochs :20  | Loss: 0.10660864412784576  | Test loss:0.27879270911216736\n",
            "Epochs :21  | Loss: 0.1015532836318016  | Test loss:0.2698117196559906\n",
            "Epochs :22  | Loss: 0.09709116071462631  | Test loss:0.26140913367271423\n",
            "Epochs :23  | Loss: 0.09317369759082794  | Test loss:0.25329896807670593\n",
            "Epochs :24  | Loss: 0.08962943404912949  | Test loss:0.24578061699867249\n",
            "Epochs :25  | Loss: 0.0865403488278389  | Test loss:0.2385614663362503\n",
            "Epochs :26  | Loss: 0.08375518769025803  | Test loss:0.23194746673107147\n",
            "Epochs :27  | Loss: 0.08136258274316788  | Test loss:0.22563937306404114\n",
            "Epochs :28  | Loss: 0.07920824736356735  | Test loss:0.21963949501514435\n",
            "Epochs :29  | Loss: 0.07727531343698502  | Test loss:0.21394996345043182\n",
            "Epochs :30  | Loss: 0.0755467489361763  | Test loss:0.20857317745685577\n",
            "Epochs :31  | Loss: 0.07400538772344589  | Test loss:0.20351123809814453\n",
            "Epochs :32  | Loss: 0.07263381034135818  | Test loss:0.19876642525196075\n",
            "Epochs :33  | Loss: 0.07141448557376862  | Test loss:0.1943410187959671\n",
            "Epochs :34  | Loss: 0.07032966613769531  | Test loss:0.1902371644973755\n",
            "Epochs :35  | Loss: 0.06936139613389969  | Test loss:0.18645714223384857\n",
            "Epochs :36  | Loss: 0.06849154084920883  | Test loss:0.18300317227840424\n",
            "Epochs :37  | Loss: 0.06772889196872711  | Test loss:0.1795492023229599\n",
            "Epochs :38  | Loss: 0.0669919028878212  | Test loss:0.176423579454422\n",
            "Epochs :39  | Loss: 0.06632783263921738  | Test loss:0.17329798638820648\n",
            "Epochs :40  | Loss: 0.06569934636354446  | Test loss:0.17050288617610931\n",
            "Epochs :41  | Loss: 0.06512098014354706  | Test loss:0.16770778596401215\n",
            "Epochs :42  | Loss: 0.06457630544900894  | Test loss:0.16524548828601837\n",
            "Epochs :43  | Loss: 0.06407059729099274  | Test loss:0.1627831906080246\n",
            "Epochs :44  | Loss: 0.06358474493026733  | Test loss:0.16065596044063568\n",
            "Epochs :45  | Loss: 0.06313854455947876  | Test loss:0.15852873027324677\n",
            "Epochs :46  | Loss: 0.06269234418869019  | Test loss:0.15640150010585785\n",
            "Epochs :47  | Loss: 0.062266696244478226  | Test loss:0.1546115130186081\n",
            "Epochs :48  | Loss: 0.061866700649261475  | Test loss:0.15282154083251953\n",
            "Epochs :49  | Loss: 0.061466705054044724  | Test loss:0.15103153884410858\n",
            "Epochs :50  | Loss: 0.06106942892074585  | Test loss:0.14958103001117706\n",
            "Epochs :51  | Loss: 0.06070217117667198  | Test loss:0.14813049137592316\n",
            "Epochs :52  | Loss: 0.06033492088317871  | Test loss:0.14667995274066925\n",
            "Epochs :53  | Loss: 0.05996766686439514  | Test loss:0.14522942900657654\n",
            "Epochs :54  | Loss: 0.05960042029619217  | Test loss:0.14377889037132263\n",
            "Epochs :55  | Loss: 0.0592331662774086  | Test loss:0.14232836663722992\n",
            "Epochs :56  | Loss: 0.05887165293097496  | Test loss:0.1412196308374405\n",
            "Epochs :57  | Loss: 0.05852354317903519  | Test loss:0.14011088013648987\n",
            "Epochs :58  | Loss: 0.05817544460296631  | Test loss:0.13900212943553925\n",
            "Epochs :59  | Loss: 0.05782734230160713  | Test loss:0.137893408536911\n",
            "Epochs :60  | Loss: 0.057479240000247955  | Test loss:0.13678467273712158\n",
            "Epochs :61  | Loss: 0.05713113769888878  | Test loss:0.13567595183849335\n",
            "Epochs :62  | Loss: 0.0567830465734005  | Test loss:0.13456718623638153\n",
            "Epochs :63  | Loss: 0.05643492937088013  | Test loss:0.1334584653377533\n",
            "Epochs :64  | Loss: 0.05608682706952095  | Test loss:0.13234972953796387\n",
            "Epochs :65  | Loss: 0.05573873594403267  | Test loss:0.13124099373817444\n",
            "Epochs :66  | Loss: 0.05539063364267349  | Test loss:0.13013224303722382\n",
            "Epochs :67  | Loss: 0.05504488945007324  | Test loss:0.12936750054359436\n",
            "Epochs :68  | Loss: 0.054702188819646835  | Test loss:0.12860272824764252\n",
            "Epochs :69  | Loss: 0.05435948446393013  | Test loss:0.12783797085285187\n",
            "Epochs :70  | Loss: 0.05401736497879028  | Test loss:0.12672923505306244\n",
            "Epochs :71  | Loss: 0.053675051778554916  | Test loss:0.1259644776582718\n",
            "Epochs :72  | Loss: 0.05333234742283821  | Test loss:0.12519972026348114\n",
            "Epochs :73  | Loss: 0.0529896505177021  | Test loss:0.12443496286869049\n",
            "Epochs :74  | Loss: 0.0526469461619854  | Test loss:0.12367019802331924\n",
            "Epochs :75  | Loss: 0.05230424925684929  | Test loss:0.12290544807910919\n",
            "Epochs :76  | Loss: 0.05196154862642288  | Test loss:0.12214066833257675\n",
            "Epochs :77  | Loss: 0.05161892995238304  | Test loss:0.12103195488452911\n",
            "Epochs :78  | Loss: 0.05127711221575737  | Test loss:0.12026717513799667\n",
            "Epochs :79  | Loss: 0.05093441158533096  | Test loss:0.11950242519378662\n",
            "Epochs :80  | Loss: 0.05059170722961426  | Test loss:0.11873767524957657\n",
            "Epochs :81  | Loss: 0.05024900659918785  | Test loss:0.11797292530536652\n",
            "Epochs :82  | Loss: 0.04990631341934204  | Test loss:0.11720814555883408\n",
            "Epochs :83  | Loss: 0.04956360533833504  | Test loss:0.11644339561462402\n",
            "Epochs :84  | Loss: 0.04922090098261833  | Test loss:0.11567864567041397\n",
            "Epochs :85  | Loss: 0.04887876659631729  | Test loss:0.11456989496946335\n",
            "Epochs :86  | Loss: 0.048536475747823715  | Test loss:0.1138051301240921\n",
            "Epochs :87  | Loss: 0.04819377139210701  | Test loss:0.11304038017988205\n",
            "Epochs :88  | Loss: 0.047851067036390305  | Test loss:0.1122756153345108\n",
            "Epochs :89  | Loss: 0.047508370131254196  | Test loss:0.11151086539030075\n",
            "Epochs :90  | Loss: 0.04716566950082779  | Test loss:0.1107461005449295\n",
            "Epochs :91  | Loss: 0.046822965145111084  | Test loss:0.10998135060071945\n",
            "Epochs :92  | Loss: 0.04648033529520035  | Test loss:0.10887261480093002\n",
            "Epochs :93  | Loss: 0.04613853618502617  | Test loss:0.10810784250497818\n",
            "Epochs :94  | Loss: 0.04579583555459976  | Test loss:0.10734310001134872\n",
            "Epochs :95  | Loss: 0.04545313119888306  | Test loss:0.10657832771539688\n",
            "Epochs :96  | Loss: 0.04511043056845665  | Test loss:0.10581357777118683\n",
            "Epochs :97  | Loss: 0.04476772993803024  | Test loss:0.10504881292581558\n",
            "Epochs :98  | Loss: 0.04442502558231354  | Test loss:0.10428404808044434\n",
            "Epochs :99  | Loss: 0.04408232495188713  | Test loss:0.10351929813623428\n",
            "Epochs :100  | Loss: 0.0437401719391346  | Test loss:0.10241055488586426\n",
            "Epochs :101  | Loss: 0.043397899717092514  | Test loss:0.1016458198428154\n",
            "Epochs :102  | Loss: 0.04305519536137581  | Test loss:0.10088105499744415\n",
            "Epochs :103  | Loss: 0.0427124947309494  | Test loss:0.1001163050532341\n",
            "Epochs :104  | Loss: 0.042369794100522995  | Test loss:0.09935150295495987\n",
            "Epochs :105  | Loss: 0.04202709347009659  | Test loss:0.09858677536249161\n",
            "Epochs :106  | Loss: 0.04168439283967018  | Test loss:0.09782200306653976\n",
            "Epochs :107  | Loss: 0.041341736912727356  | Test loss:0.09671326726675034\n",
            "Epochs :108  | Loss: 0.04099996015429497  | Test loss:0.09594850987195969\n",
            "Epochs :109  | Loss: 0.04065725952386856  | Test loss:0.09518375247716904\n",
            "Epochs :110  | Loss: 0.040314555168151855  | Test loss:0.094418965280056\n",
            "Epochs :111  | Loss: 0.03997184708714485  | Test loss:0.09365417808294296\n",
            "Epochs :112  | Loss: 0.039629142731428146  | Test loss:0.09288939833641052\n",
            "Epochs :113  | Loss: 0.03928643465042114  | Test loss:0.09212461113929749\n",
            "Epochs :114  | Loss: 0.03894372656941414  | Test loss:0.09135981649160385\n",
            "Epochs :115  | Loss: 0.038601554930210114  | Test loss:0.09025108069181442\n",
            "Epochs :116  | Loss: 0.038259293884038925  | Test loss:0.08948630094528198\n",
            "Epochs :117  | Loss: 0.03791658952832222  | Test loss:0.08872151374816895\n",
            "Epochs :118  | Loss: 0.037573881447315216  | Test loss:0.08795672655105591\n",
            "Epochs :119  | Loss: 0.03723117336630821  | Test loss:0.08719193935394287\n",
            "Epochs :120  | Loss: 0.03688846901059151  | Test loss:0.08642715960741043\n",
            "Epochs :121  | Loss: 0.0365457609295845  | Test loss:0.0856623575091362\n",
            "Epochs :122  | Loss: 0.03620308265089989  | Test loss:0.08455367386341095\n",
            "Epochs :123  | Loss: 0.035861339420080185  | Test loss:0.08378884941339493\n",
            "Epochs :124  | Loss: 0.03551862761378288  | Test loss:0.08302407711744308\n",
            "Epochs :125  | Loss: 0.03517591580748558  | Test loss:0.08225929737091064\n",
            "Epochs :126  | Loss: 0.03483320400118828  | Test loss:0.08149450272321701\n",
            "Epochs :127  | Loss: 0.03449050337076187  | Test loss:0.08072970062494278\n",
            "Epochs :128  | Loss: 0.03414779528975487  | Test loss:0.07996492832899094\n",
            "Epochs :129  | Loss: 0.033805083483457565  | Test loss:0.0792001411318779\n",
            "Epochs :130  | Loss: 0.03346288204193115  | Test loss:0.07809138298034668\n",
            "Epochs :131  | Loss: 0.03312065079808235  | Test loss:0.07732661813497543\n",
            "Epochs :132  | Loss: 0.032777946442365646  | Test loss:0.0765618309378624\n",
            "Epochs :133  | Loss: 0.03243523836135864  | Test loss:0.07579704374074936\n",
            "Epochs :134  | Loss: 0.03209253028035164  | Test loss:0.07503227144479752\n",
            "Epochs :135  | Loss: 0.031749825924634933  | Test loss:0.07426746189594269\n",
            "Epochs :136  | Loss: 0.03140711411833763  | Test loss:0.07350268214941025\n",
            "Epochs :137  | Loss: 0.03106442093849182  | Test loss:0.07239394634962082\n",
            "Epochs :138  | Loss: 0.030722683295607567  | Test loss:0.07162915915250778\n",
            "Epochs :139  | Loss: 0.030379975214600563  | Test loss:0.07086437940597534\n",
            "Epochs :140  | Loss: 0.03003726899623871  | Test loss:0.07009958475828171\n",
            "Epochs :141  | Loss: 0.029694562777876854  | Test loss:0.06933480501174927\n",
            "Epochs :142  | Loss: 0.029351860284805298  | Test loss:0.06857003271579742\n",
            "Epochs :143  | Loss: 0.029009152203798294  | Test loss:0.0678052306175232\n",
            "Epochs :144  | Loss: 0.02866644598543644  | Test loss:0.06704045832157135\n",
            "Epochs :145  | Loss: 0.028324222192168236  | Test loss:0.06593172252178192\n",
            "Epochs :146  | Loss: 0.02798200584948063  | Test loss:0.06516692787408829\n",
            "Epochs :147  | Loss: 0.027639303356409073  | Test loss:0.06440214067697525\n",
            "Epochs :148  | Loss: 0.02729659713804722  | Test loss:0.06363736838102341\n",
            "Epochs :149  | Loss: 0.026953889057040215  | Test loss:0.06287257373332977\n",
            "Epochs :150  | Loss: 0.02661118470132351  | Test loss:0.06210777908563614\n",
            "Epochs :151  | Loss: 0.026268476620316505  | Test loss:0.061343003064394\n",
            "Epochs :152  | Loss: 0.0259257685393095  | Test loss:0.06057822331786156\n",
            "Epochs :153  | Loss: 0.02558402717113495  | Test loss:0.05946948751807213\n",
            "Epochs :154  | Loss: 0.02524133399128914  | Test loss:0.058704692870378494\n",
            "Epochs :155  | Loss: 0.024898629635572433  | Test loss:0.05793989822268486\n",
            "Epochs :156  | Loss: 0.02455592155456543  | Test loss:0.05717512592673302\n",
            "Epochs :157  | Loss: 0.024213215336203575  | Test loss:0.05641034245491028\n",
            "Epochs :158  | Loss: 0.02387050725519657  | Test loss:0.05564555153250694\n",
            "Epochs :159  | Loss: 0.023527801036834717  | Test loss:0.054880764335393906\n",
            "Epochs :160  | Loss: 0.02318555675446987  | Test loss:0.053772032260894775\n",
            "Epochs :161  | Loss: 0.022843366488814354  | Test loss:0.053007252514362335\n",
            "Epochs :162  | Loss: 0.0225006602704525  | Test loss:0.0522424541413784\n",
            "Epochs :163  | Loss: 0.022157952189445496  | Test loss:0.051477670669555664\n",
            "Epochs :164  | Loss: 0.02181524597108364  | Test loss:0.05071289464831352\n",
            "Epochs :165  | Loss: 0.021472539752721786  | Test loss:0.049948107451200485\n",
            "Epochs :166  | Loss: 0.021129833534359932  | Test loss:0.049183305352926254\n",
            "Epochs :167  | Loss: 0.02078712359070778  | Test loss:0.04841853678226471\n",
            "Epochs :168  | Loss: 0.020445361733436584  | Test loss:0.04730979725718498\n",
            "Epochs :169  | Loss: 0.020102692767977715  | Test loss:0.04654500260949135\n",
            "Epochs :170  | Loss: 0.01975998468697071  | Test loss:0.04578022658824921\n",
            "Epochs :171  | Loss: 0.019417280331254005  | Test loss:0.04501544311642647\n",
            "Epochs :172  | Loss: 0.019074570387601852  | Test loss:0.04425065964460373\n",
            "Epochs :173  | Loss: 0.018731867894530296  | Test loss:0.0434858612716198\n",
            "Epochs :174  | Loss: 0.018389159813523293  | Test loss:0.042721085250377655\n",
            "Epochs :175  | Loss: 0.018046891316771507  | Test loss:0.04161234200000763\n",
            "Epochs :176  | Loss: 0.01770472526550293  | Test loss:0.040847551077604294\n",
            "Epochs :177  | Loss: 0.017362019047141075  | Test loss:0.04008277505636215\n",
            "Epochs :178  | Loss: 0.01701931469142437  | Test loss:0.03931799158453941\n",
            "Epochs :179  | Loss: 0.016676604747772217  | Test loss:0.038553204387426376\n",
            "Epochs :180  | Loss: 0.016333896666765213  | Test loss:0.03778841346502304\n",
            "Epochs :181  | Loss: 0.015991192311048508  | Test loss:0.0370236299932003\n",
            "Epochs :182  | Loss: 0.015648482367396355  | Test loss:0.036258846521377563\n",
            "Epochs :183  | Loss: 0.015306699089705944  | Test loss:0.035150110721588135\n",
            "Epochs :184  | Loss: 0.014964046888053417  | Test loss:0.03438533470034599\n",
            "Epochs :185  | Loss: 0.014621344394981861  | Test loss:0.03362051770091057\n",
            "Epochs :186  | Loss: 0.014278635382652283  | Test loss:0.03285576403141022\n",
            "Epochs :187  | Loss: 0.013935926370322704  | Test loss:0.032090965658426285\n",
            "Epochs :188  | Loss: 0.013593223877251148  | Test loss:0.03132617846131325\n",
            "Epochs :189  | Loss: 0.01325051486492157  | Test loss:0.030561402440071106\n",
            "Epochs :190  | Loss: 0.01290823519229889  | Test loss:0.02945265732705593\n",
            "Epochs :191  | Loss: 0.012566079385578632  | Test loss:0.028687864542007446\n",
            "Epochs :192  | Loss: 0.012223372235894203  | Test loss:0.027923090383410454\n",
            "Epochs :193  | Loss: 0.011880667880177498  | Test loss:0.027158308774232864\n",
            "Epochs :194  | Loss: 0.011537960730493069  | Test loss:0.02639351785182953\n",
            "Epochs :195  | Loss: 0.011195256374776363  | Test loss:0.025628725066781044\n",
            "Epochs :196  | Loss: 0.010852547362446785  | Test loss:0.024863941594958305\n",
            "Epochs :197  | Loss: 0.01050984114408493  | Test loss:0.024099154397845268\n",
            "Epochs :198  | Loss: 0.010168035514652729  | Test loss:0.022990424185991287\n",
            "Epochs :199  | Loss: 0.009825405664741993  | Test loss:0.022225631400942802\n",
            "Epochs :200  | Loss: 0.00948269572108984  | Test loss:0.021460851654410362\n",
            "Epochs :201  | Loss: 0.009139993228018284  | Test loss:0.020696068182587624\n",
            "Epochs :202  | Loss: 0.008797286078333855  | Test loss:0.019931280985474586\n",
            "Epochs :203  | Loss: 0.008454577997326851  | Test loss:0.0191664882004261\n",
            "Epochs :204  | Loss: 0.008111869916319847  | Test loss:0.018401702865958214\n",
            "Epochs :205  | Loss: 0.007769565563648939  | Test loss:0.017292989417910576\n",
            "Epochs :206  | Loss: 0.007427433971315622  | Test loss:0.016528192907571793\n",
            "Epochs :207  | Loss: 0.007084731012582779  | Test loss:0.015763401985168457\n",
            "Epochs :208  | Loss: 0.006742026191204786  | Test loss:0.014998621307313442\n",
            "Epochs :209  | Loss: 0.00639931857585907  | Test loss:0.014233824796974659\n",
            "Epochs :210  | Loss: 0.006056610494852066  | Test loss:0.013469037599861622\n",
            "Epochs :211  | Loss: 0.005713905673474073  | Test loss:0.012704262509942055\n",
            "Epochs :212  | Loss: 0.00537119759246707  | Test loss:0.011939475312829018\n",
            "Epochs :213  | Loss: 0.005029371473938227  | Test loss:0.010830732993781567\n",
            "Epochs :214  | Loss: 0.004686764907091856  | Test loss:0.010065949521958828\n",
            "Epochs :215  | Loss: 0.004344055894762278  | Test loss:0.009301165118813515\n",
            "Epochs :216  | Loss: 0.0040013487450778484  | Test loss:0.008536377921700478\n",
            "Epochs :217  | Loss: 0.0036586427595466375  | Test loss:0.007771599572151899\n",
            "Epochs :218  | Loss: 0.0033159367740154266  | Test loss:0.007006806321442127\n",
            "Epochs :219  | Loss: 0.0029732310213148594  | Test loss:0.006242025177925825\n",
            "Epochs :220  | Loss: 0.0026309029199182987  | Test loss:0.005133286118507385\n",
            "Epochs :221  | Loss: 0.0022922984790056944  | Test loss:0.005063188262283802\n",
            "Epochs :222  | Loss: 0.001969721168279648  | Test loss:0.0029359490144997835\n",
            "Epochs :223  | Loss: 0.0016886144876480103  | Test loss:0.005367651581764221\n",
            "Epochs :224  | Loss: 0.002000651555135846  | Test loss:0.004463985562324524\n",
            "Epochs :225  | Loss: 0.006154816132038832  | Test loss:0.00907125510275364\n",
            "Epochs :226  | Loss: 0.005405425559729338  | Test loss:0.004463985562324524\n",
            "Epochs :227  | Loss: 0.006154816132038832  | Test loss:0.00907125510275364\n",
            "Epochs :228  | Loss: 0.005405425559729338  | Test loss:0.004463985562324524\n",
            "Epochs :229  | Loss: 0.006154816132038832  | Test loss:0.00907125510275364\n",
            "Epochs :230  | Loss: 0.005405425559729338  | Test loss:0.004463985562324524\n",
            "Epochs :231  | Loss: 0.006154816132038832  | Test loss:0.00907125510275364\n",
            "Epochs :232  | Loss: 0.005405425559729338  | Test loss:0.004463985562324524\n",
            "Epochs :233  | Loss: 0.006154816132038832  | Test loss:0.00907125510275364\n",
            "Epochs :234  | Loss: 0.005405425559729338  | Test loss:0.004463985562324524\n",
            "Epochs :235  | Loss: 0.006154816132038832  | Test loss:0.00907125510275364\n",
            "Epochs :236  | Loss: 0.005405425559729338  | Test loss:0.004463985562324524\n",
            "Epochs :237  | Loss: 0.006154816132038832  | Test loss:0.00907125510275364\n",
            "Epochs :238  | Loss: 0.005405425559729338  | Test loss:0.004463985562324524\n",
            "Epochs :239  | Loss: 0.006154816132038832  | Test loss:0.00907125510275364\n",
            "Epochs :240  | Loss: 0.005405425559729338  | Test loss:0.004463985562324524\n",
            "Epochs :241  | Loss: 0.006154816132038832  | Test loss:0.00907125510275364\n",
            "Epochs :242  | Loss: 0.005405425559729338  | Test loss:0.004463985562324524\n",
            "Epochs :243  | Loss: 0.006154816132038832  | Test loss:0.00907125510275364\n",
            "Epochs :244  | Loss: 0.005405425559729338  | Test loss:0.004463985562324524\n",
            "Epochs :245  | Loss: 0.006154816132038832  | Test loss:0.00907125510275364\n",
            "Epochs :246  | Loss: 0.005405425559729338  | Test loss:0.004463985562324524\n",
            "Epochs :247  | Loss: 0.006154816132038832  | Test loss:0.00907125510275364\n",
            "Epochs :248  | Loss: 0.005405425559729338  | Test loss:0.004463985562324524\n",
            "Epochs :249  | Loss: 0.006154816132038832  | Test loss:0.00907125510275364\n",
            "Epochs :250  | Loss: 0.005405425559729338  | Test loss:0.004463985562324524\n",
            "Epochs :251  | Loss: 0.006154816132038832  | Test loss:0.00907125510275364\n",
            "Epochs :252  | Loss: 0.005405425559729338  | Test loss:0.004463985562324524\n",
            "Epochs :253  | Loss: 0.006154816132038832  | Test loss:0.00907125510275364\n",
            "Epochs :254  | Loss: 0.005405425559729338  | Test loss:0.004463985562324524\n",
            "Epochs :255  | Loss: 0.006154816132038832  | Test loss:0.00907125510275364\n",
            "Epochs :256  | Loss: 0.005405425559729338  | Test loss:0.004463985562324524\n",
            "Epochs :257  | Loss: 0.006154816132038832  | Test loss:0.00907125510275364\n",
            "Epochs :258  | Loss: 0.005405425559729338  | Test loss:0.004463985562324524\n",
            "Epochs :259  | Loss: 0.006154816132038832  | Test loss:0.00907125510275364\n",
            "Epochs :260  | Loss: 0.005405425559729338  | Test loss:0.004463985562324524\n",
            "Epochs :261  | Loss: 0.006154816132038832  | Test loss:0.00907125510275364\n",
            "Epochs :262  | Loss: 0.005405425559729338  | Test loss:0.004463985562324524\n",
            "Epochs :263  | Loss: 0.006154816132038832  | Test loss:0.00907125510275364\n",
            "Epochs :264  | Loss: 0.005405425559729338  | Test loss:0.004463985562324524\n",
            "Epochs :265  | Loss: 0.006154816132038832  | Test loss:0.00907125510275364\n",
            "Epochs :266  | Loss: 0.005405425559729338  | Test loss:0.004463985562324524\n",
            "Epochs :267  | Loss: 0.006154816132038832  | Test loss:0.00907125510275364\n",
            "Epochs :268  | Loss: 0.005405425559729338  | Test loss:0.004463985562324524\n",
            "Epochs :269  | Loss: 0.006154816132038832  | Test loss:0.00907125510275364\n",
            "Epochs :270  | Loss: 0.005405425559729338  | Test loss:0.004463985562324524\n",
            "Epochs :271  | Loss: 0.006154816132038832  | Test loss:0.00907125510275364\n",
            "Epochs :272  | Loss: 0.005405425559729338  | Test loss:0.004463985562324524\n",
            "Epochs :273  | Loss: 0.006154816132038832  | Test loss:0.00907125510275364\n",
            "Epochs :274  | Loss: 0.005405425559729338  | Test loss:0.004463985562324524\n",
            "Epochs :275  | Loss: 0.006154816132038832  | Test loss:0.00907125510275364\n",
            "Epochs :276  | Loss: 0.005405425559729338  | Test loss:0.004463985562324524\n",
            "Epochs :277  | Loss: 0.006154816132038832  | Test loss:0.00907125510275364\n",
            "Epochs :278  | Loss: 0.005405425559729338  | Test loss:0.004463985562324524\n",
            "Epochs :279  | Loss: 0.006154816132038832  | Test loss:0.00907125510275364\n",
            "Epochs :280  | Loss: 0.005405425559729338  | Test loss:0.004463985562324524\n",
            "Epochs :281  | Loss: 0.006154816132038832  | Test loss:0.00907125510275364\n",
            "Epochs :282  | Loss: 0.005405425559729338  | Test loss:0.004463985562324524\n",
            "Epochs :283  | Loss: 0.006154816132038832  | Test loss:0.00907125510275364\n",
            "Epochs :284  | Loss: 0.005405425559729338  | Test loss:0.004463985562324524\n",
            "Epochs :285  | Loss: 0.006154816132038832  | Test loss:0.00907125510275364\n",
            "Epochs :286  | Loss: 0.005405425559729338  | Test loss:0.004463985562324524\n",
            "Epochs :287  | Loss: 0.006154816132038832  | Test loss:0.00907125510275364\n",
            "Epochs :288  | Loss: 0.005405425559729338  | Test loss:0.004463985562324524\n",
            "Epochs :289  | Loss: 0.006154816132038832  | Test loss:0.00907125510275364\n",
            "Epochs :290  | Loss: 0.005405425559729338  | Test loss:0.004463985562324524\n",
            "Epochs :291  | Loss: 0.006154816132038832  | Test loss:0.00907125510275364\n",
            "Epochs :292  | Loss: 0.005405425559729338  | Test loss:0.004463985562324524\n",
            "Epochs :293  | Loss: 0.006154816132038832  | Test loss:0.00907125510275364\n",
            "Epochs :294  | Loss: 0.005405425559729338  | Test loss:0.004463985562324524\n",
            "Epochs :295  | Loss: 0.006154816132038832  | Test loss:0.00907125510275364\n",
            "Epochs :296  | Loss: 0.005405425559729338  | Test loss:0.004463985562324524\n",
            "Epochs :297  | Loss: 0.006154816132038832  | Test loss:0.00907125510275364\n",
            "Epochs :298  | Loss: 0.005405425559729338  | Test loss:0.004463985562324524\n",
            "Epochs :299  | Loss: 0.006154816132038832  | Test loss:0.00907125510275364\n"
          ]
        }
      ]
    },
    {
      "cell_type": "code",
      "source": [
        "model_1.state_dict()"
      ],
      "metadata": {
        "colab": {
          "base_uri": "https://localhost:8080/"
        },
        "id": "0IWQFnUKtLaL",
        "outputId": "776ec00c-5928-4eea-8f53-c2e4f2ea90cb"
      },
      "execution_count": 170,
      "outputs": [
        {
          "output_type": "execute_result",
          "data": {
            "text/plain": [
              "OrderedDict([('linear_layer.weight', tensor([[0.3073]], device='cuda:0')),\n",
              "             ('linear_layer.bias', tensor([0.7025], device='cuda:0'))])"
            ]
          },
          "metadata": {},
          "execution_count": 170
        }
      ]
    },
    {
      "cell_type": "markdown",
      "source": [
        "### 1.4  making and evaluting predictions"
      ],
      "metadata": {
        "id": "_V14XfDftycp"
      }
    },
    {
      "cell_type": "code",
      "source": [
        "#Turn model on the test data\n",
        "model_1.eval()\n",
        "y_preds=model_1(X_test)\n",
        "y_preds"
      ],
      "metadata": {
        "colab": {
          "base_uri": "https://localhost:8080/"
        },
        "id": "hW9059ZfuSNT",
        "outputId": "48041ae6-fc23-431b-9e3c-f11e3d64ac6c"
      },
      "execution_count": 171,
      "outputs": [
        {
          "output_type": "execute_result",
          "data": {
            "text/plain": [
              "tensor([[0.9484],\n",
              "        [0.9514],\n",
              "        [0.9545],\n",
              "        [0.9576],\n",
              "        [0.9607],\n",
              "        [0.9637],\n",
              "        [0.9668],\n",
              "        [0.9699],\n",
              "        [0.9730],\n",
              "        [0.9760],\n",
              "        [0.9791],\n",
              "        [0.9822],\n",
              "        [0.9853],\n",
              "        [0.9883],\n",
              "        [0.9914],\n",
              "        [0.9945],\n",
              "        [0.9975],\n",
              "        [1.0006],\n",
              "        [1.0037],\n",
              "        [1.0068]], device='cuda:0', grad_fn=<AddmmBackward0>)"
            ]
          },
          "metadata": {},
          "execution_count": 171
        }
      ]
    },
    {
      "cell_type": "code",
      "source": [
        "#check out our model predictions  vbisually\n",
        "plot_predictions(predictions=y_preds.detach().cpu().numpy())\n"
      ],
      "metadata": {
        "colab": {
          "base_uri": "https://localhost:8080/",
          "height": 599
        },
        "id": "mLAR2XO4umb2",
        "outputId": "0fd3bcfd-19c4-419f-df48-28bf14229c2f"
      },
      "execution_count": 172,
      "outputs": [
        {
          "output_type": "display_data",
          "data": {
            "text/plain": [
              "<Figure size 1000x700 with 1 Axes>"
            ],
            "image/png": "[encoded data removed]"
          },
          "metadata": {}
        }
      ]
    },
    {
      "cell_type": "markdown",
      "source": [
        "### Saving and loading trained model"
      ],
      "metadata": {
        "id": "88L9Bms1wED7"
      }
    },
    {
      "cell_type": "code",
      "source": [
        "#saving our PyTorch model\n",
        "from pathlib import Path\n",
        "\n",
        "#1. Creae model dictonaries\n",
        "MODEL_PATH=Path(\"Models\")\n",
        "MODEL_PATH.mkdir(parents=True,exist_ok=True)\n",
        "\n",
        "#2. Create model save path\n",
        "MODEL_NAME=\"Model_building.pth\"\n",
        "MODEL_SAVE_PATH=MODEL_PATH / MODEL_NAME\n",
        "\n",
        "#save the model state dict\n",
        "print(f\"saving model to: {MODEL_SAVE_PATH}\")\n",
        "torch.save(obj=model_1.state_dict(),\n",
        "           f=MODEL_SAVE_PATH)\n",
        "\n"
      ],
      "metadata": {
        "colab": {
          "base_uri": "https://localhost:8080/"
        },
        "id": "f6FL5ptpwM9Z",
        "outputId": "27efc6bc-c249-42c0-94a2-2dacc66f511a"
      },
      "execution_count": 173,
      "outputs": [
        {
          "output_type": "stream",
          "name": "stdout",
          "text": [
            "saving model to: Models/Model_building.pth\n"
          ]
        }
      ]
    },
    {
      "cell_type": "code",
      "source": [
        "#load a putorch model\n",
        "\n",
        "#createing a new instance of linear regeression mdoele\n",
        "loaded_model_1=LinearRegressionModel()\n",
        "\n",
        "#loade the dave mdoel dict model_1\n",
        "loaded_model_1.load_state_dict(torch.load(MODEL_SAVE_PATH))\n",
        "\n",
        "#pUT THE loaded deviceto model\n",
        "loaded_model_1.to(device)"
      ],
      "metadata": {
        "colab": {
          "base_uri": "https://localhost:8080/"
        },
        "id": "8crHVHbHzRZo",
        "outputId": "fb246724-5d16-4e0b-c181-df642f6934ff"
      },
      "execution_count": 174,
      "outputs": [
        {
          "output_type": "stream",
          "name": "stderr",
          "text": [
            "<ipython-input-174-2f5429682773>:7: FutureWarning: You are using `torch.load` with `weights_only=False` (the current default value), which uses the default pickle module implicitly. It is possible to construct malicious pickle data which will execute arbitrary code during unpickling (See https://github.com/pytorch/pytorch/blob/main/SECURITY.md#untrusted-models for more details). In a future release, the default value for `weights_only` will be flipped to `True`. This limits the functions that could be executed during unpickling. Arbitrary objects will no longer be allowed to be loaded via this mode unless they are explicitly allowlisted by the user via `torch.serialization.add_safe_globals`. We recommend you start setting `weights_only=True` for any use case where you don't have full control of the loaded file. Please open an issue on GitHub for any issues related to this experimental feature.\n",
            "  loaded_model_1.load_state_dict(torch.load(MODEL_SAVE_PATH))\n"
          ]
        },
        {
          "output_type": "execute_result",
          "data": {
            "text/plain": [
              "LinearRegressionModel(\n",
              "  (linear_layer): Linear(in_features=1, out_features=1, bias=True)\n",
              ")"
            ]
          },
          "metadata": {},
          "execution_count": 174
        }
      ]
    },
    {
      "cell_type": "code",
      "source": [
        "next(loaded_model_1.parameters()).device"
      ],
      "metadata": {
        "colab": {
          "base_uri": "https://localhost:8080/"
        },
        "id": "pbZPW5Se0M1H",
        "outputId": "90cf7d9e-7511-4ac9-81b2-ebbb1e66ceff"
      },
      "execution_count": 175,
      "outputs": [
        {
          "output_type": "execute_result",
          "data": {
            "text/plain": [
              "device(type='cuda', index=0)"
            ]
          },
          "metadata": {},
          "execution_count": 175
        }
      ]
    },
    {
      "cell_type": "code",
      "source": [
        "loaded_model_1.state_dict()"
      ],
      "metadata": {
        "colab": {
          "base_uri": "https://localhost:8080/"
        },
        "id": "hK9_XcZd0cEx",
        "outputId": "d79bda02-391a-4239-f192-9d3d4dd919d5"
      },
      "execution_count": 176,
      "outputs": [
        {
          "output_type": "execute_result",
          "data": {
            "text/plain": [
              "OrderedDict([('linear_layer.weight', tensor([[0.3073]], device='cuda:0')),\n",
              "             ('linear_layer.bias', tensor([0.7025], device='cuda:0'))])"
            ]
          },
          "metadata": {},
          "execution_count": 176
        }
      ]
    },
    {
      "cell_type": "code",
      "source": [
        "#EVAULATE THE LOADED MODEL\n",
        "\n",
        "loaded_model_1.eval()\n",
        "with torch.inference_mode():\n",
        "  loaded_model_1_preds=loaded_model_1(X_test)\n",
        "y_preds ==loaded_model_1_preds\n",
        "\n"
      ],
      "metadata": {
        "colab": {
          "base_uri": "https://localhost:8080/"
        },
        "id": "eaa05XlR0jY5",
        "outputId": "54264605-18ab-4801-8602-e1bb26694202"
      },
      "execution_count": 177,
      "outputs": [
        {
          "output_type": "execute_result",
          "data": {
            "text/plain": [
              "tensor([[True],\n",
              "        [True],\n",
              "        [True],\n",
              "        [True],\n",
              "        [True],\n",
              "        [True],\n",
              "        [True],\n",
              "        [True],\n",
              "        [True],\n",
              "        [True],\n",
              "        [True],\n",
              "        [True],\n",
              "        [True],\n",
              "        [True],\n",
              "        [True],\n",
              "        [True],\n",
              "        [True],\n",
              "        [True],\n",
              "        [True],\n",
              "        [True]], device='cuda:0')"
            ]
          },
          "metadata": {},
          "execution_count": 177
        }
      ]
    }
  ]
}