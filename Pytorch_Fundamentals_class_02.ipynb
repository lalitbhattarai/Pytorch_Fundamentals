{
  "nbformat": 4,
  "nbformat_minor": 0,
  "metadata": {
    "colab": {
      "provenance": [],
      "gpuType": "T4",
      "authorship_tag": "ABX9TyMAlYRoNs9q4L9yhSw3+Xpk",
      "include_colab_link": true
    },
    "kernelspec": {
      "name": "python3",
      "display_name": "Python 3"
    },
    "language_info": {
      "name": "python"
    },
    "accelerator": "GPU"
  },
  "cells": [
    {
      "cell_type": "markdown",
      "metadata": {
        "id": "view-in-github",
        "colab_type": "text"
      },
      "source": [
        "<a href=\"https://colab.research.google.com/github/lalitbhattarai/Pytorch_Fundamentals/blob/main/Pytorch_Fundamentals_class_02.ipynb\" target=\"_parent\"><img src=\"https://colab.research.google.com/assets/colab-badge.svg\" alt=\"Open In Colab\"/></a>"
      ]
    },
    {
      "cell_type": "markdown",
      "source": [
        "##Finding the min,Max,Mean,Sum,etc(Tensor aggregation)"
      ],
      "metadata": {
        "id": "LhhGHFi1rKnW"
      }
    },
    {
      "cell_type": "code",
      "source": [
        "import torch"
      ],
      "metadata": {
        "id": "SvLOkrJor5K9"
      },
      "execution_count": 1,
      "outputs": []
    },
    {
      "cell_type": "code",
      "source": [
        "#Create a tensor\n",
        "x=torch.arange(1,100,10)\n",
        "x"
      ],
      "metadata": {
        "colab": {
          "base_uri": "https://localhost:8080/"
        },
        "id": "NT2sVe7JriOL",
        "outputId": "2864da3c-bbad-4a38-f0d1-8637bd877291"
      },
      "execution_count": 2,
      "outputs": [
        {
          "output_type": "execute_result",
          "data": {
            "text/plain": [
              "tensor([ 1, 11, 21, 31, 41, 51, 61, 71, 81, 91])"
            ]
          },
          "metadata": {},
          "execution_count": 2
        }
      ]
    },
    {
      "cell_type": "code",
      "source": [
        "#find the min\n",
        "torch.min(x),x.min()\n"
      ],
      "metadata": {
        "colab": {
          "base_uri": "https://localhost:8080/"
        },
        "id": "FUH48m-qsGyQ",
        "outputId": "d01fab43-cdb7-47fe-e695-2edb109564ad"
      },
      "execution_count": 3,
      "outputs": [
        {
          "output_type": "execute_result",
          "data": {
            "text/plain": [
              "(tensor(1), tensor(1))"
            ]
          },
          "metadata": {},
          "execution_count": 3
        }
      ]
    },
    {
      "cell_type": "code",
      "source": [
        "#find the max\n",
        "torch.max(x),x.max()"
      ],
      "metadata": {
        "colab": {
          "base_uri": "https://localhost:8080/"
        },
        "id": "z-QoUdhosWup",
        "outputId": "a116be74-4e12-43a2-84ed-fc629e8fc9bb"
      },
      "execution_count": 4,
      "outputs": [
        {
          "output_type": "execute_result",
          "data": {
            "text/plain": [
              "(tensor(91), tensor(91))"
            ]
          },
          "metadata": {},
          "execution_count": 4
        }
      ]
    },
    {
      "cell_type": "code",
      "source": [
        "#Find the mean In the tensors -Torch.mean requires that is dtype of flaot32\n",
        "torch.mean(x.type(torch.float32))\n",
        "\n"
      ],
      "metadata": {
        "colab": {
          "base_uri": "https://localhost:8080/"
        },
        "id": "DrNScx29s6kt",
        "outputId": "e8a68ee5-7e7b-4da9-ce4c-d7a50fe10298"
      },
      "execution_count": 5,
      "outputs": [
        {
          "output_type": "execute_result",
          "data": {
            "text/plain": [
              "tensor(46.)"
            ]
          },
          "metadata": {},
          "execution_count": 5
        }
      ]
    },
    {
      "cell_type": "code",
      "source": [
        "y=x.type(torch.float32).mean()\n",
        "y\n"
      ],
      "metadata": {
        "colab": {
          "base_uri": "https://localhost:8080/"
        },
        "id": "Rhuvb8CAvbkU",
        "outputId": "26e70f58-80d1-4d3d-b3d4-9950f906dec3"
      },
      "execution_count": 6,
      "outputs": [
        {
          "output_type": "execute_result",
          "data": {
            "text/plain": [
              "tensor(46.)"
            ]
          },
          "metadata": {},
          "execution_count": 6
        }
      ]
    },
    {
      "cell_type": "code",
      "source": [
        "y.dtype"
      ],
      "metadata": {
        "colab": {
          "base_uri": "https://localhost:8080/"
        },
        "id": "eqGhpzVjvuQM",
        "outputId": "0eae6df1-982d-44b8-9179-ef61d7b09a4f"
      },
      "execution_count": 7,
      "outputs": [
        {
          "output_type": "execute_result",
          "data": {
            "text/plain": [
              "torch.float32"
            ]
          },
          "metadata": {},
          "execution_count": 7
        }
      ]
    },
    {
      "cell_type": "code",
      "source": [
        "torch.sum(x),x.sum()"
      ],
      "metadata": {
        "colab": {
          "base_uri": "https://localhost:8080/"
        },
        "id": "zs_1fXYFvxuc",
        "outputId": "00ac3290-937e-463a-ce26-b5d0f1490faf"
      },
      "execution_count": 8,
      "outputs": [
        {
          "output_type": "execute_result",
          "data": {
            "text/plain": [
              "(tensor(460), tensor(460))"
            ]
          },
          "metadata": {},
          "execution_count": 8
        }
      ]
    },
    {
      "cell_type": "markdown",
      "source": [
        "##Finding the positional min and max"
      ],
      "metadata": {
        "id": "MVJBkIRyxYPR"
      }
    },
    {
      "cell_type": "code",
      "source": [
        "#minding the minumun valu eand its index\n",
        "x.argmin()"
      ],
      "metadata": {
        "colab": {
          "base_uri": "https://localhost:8080/"
        },
        "id": "V5FWmNzExeli",
        "outputId": "8f00f61b-d0ff-4c2a-856b-f0859fb19b99"
      },
      "execution_count": 9,
      "outputs": [
        {
          "output_type": "execute_result",
          "data": {
            "text/plain": [
              "tensor(0)"
            ]
          },
          "metadata": {},
          "execution_count": 9
        }
      ]
    },
    {
      "cell_type": "code",
      "source": [
        "x[0]"
      ],
      "metadata": {
        "colab": {
          "base_uri": "https://localhost:8080/"
        },
        "id": "bLEutLV6xvY-",
        "outputId": "273d51c4-a320-4824-cd6d-0853db2f7248"
      },
      "execution_count": 10,
      "outputs": [
        {
          "output_type": "execute_result",
          "data": {
            "text/plain": [
              "tensor(1)"
            ]
          },
          "metadata": {},
          "execution_count": 10
        }
      ]
    },
    {
      "cell_type": "code",
      "source": [
        "#this is finding the index of maximum number availablein the tensor and its value\n",
        "x.argmax()"
      ],
      "metadata": {
        "colab": {
          "base_uri": "https://localhost:8080/"
        },
        "id": "eK8a6m2xxsWT",
        "outputId": "3bc82b02-b9ac-4eec-d24e-4aa1e85ba242"
      },
      "execution_count": 11,
      "outputs": [
        {
          "output_type": "execute_result",
          "data": {
            "text/plain": [
              "tensor(9)"
            ]
          },
          "metadata": {},
          "execution_count": 11
        }
      ]
    },
    {
      "cell_type": "code",
      "source": [
        "x[9]"
      ],
      "metadata": {
        "colab": {
          "base_uri": "https://localhost:8080/"
        },
        "id": "sd9xjsp9yAJe",
        "outputId": "c178e94d-83b6-4941-ee57-12ba3a395b74"
      },
      "execution_count": 12,
      "outputs": [
        {
          "output_type": "execute_result",
          "data": {
            "text/plain": [
              "tensor(91)"
            ]
          },
          "metadata": {},
          "execution_count": 12
        }
      ]
    },
    {
      "cell_type": "code",
      "source": [
        "x"
      ],
      "metadata": {
        "colab": {
          "base_uri": "https://localhost:8080/"
        },
        "id": "qqcawcHXyLYo",
        "outputId": "60814131-2368-45e7-c8f0-246086d8d2f9"
      },
      "execution_count": 13,
      "outputs": [
        {
          "output_type": "execute_result",
          "data": {
            "text/plain": [
              "tensor([ 1, 11, 21, 31, 41, 51, 61, 71, 81, 91])"
            ]
          },
          "metadata": {},
          "execution_count": 13
        }
      ]
    },
    {
      "cell_type": "markdown",
      "source": [
        "Reshaping,staking ,squezzing,and unsquezzing tensor\n",
        "*Reshaping--Reshape an input tensor to a define ShapeType\n",
        "*View--return  a view of an input of certaing shape but  keep the same meanory as\n",
        "the orginal\n",
        "**Staking--combaining multiple tensors on top of eah oher (vstack )and side by side hstack\n",
        "**Squeeze--remove all the  1 dimension from the tensor\n",
        "**unsqueeze--add a 1 dimensions dfrom a tensor\n",
        "**permute--Return a view of the input with dimension (swapped )in a certain way"
      ],
      "metadata": {
        "id": "Ifv5y7XcyPcp"
      }
    },
    {
      "cell_type": "code",
      "source": [
        "#let's Create a tensor\n",
        "x=torch.arange(1.,10.)\n",
        "x,x.shape"
      ],
      "metadata": {
        "colab": {
          "base_uri": "https://localhost:8080/"
        },
        "id": "9QcdqhE9Aaoz",
        "outputId": "917263b6-4406-47ce-d823-ee00e45ddf05"
      },
      "execution_count": 14,
      "outputs": [
        {
          "output_type": "execute_result",
          "data": {
            "text/plain": [
              "(tensor([1., 2., 3., 4., 5., 6., 7., 8., 9.]), torch.Size([9]))"
            ]
          },
          "metadata": {},
          "execution_count": 14
        }
      ]
    },
    {
      "cell_type": "code",
      "source": [
        "#add an extra deminsion\n",
        "x_reshaped=x.reshape(1,9)\n",
        "x_reshaped,x_reshaped.size()"
      ],
      "metadata": {
        "colab": {
          "base_uri": "https://localhost:8080/"
        },
        "id": "DEOmZpUTAquF",
        "outputId": "8e8d00c0-06da-439a-eb6a-f513d6a64c10"
      },
      "execution_count": 15,
      "outputs": [
        {
          "output_type": "execute_result",
          "data": {
            "text/plain": [
              "(tensor([[1., 2., 3., 4., 5., 6., 7., 8., 9.]]), torch.Size([1, 9]))"
            ]
          },
          "metadata": {},
          "execution_count": 15
        }
      ]
    },
    {
      "cell_type": "code",
      "source": [
        "#Change the view\n",
        "z=x.view(1,9)\n",
        "z,z.shape\n"
      ],
      "metadata": {
        "colab": {
          "base_uri": "https://localhost:8080/"
        },
        "id": "6gGNqIiACFFh",
        "outputId": "4aadacad-6639-404a-e6ae-568a70b6dc25"
      },
      "execution_count": 16,
      "outputs": [
        {
          "output_type": "execute_result",
          "data": {
            "text/plain": [
              "(tensor([[1., 2., 3., 4., 5., 6., 7., 8., 9.]]), torch.Size([1, 9]))"
            ]
          },
          "metadata": {},
          "execution_count": 16
        }
      ]
    },
    {
      "cell_type": "code",
      "source": [
        "#changing Z changes x(Because a view of the tensor share the same memory as the original tensor)\n",
        "z[:,0]=5\n",
        "z,x"
      ],
      "metadata": {
        "colab": {
          "base_uri": "https://localhost:8080/"
        },
        "id": "Xsk6J4tuCZnR",
        "outputId": "8c505696-1de6-4ed5-d164-9ed628e887c2"
      },
      "execution_count": 17,
      "outputs": [
        {
          "output_type": "execute_result",
          "data": {
            "text/plain": [
              "(tensor([[5., 2., 3., 4., 5., 6., 7., 8., 9.]]),\n",
              " tensor([5., 2., 3., 4., 5., 6., 7., 8., 9.]))"
            ]
          },
          "metadata": {},
          "execution_count": 17
        }
      ]
    },
    {
      "cell_type": "code",
      "source": [
        "#stack tensor in top of each other\n",
        "x_stacked=torch.stack([x,x,x,x],dim=1)\n",
        "x_stacked\n"
      ],
      "metadata": {
        "colab": {
          "base_uri": "https://localhost:8080/"
        },
        "id": "zbr25gNnCxqe",
        "outputId": "cd0d6387-4b8c-4703-ba67-06f3be68ffb7"
      },
      "execution_count": 18,
      "outputs": [
        {
          "output_type": "execute_result",
          "data": {
            "text/plain": [
              "tensor([[5., 5., 5., 5.],\n",
              "        [2., 2., 2., 2.],\n",
              "        [3., 3., 3., 3.],\n",
              "        [4., 4., 4., 4.],\n",
              "        [5., 5., 5., 5.],\n",
              "        [6., 6., 6., 6.],\n",
              "        [7., 7., 7., 7.],\n",
              "        [8., 8., 8., 8.],\n",
              "        [9., 9., 9., 9.]])"
            ]
          },
          "metadata": {},
          "execution_count": 18
        }
      ]
    },
    {
      "cell_type": "code",
      "source": [
        "#Torch.squeeze-to remaove the single dims form target tensor\n",
        "x_reshaped"
      ],
      "metadata": {
        "colab": {
          "base_uri": "https://localhost:8080/"
        },
        "id": "fmu9ZtabEwaL",
        "outputId": "f77ca107-21bb-4180-e57e-40e2ad3e47d5"
      },
      "execution_count": 19,
      "outputs": [
        {
          "output_type": "execute_result",
          "data": {
            "text/plain": [
              "tensor([[5., 2., 3., 4., 5., 6., 7., 8., 9.]])"
            ]
          },
          "metadata": {},
          "execution_count": 19
        }
      ]
    },
    {
      "cell_type": "code",
      "source": [
        "x_reshaped.shape"
      ],
      "metadata": {
        "colab": {
          "base_uri": "https://localhost:8080/"
        },
        "id": "JrpYN2ZkFOBv",
        "outputId": "40ff1094-29da-41d4-90cd-210e626faae4"
      },
      "execution_count": 20,
      "outputs": [
        {
          "output_type": "execute_result",
          "data": {
            "text/plain": [
              "torch.Size([1, 9])"
            ]
          },
          "metadata": {},
          "execution_count": 20
        }
      ]
    },
    {
      "cell_type": "code",
      "source": [
        "x_squeeze=x_reshaped.squeeze()\n",
        "x_squeeze"
      ],
      "metadata": {
        "colab": {
          "base_uri": "https://localhost:8080/"
        },
        "id": "rblkQDpmFS_h",
        "outputId": "4dbd8f33-5b4a-4091-d604-6fd63f49e1a8"
      },
      "execution_count": 21,
      "outputs": [
        {
          "output_type": "execute_result",
          "data": {
            "text/plain": [
              "tensor([5., 2., 3., 4., 5., 6., 7., 8., 9.])"
            ]
          },
          "metadata": {},
          "execution_count": 21
        }
      ]
    },
    {
      "cell_type": "code",
      "source": [
        "#Torch.unsqueeze-add the single dime to a target tensor at the specific dims\n",
        "print(f\"Previous target: {x_squeeze}\")\n",
        "print(f\"Previous shape: {x_squeeze.shape}\")\n",
        "#Adding an extra dimension with unsqueeze\n",
        "x_unsqueezed=x_squeeze.unsqueeze(dim=0)\n",
        "print(f\"\\n New Tensor: {x_unsqueezed}\")\n",
        "print(f\"new Shape:{x_unsqueezed.shape}\")\n",
        "\n"
      ],
      "metadata": {
        "colab": {
          "base_uri": "https://localhost:8080/"
        },
        "id": "g62OgSS5FbZb",
        "outputId": "7109bbd7-2917-421c-c394-2ae0ae5d36d4"
      },
      "execution_count": 22,
      "outputs": [
        {
          "output_type": "stream",
          "name": "stdout",
          "text": [
            "Previous target: tensor([5., 2., 3., 4., 5., 6., 7., 8., 9.])\n",
            "Previous shape: torch.Size([9])\n",
            "\n",
            " New Tensor: tensor([[5., 2., 3., 4., 5., 6., 7., 8., 9.]])\n",
            "new Shape:torch.Size([1, 9])\n"
          ]
        }
      ]
    },
    {
      "cell_type": "code",
      "source": [
        "#trrch.permute-rearrange the dimension of the target random numbers\n",
        "x_original=torch.rand(size=(224,224,3))  #(height,width,colour_channels(red green and blue))\n",
        "#premute the original tensor to rearrang the axis (or dim) order.\n",
        "x_permuted=x_original.permute(2,0,1) #shifts axis 0->1,1->2,2->0\n",
        "print(f\"Previous shape: {x_original.shape}\")\n",
        "print(f\"Premuted shape: {x_permuted.shape}\")# 9colour channel,height,width"
      ],
      "metadata": {
        "colab": {
          "base_uri": "https://localhost:8080/"
        },
        "id": "LJYrXzm8HjEu",
        "outputId": "553fe2c8-683d-4d5a-85c7-1b7b75404960"
      },
      "execution_count": 23,
      "outputs": [
        {
          "output_type": "stream",
          "name": "stdout",
          "text": [
            "Previous shape: torch.Size([224, 224, 3])\n",
            "Premuted shape: torch.Size([3, 224, 224])\n"
          ]
        }
      ]
    },
    {
      "cell_type": "code",
      "source": [
        "x_original[1,0,0]=9.1234"
      ],
      "metadata": {
        "id": "MlrXMDn_LJv_"
      },
      "execution_count": 24,
      "outputs": []
    },
    {
      "cell_type": "code",
      "source": [
        "x_original[1,0,0],x_permuted[1,0,0]"
      ],
      "metadata": {
        "colab": {
          "base_uri": "https://localhost:8080/"
        },
        "id": "OmqHnIK3LZSA",
        "outputId": "7975c8ee-7d83-4682-f733-5453fe1c30fc"
      },
      "execution_count": 25,
      "outputs": [
        {
          "output_type": "execute_result",
          "data": {
            "text/plain": [
              "(tensor(9.1234), tensor(0.2426))"
            ]
          },
          "metadata": {},
          "execution_count": 25
        }
      ]
    },
    {
      "cell_type": "markdown",
      "source": [
        "##Indexing (select data from tensor)\n",
        "\n",
        "Indexing with pytorch is similar to indexing with numpy"
      ],
      "metadata": {
        "id": "DRcu1VXRMc7i"
      }
    },
    {
      "cell_type": "code",
      "source": [
        "#create a tensor\n",
        "import torch\n",
        "x=torch.arange(1,10).reshape(1,3,3)\n",
        "x,x.shape"
      ],
      "metadata": {
        "colab": {
          "base_uri": "https://localhost:8080/"
        },
        "id": "ALJ-KXMxMvLH",
        "outputId": "3f18afa9-b39d-47ce-8734-b893352dd3b0"
      },
      "execution_count": 26,
      "outputs": [
        {
          "output_type": "execute_result",
          "data": {
            "text/plain": [
              "(tensor([[[1, 2, 3],\n",
              "          [4, 5, 6],\n",
              "          [7, 8, 9]]]),\n",
              " torch.Size([1, 3, 3]))"
            ]
          },
          "metadata": {},
          "execution_count": 26
        }
      ]
    },
    {
      "cell_type": "code",
      "source": [
        "#lets index on our new tensor\n",
        "x[0]"
      ],
      "metadata": {
        "colab": {
          "base_uri": "https://localhost:8080/"
        },
        "id": "qd5U0Q1VNVd4",
        "outputId": "82155d21-0c29-4f9c-d8c6-e2d716b9ba89"
      },
      "execution_count": 27,
      "outputs": [
        {
          "output_type": "execute_result",
          "data": {
            "text/plain": [
              "tensor([[1, 2, 3],\n",
              "        [4, 5, 6],\n",
              "        [7, 8, 9]])"
            ]
          },
          "metadata": {},
          "execution_count": 27
        }
      ]
    },
    {
      "cell_type": "code",
      "source": [
        "#Let's index the middle bracket(dim=1)\n",
        "x[0,0]"
      ],
      "metadata": {
        "colab": {
          "base_uri": "https://localhost:8080/"
        },
        "id": "3BpP7AtqNfgR",
        "outputId": "154ee057-6577-4c4e-a5b4-f6f6629344d1"
      },
      "execution_count": 28,
      "outputs": [
        {
          "output_type": "execute_result",
          "data": {
            "text/plain": [
              "tensor([1, 2, 3])"
            ]
          },
          "metadata": {},
          "execution_count": 28
        }
      ]
    },
    {
      "cell_type": "code",
      "source": [
        "#let's index on he most inner bracket(last dimension)\n",
        "x[0,2,2]"
      ],
      "metadata": {
        "colab": {
          "base_uri": "https://localhost:8080/"
        },
        "id": "Zz-XgKbTN5FV",
        "outputId": "38d2d626-751a-49d8-9ae1-2e03aa00e7f0"
      },
      "execution_count": 29,
      "outputs": [
        {
          "output_type": "execute_result",
          "data": {
            "text/plain": [
              "tensor(9)"
            ]
          },
          "metadata": {},
          "execution_count": 29
        }
      ]
    },
    {
      "cell_type": "code",
      "source": [
        "#you can also use \":\" to select \"all\" os a target dimension\n",
        "x[:,0]"
      ],
      "metadata": {
        "colab": {
          "base_uri": "https://localhost:8080/"
        },
        "id": "AvpSe4IWOY4R",
        "outputId": "740420a4-7768-486d-e05e-89d6cbb14274"
      },
      "execution_count": 30,
      "outputs": [
        {
          "output_type": "execute_result",
          "data": {
            "text/plain": [
              "tensor([[1, 2, 3]])"
            ]
          },
          "metadata": {},
          "execution_count": 30
        }
      ]
    },
    {
      "cell_type": "code",
      "source": [
        "#Get all values of 0th and 1st deminsion but the index 1 nad 2 deiension\n",
        "x[:,:,1]"
      ],
      "metadata": {
        "colab": {
          "base_uri": "https://localhost:8080/"
        },
        "id": "_YssH5rPPI2o",
        "outputId": "3e887a8d-2f2f-4143-a4f9-d807c369fc3b"
      },
      "execution_count": 31,
      "outputs": [
        {
          "output_type": "execute_result",
          "data": {
            "text/plain": [
              "tensor([[2, 5, 8]])"
            ]
          },
          "metadata": {},
          "execution_count": 31
        }
      ]
    },
    {
      "cell_type": "code",
      "source": [
        "x[:,1,1]"
      ],
      "metadata": {
        "colab": {
          "base_uri": "https://localhost:8080/"
        },
        "id": "KPSg_HWQP22_",
        "outputId": "acce7468-6a1b-4d9b-b93a-52bfe2816911"
      },
      "execution_count": 32,
      "outputs": [
        {
          "output_type": "execute_result",
          "data": {
            "text/plain": [
              "tensor([5])"
            ]
          },
          "metadata": {},
          "execution_count": 32
        }
      ]
    },
    {
      "cell_type": "code",
      "source": [
        "#get index of 0 dimension and 1st dimension and all values od 2nd dimension\n",
        "x[0,0,:]"
      ],
      "metadata": {
        "colab": {
          "base_uri": "https://localhost:8080/"
        },
        "id": "Xb8XIUeGP6Cn",
        "outputId": "949491b2-68af-4399-b035-d9688f853a40"
      },
      "execution_count": 33,
      "outputs": [
        {
          "output_type": "execute_result",
          "data": {
            "text/plain": [
              "tensor([1, 2, 3])"
            ]
          },
          "metadata": {},
          "execution_count": 33
        }
      ]
    },
    {
      "cell_type": "code",
      "source": [
        "x"
      ],
      "metadata": {
        "colab": {
          "base_uri": "https://localhost:8080/"
        },
        "id": "rKSiVb7HQNim",
        "outputId": "6df54048-9b4d-40f2-b6b3-fc362e973972"
      },
      "execution_count": 34,
      "outputs": [
        {
          "output_type": "execute_result",
          "data": {
            "text/plain": [
              "tensor([[[1, 2, 3],\n",
              "         [4, 5, 6],\n",
              "         [7, 8, 9]]])"
            ]
          },
          "metadata": {},
          "execution_count": 34
        }
      ]
    },
    {
      "cell_type": "code",
      "source": [
        "#index on x return 9\n",
        "x[:,2,2]"
      ],
      "metadata": {
        "colab": {
          "base_uri": "https://localhost:8080/"
        },
        "id": "wWGIqE_1QWyU",
        "outputId": "d390957c-5eae-439e-a140-6f60454ae73f"
      },
      "execution_count": 35,
      "outputs": [
        {
          "output_type": "execute_result",
          "data": {
            "text/plain": [
              "tensor([9])"
            ]
          },
          "metadata": {},
          "execution_count": 35
        }
      ]
    },
    {
      "cell_type": "code",
      "source": [
        "#index on x return 3,6,9\n",
        "x[:,:,2]"
      ],
      "metadata": {
        "colab": {
          "base_uri": "https://localhost:8080/"
        },
        "id": "4hnTY3LFQf0d",
        "outputId": "8c0deafe-4f80-4b71-d9b8-f7cd48b650b4"
      },
      "execution_count": 36,
      "outputs": [
        {
          "output_type": "execute_result",
          "data": {
            "text/plain": [
              "tensor([[3, 6, 9]])"
            ]
          },
          "metadata": {},
          "execution_count": 36
        }
      ]
    },
    {
      "cell_type": "markdown",
      "source": [
        "from ctypes import LibraryLoader\n",
        "##Pytorch tensors and NumPy\n",
        "NumPy is a popular scientific Python numeric computing computing LibraryLoader\n",
        "\n",
        "And because of this .pytorch has functionality to ineract with it\n",
        "\n",
        "*Dtata is NumPy  ,want in Pytorch tensor->`torch.from_numpy(ndarray)\n",
        "\n",
        ".Pytorch Tesor ->NumPy ->torch.tensor.numpy()"
      ],
      "metadata": {
        "id": "NcGok2igREii"
      }
    },
    {
      "cell_type": "code",
      "source": [
        "#NumPy array to tensor\n",
        "import torch\n",
        "import numpy as np\n",
        "\n",
        "array=np.arange(1.0 ,8.0)\n",
        "tensor=torch.from_numpy(array) #when you convert the numpy datatype to pytorch datatype the dtype is numpay defult that is float 64\n",
        "array,tensor"
      ],
      "metadata": {
        "colab": {
          "base_uri": "https://localhost:8080/"
        },
        "id": "iTWmVrglRcS0",
        "outputId": "cebcb290-db8f-4a14-a57c-df2bb41769a8"
      },
      "execution_count": 37,
      "outputs": [
        {
          "output_type": "execute_result",
          "data": {
            "text/plain": [
              "(array([1., 2., 3., 4., 5., 6., 7.]),\n",
              " tensor([1., 2., 3., 4., 5., 6., 7.], dtype=torch.float64))"
            ]
          },
          "metadata": {},
          "execution_count": 37
        }
      ]
    },
    {
      "cell_type": "code",
      "source": [
        "array.dtype"
      ],
      "metadata": {
        "colab": {
          "base_uri": "https://localhost:8080/"
        },
        "id": "9_wclOEJShtT",
        "outputId": "cbdf8f33-6fc1-4f5c-caac-972253758788"
      },
      "execution_count": 38,
      "outputs": [
        {
          "output_type": "execute_result",
          "data": {
            "text/plain": [
              "dtype('float64')"
            ]
          },
          "metadata": {},
          "execution_count": 38
        }
      ]
    },
    {
      "cell_type": "code",
      "source": [
        "tensor.dtype"
      ],
      "metadata": {
        "colab": {
          "base_uri": "https://localhost:8080/"
        },
        "id": "hnWTbt91Sn8N",
        "outputId": "e446ceb5-64c1-4d47-bd85-16bb6d6a1751"
      },
      "execution_count": 39,
      "outputs": [
        {
          "output_type": "execute_result",
          "data": {
            "text/plain": [
              "torch.float64"
            ]
          },
          "metadata": {},
          "execution_count": 39
        }
      ]
    },
    {
      "cell_type": "code",
      "source": [
        "#change the value of the array\n",
        "array=array+1\n",
        "array,tensor\n"
      ],
      "metadata": {
        "colab": {
          "base_uri": "https://localhost:8080/"
        },
        "id": "glZFQAiuTixV",
        "outputId": "2d404a97-08e6-40cb-e0ab-45a6033e38a6"
      },
      "execution_count": 40,
      "outputs": [
        {
          "output_type": "execute_result",
          "data": {
            "text/plain": [
              "(array([2., 3., 4., 5., 6., 7., 8.]),\n",
              " tensor([1., 2., 3., 4., 5., 6., 7.], dtype=torch.float64))"
            ]
          },
          "metadata": {},
          "execution_count": 40
        }
      ]
    },
    {
      "cell_type": "code",
      "source": [
        "#Tensor to Numpy array\n",
        "tensor=torch.ones(7)\n",
        "numpy_tensor=tensor.numpy()\n",
        "tensor,numpy_tensor"
      ],
      "metadata": {
        "colab": {
          "base_uri": "https://localhost:8080/"
        },
        "id": "5nrTbLm9UHRZ",
        "outputId": "759e2f6a-b993-4fe5-c35e-d6c19b521d91"
      },
      "execution_count": 41,
      "outputs": [
        {
          "output_type": "execute_result",
          "data": {
            "text/plain": [
              "(tensor([1., 1., 1., 1., 1., 1., 1.]),\n",
              " array([1., 1., 1., 1., 1., 1., 1.], dtype=float32))"
            ]
          },
          "metadata": {},
          "execution_count": 41
        }
      ]
    },
    {
      "cell_type": "code",
      "source": [
        "numpy_tensor.dtype"
      ],
      "metadata": {
        "colab": {
          "base_uri": "https://localhost:8080/"
        },
        "id": "yTfRkZp_UnU1",
        "outputId": "c0c62013-b1d9-464c-e7a0-22249a06de6c"
      },
      "execution_count": 42,
      "outputs": [
        {
          "output_type": "execute_result",
          "data": {
            "text/plain": [
              "dtype('float32')"
            ]
          },
          "metadata": {},
          "execution_count": 42
        }
      ]
    },
    {
      "cell_type": "code",
      "source": [
        "tensor=tensor+1\n",
        "tensor,numpy_tensor"
      ],
      "metadata": {
        "colab": {
          "base_uri": "https://localhost:8080/"
        },
        "id": "3s1LoyzYU2BL",
        "outputId": "e45d991c-fed2-4347-e6b9-85412041e68f"
      },
      "execution_count": 43,
      "outputs": [
        {
          "output_type": "execute_result",
          "data": {
            "text/plain": [
              "(tensor([2., 2., 2., 2., 2., 2., 2.]),\n",
              " array([1., 1., 1., 1., 1., 1., 1.], dtype=float32))"
            ]
          },
          "metadata": {},
          "execution_count": 43
        }
      ]
    },
    {
      "cell_type": "markdown",
      "source": [
        "from typing_extensions import LiteralString\n",
        "##Reproducibility (Triying to take random out of random)\n",
        "\n",
        "In Short How a neural network LiteralString\n",
        "\n",
        "`start with random numbers -.Tenosr operation->Update random numbers to try and make them better Representations  \n",
        "of the data-.again->again\n",
        "\n",
        "To reduce the randomness in neural network and Pytorch comes the concept of a Random seed\n",
        "\n",
        "Essentially what the random seed does in \"flavour the randmoness"
      ],
      "metadata": {
        "id": "NObaozGN_wXc"
      }
    },
    {
      "cell_type": "code",
      "source": [
        "import torch\n",
        "#create two random tensors\n",
        "\n",
        "random_tensor_a=torch.rand(3,4)\n",
        "random_tensor_b=torch.rand(3,4)\n",
        "print(random_tensor_a)\n",
        "print(random_tensor_b)\n",
        "\n",
        "print(random_tensor_a==random_tensor_b)\n"
      ],
      "metadata": {
        "colab": {
          "base_uri": "https://localhost:8080/"
        },
        "id": "OdhV1_prFxt9",
        "outputId": "c512586e-fbc1-4592-e481-c2fc2abd6ad8"
      },
      "execution_count": 47,
      "outputs": [
        {
          "output_type": "stream",
          "name": "stdout",
          "text": [
            "tensor([[0.0802, 0.8259, 0.1709, 0.8779],\n",
            "        [0.2802, 0.3326, 0.0776, 0.5542],\n",
            "        [0.6719, 0.6149, 0.7984, 0.4920]])\n",
            "tensor([[0.1696, 0.9631, 0.1609, 0.5392],\n",
            "        [0.0029, 0.0530, 0.7443, 0.5060],\n",
            "        [0.1908, 0.1075, 0.8976, 0.7894]])\n",
            "tensor([[False, False, False, False],\n",
            "        [False, False, False, False],\n",
            "        [False, False, False, False]])\n"
          ]
        }
      ]
    },
    {
      "cell_type": "code",
      "source": [
        "#let's  make some random but reproducable tensor\n",
        "\n",
        "#set the random seed\n",
        "RANDOM_SEEED=42\n",
        "torch.manual_seed(RANDOM_SEEED)\n",
        "random_tensor_c=torch.rand(3,4)\n",
        "\n",
        "torch.manual_seed(RANDOM_SEEED)\n",
        "random_tensor_d=torch.rand(3,4)\n",
        "\n",
        "print(random_tensor_c)\n",
        "print(random_tensor_d)\n",
        "\n",
        "print(random_tensor_c==random_tensor_d)\n",
        "\n"
      ],
      "metadata": {
        "colab": {
          "base_uri": "https://localhost:8080/"
        },
        "id": "7Fk4MEMGHZrP",
        "outputId": "aaf346c7-d098-4054-9083-38f2e0f0e098"
      },
      "execution_count": 48,
      "outputs": [
        {
          "output_type": "stream",
          "name": "stdout",
          "text": [
            "tensor([[0.8823, 0.9150, 0.3829, 0.9593],\n",
            "        [0.3904, 0.6009, 0.2566, 0.7936],\n",
            "        [0.9408, 0.1332, 0.9346, 0.5936]])\n",
            "tensor([[0.8823, 0.9150, 0.3829, 0.9593],\n",
            "        [0.3904, 0.6009, 0.2566, 0.7936],\n",
            "        [0.9408, 0.1332, 0.9346, 0.5936]])\n",
            "tensor([[True, True, True, True],\n",
            "        [True, True, True, True],\n",
            "        [True, True, True, True]])\n"
          ]
        }
      ]
    },
    {
      "cell_type": "markdown",
      "source": [
        "#Running  tensor and pytorch on the GPU (and making faster computation)\n",
        "\n",
        "GPU=faster computation on numbers ,thanks to CUDA hardware +PyTorch working behind the seans make everything hunky gody(good)"
      ],
      "metadata": {
        "id": "MEC5GoCPKRUP"
      }
    },
    {
      "cell_type": "markdown",
      "source": [
        "##chech fpr GPU access with pytorch"
      ],
      "metadata": {
        "id": "lEPcqaPaWtb2"
      }
    },
    {
      "cell_type": "code",
      "source": [
        "#chexk for GPU access with pyTorch\n",
        "import torch\n",
        "\n"
      ],
      "metadata": {
        "id": "C0-pueV1ZKIf"
      },
      "execution_count": 1,
      "outputs": []
    },
    {
      "cell_type": "code",
      "source": [
        "device=\"cuda\" if torch .cuda.is_available() else \"cpu\"\n",
        "device"
      ],
      "metadata": {
        "colab": {
          "base_uri": "https://localhost:8080/",
          "height": 36
        },
        "id": "8nyDAU9PZwiE",
        "outputId": "15c54d7d-8818-48d7-d420-2990f2d32db0"
      },
      "execution_count": 4,
      "outputs": [
        {
          "output_type": "execute_result",
          "data": {
            "text/plain": [
              "'cuda'"
            ],
            "application/vnd.google.colaboratory.intrinsic+json": {
              "type": "string"
            }
          },
          "metadata": {},
          "execution_count": 4
        }
      ]
    },
    {
      "cell_type": "code",
      "source": [
        "torch.cuda.device_count()"
      ],
      "metadata": {
        "colab": {
          "base_uri": "https://localhost:8080/"
        },
        "id": "9aERNbGvZ9MF",
        "outputId": "66be49c1-898a-4747-882b-4430261e0a7e"
      },
      "execution_count": 3,
      "outputs": [
        {
          "output_type": "execute_result",
          "data": {
            "text/plain": [
              "1"
            ]
          },
          "metadata": {},
          "execution_count": 3
        }
      ]
    },
    {
      "cell_type": "markdown",
      "source": [
        "##Putting Tensors(and models )On the GPU\n",
        "The reason we want our tensors/models on the GPU is because using a gpy result in faster computatiomn"
      ],
      "metadata": {
        "id": "0DeVJc86a6EG"
      }
    },
    {
      "cell_type": "code",
      "source": [
        "#Createa tensor (defult on the CPU)\n",
        "tensor =torch.tensor([1,2,3])\n",
        "\n",
        "\n",
        "#Tensor not on GPU\n",
        "print(tensor,tensor.device)"
      ],
      "metadata": {
        "colab": {
          "base_uri": "https://localhost:8080/"
        },
        "id": "kxttgvVqbh_r",
        "outputId": "5aa82b27-b9bb-43ee-b407-9779d4724e21"
      },
      "execution_count": 5,
      "outputs": [
        {
          "output_type": "stream",
          "name": "stdout",
          "text": [
            "tensor([1, 2, 3]) cpu\n"
          ]
        }
      ]
    },
    {
      "cell_type": "code",
      "source": [
        "#Move tensor to GPU (if available)\n",
        "tensor_on_gpu=tensor.to(device)\n",
        "tensor_on_gpu"
      ],
      "metadata": {
        "colab": {
          "base_uri": "https://localhost:8080/"
        },
        "id": "ywvbtMOocD6G",
        "outputId": "c3474129-e2a5-4284-fa1d-89d94a74441d"
      },
      "execution_count": 6,
      "outputs": [
        {
          "output_type": "execute_result",
          "data": {
            "text/plain": [
              "tensor([1, 2, 3], device='cuda:0')"
            ]
          },
          "metadata": {},
          "execution_count": 6
        }
      ]
    },
    {
      "cell_type": "markdown",
      "source": [
        "###Moving tensors back to the CPU\n"
      ],
      "metadata": {
        "id": "GtSm2FeQeJix"
      }
    },
    {
      "cell_type": "code",
      "source": [
        "#if tensor is on gpu ,can't trankform it to NumPay\n",
        "tensor_on_gpu.numpy()\n",
        "\n"
      ],
      "metadata": {
        "colab": {
          "base_uri": "https://localhost:8080/",
          "height": 176
        },
        "id": "b8tJFnc_fgf5",
        "outputId": "28a8a22d-6dc4-4ab3-c94f-d5ace054dac1"
      },
      "execution_count": 7,
      "outputs": [
        {
          "output_type": "error",
          "ename": "TypeError",
          "evalue": "can't convert cuda:0 device type tensor to numpy. Use Tensor.cpu() to copy the tensor to host memory first.",
          "traceback": [
            "\u001b[0;31m---------------------------------------------------------------------------\u001b[0m",
            "\u001b[0;31mTypeError\u001b[0m                                 Traceback (most recent call last)",
            "\u001b[0;32m<ipython-input-7-85896b2adf79>\u001b[0m in \u001b[0;36m<cell line: 0>\u001b[0;34m()\u001b[0m\n\u001b[1;32m      1\u001b[0m \u001b[0;31m#if tensor is on gpu ,can't trankform it to NumPay\u001b[0m\u001b[0;34m\u001b[0m\u001b[0;34m\u001b[0m\u001b[0m\n\u001b[0;32m----> 2\u001b[0;31m \u001b[0mtensor_on_gpu\u001b[0m\u001b[0;34m.\u001b[0m\u001b[0mnumpy\u001b[0m\u001b[0;34m(\u001b[0m\u001b[0;34m)\u001b[0m\u001b[0;34m\u001b[0m\u001b[0;34m\u001b[0m\u001b[0m\n\u001b[0m",
            "\u001b[0;31mTypeError\u001b[0m: can't convert cuda:0 device type tensor to numpy. Use Tensor.cpu() to copy the tensor to host memory first."
          ]
        }
      ]
    },
    {
      "cell_type": "code",
      "source": [
        "#to fix theCPU tensor with Numpy  issue  ,we can first set it to the cpu\n",
        "tensor_back_on_cpu=tensor_on_gpu.cpu().numpy()\n",
        "tensor_back_on_cpu"
      ],
      "metadata": {
        "colab": {
          "base_uri": "https://localhost:8080/"
        },
        "id": "RaQ1Sy4nhsYb",
        "outputId": "26cb7885-186a-41cd-8c67-22ed55fbcd20"
      },
      "execution_count": 8,
      "outputs": [
        {
          "output_type": "execute_result",
          "data": {
            "text/plain": [
              "array([1, 2, 3])"
            ]
          },
          "metadata": {},
          "execution_count": 8
        }
      ]
    },
    {
      "cell_type": "code",
      "source": [
        "tensor_on_gpu"
      ],
      "metadata": {
        "colab": {
          "base_uri": "https://localhost:8080/"
        },
        "id": "slOk4HYviOmQ",
        "outputId": "61e34637-3b8c-4c96-f567-a9af0acab2f0"
      },
      "execution_count": 9,
      "outputs": [
        {
          "output_type": "execute_result",
          "data": {
            "text/plain": [
              "tensor([1, 2, 3], device='cuda:0')"
            ]
          },
          "metadata": {},
          "execution_count": 9
        }
      ]
    },
    {
      "cell_type": "markdown",
      "source": [
        "##Exercise and Extra-s"
      ],
      "metadata": {
        "id": "GYRNT9EaivlF"
      }
    }
  ]
}