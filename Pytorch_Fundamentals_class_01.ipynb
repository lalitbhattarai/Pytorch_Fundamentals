{
  "nbformat": 4,
  "nbformat_minor": 0,
  "metadata": {
    "colab": {
      "provenance": [],
      "authorship_tag": "ABX9TyPMjFUrJhY29dzd4JulxUwb",
      "include_colab_link": true
    },
    "kernelspec": {
      "name": "python3",
      "display_name": "Python 3"
    },
    "language_info": {
      "name": "python"
    }
  },
  "cells": [
    {
      "cell_type": "markdown",
      "metadata": {
        "id": "view-in-github",
        "colab_type": "text"
      },
      "source": [
        "<a href=\"https://colab.research.google.com/github/lalitbhattarai/Pytorch_Fundamentals/blob/main/Pytorch_Fundamentals_class_01.ipynb\" target=\"_parent\"><img src=\"https://colab.research.google.com/assets/colab-badge.svg\" alt=\"Open In Colab\"/></a>"
      ]
    },
    {
      "cell_type": "code",
      "execution_count": null,
      "metadata": {
        "colab": {
          "base_uri": "https://localhost:8080/"
        },
        "id": "7IpNW2Tn7i45",
        "outputId": "7335e3d9-338c-47bb-d1e8-1eee41985904"
      },
      "outputs": [
        {
          "output_type": "stream",
          "name": "stdout",
          "text": [
            "2.5.1+cu124\n"
          ]
        }
      ],
      "source": [
        "import torch\n",
        "print(torch.__version__)"
      ]
    },
    {
      "cell_type": "markdown",
      "source": [
        "##INTRODUCTION TO TENSORS\n",
        "**CREATING A TENSOR**"
      ],
      "metadata": {
        "id": "ba8qVMyF8FCu"
      }
    },
    {
      "cell_type": "code",
      "source": [
        "#SCALAR\n",
        "scalar=torch.tensor(7)\n",
        "scalar"
      ],
      "metadata": {
        "colab": {
          "base_uri": "https://localhost:8080/"
        },
        "id": "XZ54OWuW73-0",
        "outputId": "6b597e45-a337-4e78-caa4-1eef1ebcad43"
      },
      "execution_count": null,
      "outputs": [
        {
          "output_type": "execute_result",
          "data": {
            "text/plain": [
              "tensor(7)"
            ]
          },
          "metadata": {},
          "execution_count": 2
        }
      ]
    },
    {
      "cell_type": "code",
      "source": [
        "scalar.ndim"
      ],
      "metadata": {
        "colab": {
          "base_uri": "https://localhost:8080/"
        },
        "id": "srE5e5tU74UU",
        "outputId": "3bd43219-fbe5-45d2-a46b-7edbcc8b47d7"
      },
      "execution_count": null,
      "outputs": [
        {
          "output_type": "execute_result",
          "data": {
            "text/plain": [
              "0"
            ]
          },
          "metadata": {},
          "execution_count": 3
        }
      ]
    },
    {
      "cell_type": "code",
      "source": [
        "scalar.item()"
      ],
      "metadata": {
        "colab": {
          "base_uri": "https://localhost:8080/"
        },
        "id": "clnRp3Zq8t6s",
        "outputId": "75c8cb8b-6b66-4982-e98a-9187b1ff66b0"
      },
      "execution_count": null,
      "outputs": [
        {
          "output_type": "execute_result",
          "data": {
            "text/plain": [
              "7"
            ]
          },
          "metadata": {},
          "execution_count": 4
        }
      ]
    },
    {
      "cell_type": "code",
      "source": [
        "#VECTOR\n",
        "vector=torch.tensor([7,7])\n",
        "vector"
      ],
      "metadata": {
        "colab": {
          "base_uri": "https://localhost:8080/"
        },
        "id": "gjUwTRDL80VO",
        "outputId": "48475381-0b96-4f33-f502-4945a1964656"
      },
      "execution_count": null,
      "outputs": [
        {
          "output_type": "execute_result",
          "data": {
            "text/plain": [
              "tensor([7, 7])"
            ]
          },
          "metadata": {},
          "execution_count": 5
        }
      ]
    },
    {
      "cell_type": "code",
      "source": [
        "vector.ndim"
      ],
      "metadata": {
        "colab": {
          "base_uri": "https://localhost:8080/"
        },
        "id": "GN08pytU9NB3",
        "outputId": "ece803e3-e4d6-4a90-cba2-432fdabaab86"
      },
      "execution_count": null,
      "outputs": [
        {
          "output_type": "execute_result",
          "data": {
            "text/plain": [
              "1"
            ]
          },
          "metadata": {},
          "execution_count": 6
        }
      ]
    },
    {
      "cell_type": "code",
      "source": [
        "vector.shape"
      ],
      "metadata": {
        "colab": {
          "base_uri": "https://localhost:8080/"
        },
        "id": "WUQZ_zkq9PcG",
        "outputId": "9775c5ca-d60c-4bf7-af14-f492f2ed06e3"
      },
      "execution_count": null,
      "outputs": [
        {
          "output_type": "execute_result",
          "data": {
            "text/plain": [
              "torch.Size([2])"
            ]
          },
          "metadata": {},
          "execution_count": 7
        }
      ]
    },
    {
      "cell_type": "code",
      "source": [
        "#MATRIX\n",
        "MATRIX=torch.tensor([[7,8],\n",
        "                    [1,3]])\n",
        "MATRIX"
      ],
      "metadata": {
        "colab": {
          "base_uri": "https://localhost:8080/"
        },
        "id": "dpGFaovg9XYo",
        "outputId": "04d8d393-4046-439d-aa32-dce914794a5e"
      },
      "execution_count": null,
      "outputs": [
        {
          "output_type": "execute_result",
          "data": {
            "text/plain": [
              "tensor([[7, 8],\n",
              "        [1, 3]])"
            ]
          },
          "metadata": {},
          "execution_count": 8
        }
      ]
    },
    {
      "cell_type": "code",
      "source": [
        "MATRIX.ndim"
      ],
      "metadata": {
        "colab": {
          "base_uri": "https://localhost:8080/"
        },
        "id": "LAHQgvZ19qbb",
        "outputId": "b2066ff8-cae9-493c-a750-9fae9a2d6568"
      },
      "execution_count": null,
      "outputs": [
        {
          "output_type": "execute_result",
          "data": {
            "text/plain": [
              "2"
            ]
          },
          "metadata": {},
          "execution_count": 9
        }
      ]
    },
    {
      "cell_type": "code",
      "source": [
        "MATRIX.shape"
      ],
      "metadata": {
        "colab": {
          "base_uri": "https://localhost:8080/"
        },
        "id": "BrtThHWs9s-K",
        "outputId": "938e5071-4531-4ff5-dd72-5dd8f94af90b"
      },
      "execution_count": null,
      "outputs": [
        {
          "output_type": "execute_result",
          "data": {
            "text/plain": [
              "torch.Size([2, 2])"
            ]
          },
          "metadata": {},
          "execution_count": 10
        }
      ]
    },
    {
      "cell_type": "code",
      "source": [
        "#TENSORS\n",
        "TENSOR=torch.tensor([[[1,2,3],\n",
        "                      [4,5,6],\n",
        "                      [7,8,9]]])\n",
        "TENSOR"
      ],
      "metadata": {
        "colab": {
          "base_uri": "https://localhost:8080/"
        },
        "id": "-hoRAqRD91TI",
        "outputId": "8ef45d13-a992-484b-f900-7e799eacf54e"
      },
      "execution_count": null,
      "outputs": [
        {
          "output_type": "execute_result",
          "data": {
            "text/plain": [
              "tensor([[[1, 2, 3],\n",
              "         [4, 5, 6],\n",
              "         [7, 8, 9]]])"
            ]
          },
          "metadata": {},
          "execution_count": 11
        }
      ]
    },
    {
      "cell_type": "code",
      "source": [
        "TENSOR.ndim"
      ],
      "metadata": {
        "colab": {
          "base_uri": "https://localhost:8080/"
        },
        "id": "VYYik30D-LRX",
        "outputId": "592912b3-04c1-4ff0-b3f7-f99652a93c3c"
      },
      "execution_count": null,
      "outputs": [
        {
          "output_type": "execute_result",
          "data": {
            "text/plain": [
              "3"
            ]
          },
          "metadata": {},
          "execution_count": 12
        }
      ]
    },
    {
      "cell_type": "code",
      "source": [
        "TENSOR.shape"
      ],
      "metadata": {
        "colab": {
          "base_uri": "https://localhost:8080/"
        },
        "id": "5iofhx_T-SSX",
        "outputId": "ee18c6d3-c1e8-4373-9ca6-d613453b0b60"
      },
      "execution_count": null,
      "outputs": [
        {
          "output_type": "execute_result",
          "data": {
            "text/plain": [
              "torch.Size([1, 3, 3])"
            ]
          },
          "metadata": {},
          "execution_count": 13
        }
      ]
    },
    {
      "cell_type": "code",
      "source": [
        "TENSOR[0]"
      ],
      "metadata": {
        "colab": {
          "base_uri": "https://localhost:8080/"
        },
        "id": "U-4lnqRg-aBw",
        "outputId": "e524618f-a5a6-4dae-f49b-69ce522b1df7"
      },
      "execution_count": null,
      "outputs": [
        {
          "output_type": "execute_result",
          "data": {
            "text/plain": [
              "tensor([[1, 2, 3],\n",
              "        [4, 5, 6],\n",
              "        [7, 8, 9]])"
            ]
          },
          "metadata": {},
          "execution_count": 14
        }
      ]
    },
    {
      "cell_type": "code",
      "source": [
        "#RANDOM TENSORS\n",
        "#creating a randomtensor of (3,4)\n",
        "\n",
        "random_tensors=torch.rand(3,4,)\n",
        "random_tensors"
      ],
      "metadata": {
        "colab": {
          "base_uri": "https://localhost:8080/"
        },
        "id": "wmfnYWB9-jGp",
        "outputId": "1ab5cec1-5ef5-43b7-9e66-e2b748493436"
      },
      "execution_count": null,
      "outputs": [
        {
          "output_type": "execute_result",
          "data": {
            "text/plain": [
              "tensor([[0.1084, 0.1363, 0.4837, 0.0277],\n",
              "        [0.4188, 0.1618, 0.7325, 0.7151],\n",
              "        [0.1854, 0.9740, 0.8991, 0.1894]])"
            ]
          },
          "metadata": {},
          "execution_count": 15
        }
      ]
    },
    {
      "cell_type": "code",
      "source": [
        "random_tensors.ndim"
      ],
      "metadata": {
        "colab": {
          "base_uri": "https://localhost:8080/"
        },
        "id": "kIdzlgW3_Kwn",
        "outputId": "291af83d-90e2-487d-8a1e-f14540b14a8a"
      },
      "execution_count": null,
      "outputs": [
        {
          "output_type": "execute_result",
          "data": {
            "text/plain": [
              "2"
            ]
          },
          "metadata": {},
          "execution_count": 16
        }
      ]
    },
    {
      "cell_type": "code",
      "source": [
        "#creating a random tensor with simiar shape to an image tensors\n",
        "random_image_size_tensor=torch.rand(size=(224,224,3)) #These are the height weight and colourof the images\n",
        "random_image_size_tensor"
      ],
      "metadata": {
        "colab": {
          "base_uri": "https://localhost:8080/"
        },
        "id": "wwOP4KSi_Pmm",
        "outputId": "4504bac0-5748-42fc-87be-9930c39d1b47"
      },
      "execution_count": null,
      "outputs": [
        {
          "output_type": "execute_result",
          "data": {
            "text/plain": [
              "tensor([[[0.6729, 0.8664, 0.2262],\n",
              "         [0.5145, 0.9024, 0.9862],\n",
              "         [0.7562, 0.7823, 0.1329],\n",
              "         ...,\n",
              "         [0.4488, 0.5823, 0.9520],\n",
              "         [0.2116, 0.4714, 0.8018],\n",
              "         [0.9420, 0.4557, 0.9539]],\n",
              "\n",
              "        [[0.5717, 0.9083, 0.8037],\n",
              "         [0.8261, 0.6053, 0.8425],\n",
              "         [0.6864, 0.6980, 0.2233],\n",
              "         ...,\n",
              "         [0.2254, 0.6203, 0.8651],\n",
              "         [0.0354, 0.3106, 0.2566],\n",
              "         [0.2375, 0.1654, 0.8174]],\n",
              "\n",
              "        [[0.0733, 0.9022, 0.4643],\n",
              "         [0.5618, 0.9423, 0.9541],\n",
              "         [0.8261, 0.0274, 0.5004],\n",
              "         ...,\n",
              "         [0.1250, 0.9324, 0.8875],\n",
              "         [0.8627, 0.5297, 0.7349],\n",
              "         [0.8253, 0.5567, 0.0326]],\n",
              "\n",
              "        ...,\n",
              "\n",
              "        [[0.3004, 0.0100, 0.3944],\n",
              "         [0.0414, 0.3968, 0.7089],\n",
              "         [0.6107, 0.6063, 0.5495],\n",
              "         ...,\n",
              "         [0.9812, 0.5883, 0.2937],\n",
              "         [0.3452, 0.5781, 0.2645],\n",
              "         [0.0634, 0.9454, 0.4159]],\n",
              "\n",
              "        [[0.7988, 0.1761, 0.6135],\n",
              "         [0.1283, 0.5863, 0.8773],\n",
              "         [0.9688, 0.0076, 0.3565],\n",
              "         ...,\n",
              "         [0.8392, 0.8897, 0.1781],\n",
              "         [0.1150, 0.3569, 0.6533],\n",
              "         [0.6545, 0.8102, 0.0970]],\n",
              "\n",
              "        [[0.6443, 0.1861, 0.4110],\n",
              "         [0.1689, 0.2312, 0.1247],\n",
              "         [0.0837, 0.5308, 0.9540],\n",
              "         ...,\n",
              "         [0.1748, 0.5174, 0.0721],\n",
              "         [0.2796, 0.0597, 0.9833],\n",
              "         [0.8798, 0.0238, 0.6480]]])"
            ]
          },
          "metadata": {},
          "execution_count": 17
        }
      ]
    },
    {
      "cell_type": "code",
      "source": [
        "random_image_size_tensor.ndim"
      ],
      "metadata": {
        "colab": {
          "base_uri": "https://localhost:8080/"
        },
        "id": "jtMs6g59_7WV",
        "outputId": "21bbbf14-172a-4526-e902-de9ad4230822"
      },
      "execution_count": null,
      "outputs": [
        {
          "output_type": "execute_result",
          "data": {
            "text/plain": [
              "3"
            ]
          },
          "metadata": {},
          "execution_count": 18
        }
      ]
    },
    {
      "cell_type": "code",
      "source": [
        "random_image_size_tensor.shape"
      ],
      "metadata": {
        "colab": {
          "base_uri": "https://localhost:8080/"
        },
        "id": "DLedZsDXADwB",
        "outputId": "9c67670e-5899-4113-84fe-9784a82d5187"
      },
      "execution_count": null,
      "outputs": [
        {
          "output_type": "execute_result",
          "data": {
            "text/plain": [
              "torch.Size([224, 224, 3])"
            ]
          },
          "metadata": {},
          "execution_count": 19
        }
      ]
    },
    {
      "cell_type": "code",
      "source": [
        "#creating a tenspr of all zeros\n",
        "zeros=torch.zeros(3,4)\n",
        "zeros"
      ],
      "metadata": {
        "colab": {
          "base_uri": "https://localhost:8080/"
        },
        "id": "wHBm_U76ATuI",
        "outputId": "d310b05a-e87a-4a9e-eb43-12bfbce8c21b"
      },
      "execution_count": null,
      "outputs": [
        {
          "output_type": "execute_result",
          "data": {
            "text/plain": [
              "tensor([[0., 0., 0., 0.],\n",
              "        [0., 0., 0., 0.],\n",
              "        [0., 0., 0., 0.]])"
            ]
          },
          "metadata": {},
          "execution_count": 20
        }
      ]
    },
    {
      "cell_type": "code",
      "source": [
        "ones=torch.ones(3,4)\n",
        "ones"
      ],
      "metadata": {
        "colab": {
          "base_uri": "https://localhost:8080/"
        },
        "id": "Dvj_NWgBAdKo",
        "outputId": "16bbecee-2074-4cf1-856d-7a7a9e8797b4"
      },
      "execution_count": null,
      "outputs": [
        {
          "output_type": "execute_result",
          "data": {
            "text/plain": [
              "tensor([[1., 1., 1., 1.],\n",
              "        [1., 1., 1., 1.],\n",
              "        [1., 1., 1., 1.]])"
            ]
          },
          "metadata": {},
          "execution_count": 21
        }
      ]
    },
    {
      "cell_type": "code",
      "source": [
        "ones.dtype"
      ],
      "metadata": {
        "colab": {
          "base_uri": "https://localhost:8080/"
        },
        "id": "2PwPX2OTA6A1",
        "outputId": "6a7cb57c-a69d-4209-bf61-a2944af262da"
      },
      "execution_count": null,
      "outputs": [
        {
          "output_type": "execute_result",
          "data": {
            "text/plain": [
              "torch.float32"
            ]
          },
          "metadata": {},
          "execution_count": 22
        }
      ]
    },
    {
      "cell_type": "code",
      "source": [
        "#creating a tensors of the certain range\n",
        "one_to_range=torch.arange(start=0,end=10,step=1)\n",
        "one_to_range"
      ],
      "metadata": {
        "colab": {
          "base_uri": "https://localhost:8080/"
        },
        "id": "cT0RYHKvBHo1",
        "outputId": "732a099c-fedf-4252-e942-4a79f71134fc"
      },
      "execution_count": null,
      "outputs": [
        {
          "output_type": "execute_result",
          "data": {
            "text/plain": [
              "tensor([0, 1, 2, 3, 4, 5, 6, 7, 8, 9])"
            ]
          },
          "metadata": {},
          "execution_count": 23
        }
      ]
    },
    {
      "cell_type": "code",
      "source": [
        "#craeting tensor like\n",
        "ten_zeros=torch.zeros_like(input=one_to_range)\n",
        "ten_zeros"
      ],
      "metadata": {
        "colab": {
          "base_uri": "https://localhost:8080/"
        },
        "id": "iajV06gZBj0x",
        "outputId": "1933897b-f2b9-4c00-b860-378a76192f3c"
      },
      "execution_count": null,
      "outputs": [
        {
          "output_type": "execute_result",
          "data": {
            "text/plain": [
              "tensor([0, 0, 0, 0, 0, 0, 0, 0, 0, 0])"
            ]
          },
          "metadata": {},
          "execution_count": 24
        }
      ]
    },
    {
      "cell_type": "markdown",
      "source": [
        "##Tenosrs data types"
      ],
      "metadata": {
        "id": "R-9-amUxCDz-"
      }
    },
    {
      "cell_type": "code",
      "source": [
        "#float 32 tensrs\n",
        "float_32_tensors=torch.tensor([3.0,6.0,9.0],dtype=None,device=None)\n",
        "float_32_tensors"
      ],
      "metadata": {
        "colab": {
          "base_uri": "https://localhost:8080/"
        },
        "id": "55SO4BpLCAPd",
        "outputId": "3e481a25-3b35-4218-82db-d23d17601a18"
      },
      "execution_count": null,
      "outputs": [
        {
          "output_type": "execute_result",
          "data": {
            "text/plain": [
              "tensor([3., 6., 9.])"
            ]
          },
          "metadata": {},
          "execution_count": 25
        }
      ]
    },
    {
      "cell_type": "code",
      "source": [
        "float_32_tensors.dtype"
      ],
      "metadata": {
        "colab": {
          "base_uri": "https://localhost:8080/"
        },
        "id": "MPywsdUSC2b0",
        "outputId": "97ea2841-b048-4d8c-d94e-9482a088aa7f"
      },
      "execution_count": null,
      "outputs": [
        {
          "output_type": "execute_result",
          "data": {
            "text/plain": [
              "torch.float32"
            ]
          },
          "metadata": {},
          "execution_count": 26
        }
      ]
    },
    {
      "cell_type": "code",
      "source": [
        "#changing float 32datatype into float 16 datatype\n",
        "float_16_datatype=float_32_tensors.type(torch.float16)\n",
        "float_16_datatype"
      ],
      "metadata": {
        "colab": {
          "base_uri": "https://localhost:8080/"
        },
        "id": "YB3DTfyIDTnv",
        "outputId": "c4d631ae-d106-4056-a2c5-1d614040ac23"
      },
      "execution_count": null,
      "outputs": [
        {
          "output_type": "execute_result",
          "data": {
            "text/plain": [
              "tensor([3., 6., 9.], dtype=torch.float16)"
            ]
          },
          "metadata": {},
          "execution_count": 27
        }
      ]
    },
    {
      "cell_type": "code",
      "source": [
        "float_16_datatype.dtype"
      ],
      "metadata": {
        "colab": {
          "base_uri": "https://localhost:8080/"
        },
        "id": "IS2WK-CgED89",
        "outputId": "5039c338-77f8-42e2-95f4-18b09c7bdace"
      },
      "execution_count": null,
      "outputs": [
        {
          "output_type": "execute_result",
          "data": {
            "text/plain": [
              "torch.float16"
            ]
          },
          "metadata": {},
          "execution_count": 28
        }
      ]
    },
    {
      "cell_type": "code",
      "source": [
        "float_16_datatype*float_32_tensors"
      ],
      "metadata": {
        "colab": {
          "base_uri": "https://localhost:8080/"
        },
        "id": "Uc8FoPlCZbDi",
        "outputId": "0ed34fb0-d59d-42b5-d9d8-9d2e73bdfe76"
      },
      "execution_count": null,
      "outputs": [
        {
          "output_type": "execute_result",
          "data": {
            "text/plain": [
              "tensor([ 9., 36., 81.])"
            ]
          },
          "metadata": {},
          "execution_count": 29
        }
      ]
    },
    {
      "cell_type": "code",
      "source": [
        "inrt_32_tensor=torch.tensor([2,3,4],dtype=torch.int32)\n",
        "inrt_32_tensor"
      ],
      "metadata": {
        "colab": {
          "base_uri": "https://localhost:8080/"
        },
        "id": "BBk9pe79Zn2A",
        "outputId": "9314a128-bdce-4578-d697-5a95ae0c718f"
      },
      "execution_count": null,
      "outputs": [
        {
          "output_type": "execute_result",
          "data": {
            "text/plain": [
              "tensor([2, 3, 4], dtype=torch.int32)"
            ]
          },
          "metadata": {},
          "execution_count": 30
        }
      ]
    },
    {
      "cell_type": "markdown",
      "source": [
        "##Getting informaon from tensors\n",
        "1.Tensors not right dataype--ti do get datatype from a tensor can use tensor.dtype\n",
        "2--Tensors not right shape--to get shape form the tensor can ue tensor.shape\n",
        "3.Tensors not no the right device--To get device from a tensor ,can use tensor.device"
      ],
      "metadata": {
        "id": "-64YYFEhajLm"
      }
    },
    {
      "cell_type": "code",
      "source": [
        "#Creating a tensor\n",
        "some_tensor=torch.rand(3,4)\n",
        "some_tensor"
      ],
      "metadata": {
        "colab": {
          "base_uri": "https://localhost:8080/"
        },
        "id": "2nJaFex8aWiG",
        "outputId": "23fc6b75-b6c2-43a1-83e4-ec0ede338dc3"
      },
      "execution_count": null,
      "outputs": [
        {
          "output_type": "execute_result",
          "data": {
            "text/plain": [
              "tensor([[0.4071, 0.5625, 0.4482, 0.9300],\n",
              "        [0.4217, 0.7052, 0.4723, 0.7564],\n",
              "        [0.1757, 0.6134, 0.8260, 0.9781]])"
            ]
          },
          "metadata": {},
          "execution_count": 31
        }
      ]
    },
    {
      "cell_type": "code",
      "source": [
        "#find out details about some_tensor\n",
        "print(some_tensor)\n",
        "print(f\"Datatype of the tensor :{some_tensor.dtype}\")\n",
        "print(f\"Shape of the tensor is : {some_tensor.shape}\")\n",
        "print(f\"Device in ehich the tensor is on :{some_tensor.device}\")"
      ],
      "metadata": {
        "colab": {
          "base_uri": "https://localhost:8080/"
        },
        "id": "uiUT0b79bdH1",
        "outputId": "7571d02d-fae7-4a44-ecf5-f1156555292b"
      },
      "execution_count": null,
      "outputs": [
        {
          "output_type": "stream",
          "name": "stdout",
          "text": [
            "tensor([[0.4071, 0.5625, 0.4482, 0.9300],\n",
            "        [0.4217, 0.7052, 0.4723, 0.7564],\n",
            "        [0.1757, 0.6134, 0.8260, 0.9781]])\n",
            "Datatype of the tensor :torch.float32\n",
            "Shape of the tensor is : torch.Size([3, 4])\n",
            "Device in ehich the tensor is on :cpu\n"
          ]
        }
      ]
    },
    {
      "cell_type": "markdown",
      "source": [
        "##Manupalation of the tensors(tensor operation)\n",
        "Tensor operation includes\n",
        "1.Addition\n",
        "2.Subtraction\n",
        "3.multiplication (element wise)\n",
        "4.Division\n",
        "5.Matrix multiplications\n"
      ],
      "metadata": {
        "id": "60D2TqIWdWx4"
      }
    },
    {
      "cell_type": "code",
      "source": [
        "#cretae a tensor\n",
        "tenor=torch.tensor([1,2,3])\n",
        "tenor=tenor+100"
      ],
      "metadata": {
        "id": "C9gVlMsSfGoK"
      },
      "execution_count": null,
      "outputs": []
    },
    {
      "cell_type": "code",
      "source": [
        "#multiply the tensor\n",
        "tenor*10\n"
      ],
      "metadata": {
        "colab": {
          "base_uri": "https://localhost:8080/"
        },
        "id": "j9xOXsW9fdX-",
        "outputId": "db0d301d-ad79-4dd3-dc0f-3f792baf9595"
      },
      "execution_count": null,
      "outputs": [
        {
          "output_type": "execute_result",
          "data": {
            "text/plain": [
              "tensor([1010, 1020, 1030])"
            ]
          },
          "metadata": {},
          "execution_count": 34
        }
      ]
    },
    {
      "cell_type": "code",
      "source": [
        "tenor"
      ],
      "metadata": {
        "colab": {
          "base_uri": "https://localhost:8080/"
        },
        "id": "x36cUb08fyrY",
        "outputId": "239c6bf1-3dce-450f-cc55-de0990eac192"
      },
      "execution_count": null,
      "outputs": [
        {
          "output_type": "execute_result",
          "data": {
            "text/plain": [
              "tensor([101, 102, 103])"
            ]
          },
          "metadata": {},
          "execution_count": 35
        }
      ]
    },
    {
      "cell_type": "code",
      "source": [
        "#Subtraction\n",
        "tenor-10"
      ],
      "metadata": {
        "colab": {
          "base_uri": "https://localhost:8080/"
        },
        "id": "K1-RH7X8f7-1",
        "outputId": "380fd332-87f6-475f-a5a8-67fcfeed2f84"
      },
      "execution_count": null,
      "outputs": [
        {
          "output_type": "execute_result",
          "data": {
            "text/plain": [
              "tensor([91, 92, 93])"
            ]
          },
          "metadata": {},
          "execution_count": 36
        }
      ]
    },
    {
      "cell_type": "code",
      "source": [
        "#try out pytorch inbuild function\n",
        "torch.mul(tenor,10)"
      ],
      "metadata": {
        "colab": {
          "base_uri": "https://localhost:8080/"
        },
        "id": "qFBpmL8vgGFK",
        "outputId": "12f175be-280c-4c15-be47-694f8692d5ac"
      },
      "execution_count": null,
      "outputs": [
        {
          "output_type": "execute_result",
          "data": {
            "text/plain": [
              "tensor([1010, 1020, 1030])"
            ]
          },
          "metadata": {},
          "execution_count": 37
        }
      ]
    },
    {
      "cell_type": "code",
      "source": [
        "torch.add(tenor,10)"
      ],
      "metadata": {
        "colab": {
          "base_uri": "https://localhost:8080/"
        },
        "id": "5K14koBhgXHt",
        "outputId": "75e5ed3d-5299-4bca-a28d-bbd9816d2145"
      },
      "execution_count": null,
      "outputs": [
        {
          "output_type": "execute_result",
          "data": {
            "text/plain": [
              "tensor([111, 112, 113])"
            ]
          },
          "metadata": {},
          "execution_count": 38
        }
      ]
    },
    {
      "cell_type": "markdown",
      "source": [
        "#MATRIX multiplication\n",
        "Two main way of perforn multiplication in neural network and deep learning:\n",
        "1.Element _wise multiplication\n",
        "2.Matrix multiplication(dit product)\n",
        "\n",
        "There are two rules that perform matrix multiplication need to satisfy\n",
        "1)the inner dimension must match\n",
        "   ...(3,2) @ (3,2) .wont work\n",
        "   ...\n"
      ],
      "metadata": {
        "id": "IlWSMiT4hcuW"
      }
    },
    {
      "cell_type": "code",
      "source": [
        "#Element wise multiplications\n",
        "a=torch.tensor([2,3,4])\n",
        "b=torch.tensor([5,6,7])\n",
        "print(a,b)\n",
        "print(f\"The multipliacation of two tensors are :{a*b}\")\n"
      ],
      "metadata": {
        "colab": {
          "base_uri": "https://localhost:8080/"
        },
        "id": "PeLSe3Q9gw-w",
        "outputId": "b119b240-a10e-4882-d705-6a14826fb9c9"
      },
      "execution_count": null,
      "outputs": [
        {
          "output_type": "stream",
          "name": "stdout",
          "text": [
            "tensor([2, 3, 4]) tensor([5, 6, 7])\n",
            "The multipliacation of two tensors are :tensor([10, 18, 28])\n"
          ]
        }
      ]
    },
    {
      "cell_type": "code",
      "source": [
        "#MATRIX multiplication\n",
        "torch.matmul(a,b)"
      ],
      "metadata": {
        "colab": {
          "base_uri": "https://localhost:8080/"
        },
        "id": "RavqqCmBjc0r",
        "outputId": "f50f7bb6-9aba-4120-e480-7a84f30e63cf"
      },
      "execution_count": null,
      "outputs": [
        {
          "output_type": "execute_result",
          "data": {
            "text/plain": [
              "tensor(56)"
            ]
          },
          "metadata": {},
          "execution_count": 40
        }
      ]
    },
    {
      "cell_type": "markdown",
      "source": [
        "One of the most common errors in deeep learninh"
      ],
      "metadata": {
        "id": "daqO-e75mDNR"
      }
    },
    {
      "cell_type": "code",
      "source": [
        "#shapes for matrix multiplication\n",
        "a=torch.tensor([[1,2],\n",
        "                [3,4],\n",
        "                [5,6]])\n",
        "b=torch.tensor([[7,10],\n",
        "                [8,11],\n",
        "                [9,12]])\n",
        "\n",
        "multipl=torch.matmul(a,b.T)  # we can use mm insted of matmul both are same things\n",
        "\n",
        "print(multipl)\n",
        "\n"
      ],
      "metadata": {
        "id": "xDneGIEukMfl",
        "colab": {
          "base_uri": "https://localhost:8080/"
        },
        "outputId": "cbe173c5-ac97-4527-bbb9-0f819070326b"
      },
      "execution_count": null,
      "outputs": [
        {
          "output_type": "stream",
          "name": "stdout",
          "text": [
            "tensor([[ 27,  30,  33],\n",
            "        [ 61,  68,  75],\n",
            "        [ 95, 106, 117]])\n"
          ]
        }
      ]
    },
    {
      "cell_type": "code",
      "source": [
        "a.shape,b.shape\n"
      ],
      "metadata": {
        "id": "I8iyHHjtlUXs",
        "colab": {
          "base_uri": "https://localhost:8080/"
        },
        "outputId": "c36466fd-8ef7-40a2-b699-91c69fb410d2"
      },
      "execution_count": null,
      "outputs": [
        {
          "output_type": "execute_result",
          "data": {
            "text/plain": [
              "(torch.Size([3, 2]), torch.Size([3, 2]))"
            ]
          },
          "metadata": {},
          "execution_count": 42
        }
      ]
    },
    {
      "cell_type": "markdown",
      "source": [
        "TO FIXED OUT TENSOR FIXED ISSUE WE CAN MANUPLATE THE SHAPE FO ONE OF OUR TENSORD\n",
        "\n",
        "A transpose switches the axes or dimension of a given tensor\n"
      ],
      "metadata": {
        "id": "UXxg9L6HjKGx"
      }
    },
    {
      "cell_type": "code",
      "source": [
        "b.T,b.T.size()"
      ],
      "metadata": {
        "colab": {
          "base_uri": "https://localhost:8080/"
        },
        "id": "VCV0GhgKj-uH",
        "outputId": "bb2bafa4-9932-467e-9af3-e096c83073f8"
      },
      "execution_count": null,
      "outputs": [
        {
          "output_type": "execute_result",
          "data": {
            "text/plain": [
              "(tensor([[ 7,  8,  9],\n",
              "         [10, 11, 12]]),\n",
              " torch.Size([2, 3]))"
            ]
          },
          "metadata": {},
          "execution_count": 50
        }
      ]
    },
    {
      "cell_type": "code",
      "source": [
        "#the matrix multiplication Operation works when tensor B is transpose that mean changed\n",
        "print(f\"Original size of tensor A is :{a.shape} and Orginal shape of tensor B is :{b.shape}\")\n",
        "print(f\"New shape of tensor a is same that is {a.shape} but the shape of the tensor b is changed now b is {b.T.shape}\")\n",
        "print(\"output:\\n\")\n",
        "output=torch.matmul(a,b.T)\n",
        "print(output)\n",
        "print(f\"\\n  Output shape is : {output.shape}\")\n",
        "\n"
      ],
      "metadata": {
        "colab": {
          "base_uri": "https://localhost:8080/"
        },
        "id": "sDOjXrRuklQU",
        "outputId": "80790735-6430-4f0a-a118-77989f9d57f8"
      },
      "execution_count": null,
      "outputs": [
        {
          "output_type": "stream",
          "name": "stdout",
          "text": [
            "Original size of tensor A is :torch.Size([3, 2]) and Orginal shape of tensor B is :torch.Size([3, 2])\n",
            "New shape of tensor a is same that is torch.Size([3, 2]) but the shape of the tensor b is changed now b is torch.Size([2, 3])\n",
            "output:\n",
            "\n",
            "tensor([[ 27,  30,  33],\n",
            "        [ 61,  68,  75],\n",
            "        [ 95, 106, 117]])\n",
            "\n",
            "  Output shape is : torch.Size([3, 3])\n"
          ]
        }
      ]
    },
    {
      "cell_type": "markdown",
      "source": [
        " The main rule for marix multiplication is inner dimension of two matrix must match for\n",
        " matrix multiplication"
      ],
      "metadata": {
        "id": "NKJPGh77k0YA"
      }
    }
  ]
}